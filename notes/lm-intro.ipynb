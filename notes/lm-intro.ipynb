{
 "cells": [
  {
   "cell_type": "markdown",
   "metadata": {},
   "source": [
    "## Language Modeling\n",
    "\n",
    "Language modeling is the task of predicting the next word in a sequence of words. It is a type of machine learning algorithm that is used to generate text.\n",
    "\n",
    "The most common type of language model is called an autoregressive language model. It works by looking at a series of letters and trying to guess what letter comes next.\n",
    "\n",
    "An autoregressive language model is called \"autoregressive\" because it predicts the next element (like a character or word) based on the previous elements, similar to how a variable in statistics might depend on its own past values.\n",
    "\n",
    "  - \"Auto\" means \"self\" or \"on its own\"\n",
    "  - \"Regressive\" refers to \"going back\" or \"depending on previous values\"\n",
    "  \n",
    "So \"autoregressive\" essentially means the model relies on its own previous outputs or values to make predictions. It's like the model is constantly looking back at what it has already seen or produced to figure out what comes next.\n",
    "\n",
    "We're going to start by making a **character-level** language model. This is a kind of autoregressive model that looks at one letter at a time. We'll feed it a bunch of **names**, letter by letter. The model will try to learn patterns in these names. Once it learns these patterns, we can use it to create new names or predict what letter might come next in a name.\n",
    "\n",
    "We will build different types of neural network models for this task, including:\n",
    "  - Bigram (one character predicts the best or most likely next character)\n",
    "  - Bag of Words (one word predicts the best or most likely next word)\n",
    "  - MLP (multi-layer perceptron)\n",
    "  - RNN (recurrent neural network)\n",
    "  - Transformer\n",
    "\n",
    "We will use the **Character-Level Transformer Model** for our final model, as it is the most powerful and flexible model for this task."
   ]
  }
 ],
 "metadata": {
  "kernelspec": {
   "display_name": "venv",
   "language": "python",
   "name": "python3"
  },
  "language_info": {
   "codemirror_mode": {
    "name": "ipython",
    "version": 3
   },
   "file_extension": ".py",
   "mimetype": "text/x-python",
   "name": "python",
   "nbconvert_exporter": "python",
   "pygments_lexer": "ipython3",
   "version": "3.12.1"
  }
 },
 "nbformat": 4,
 "nbformat_minor": 2
}
