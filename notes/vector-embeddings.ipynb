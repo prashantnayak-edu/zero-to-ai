{
 "cells": [
  {
   "cell_type": "markdown",
   "metadata": {},
   "source": [
    "## Introduction to Vector Embeddings\n",
    "\n",
    "We have learnt what a vector is in the lesson [Data Structures - Scalars, Vectors, Matrices](./notes/data-structs.ipynb) and seen them used to train a basic neural network in [Neural Networks Part 2 - Training (MicroGrad)](./notes/nn-training.ipynb).\n",
    "\n",
    "In this lesson, we will learn about a special type of vector called an **embedding** and how it is used to represent words in a text.\n",
    "\n",
    "### Why Do We Need Numerical Representations of Data?\n",
    "\n",
    "In machine learning and data analysis, algorithms typically work with numerical data. To make predictions or find patterns, we need to represent our data in a way that algorithms can process mathematically.\n",
    "\n",
    "Remember our basic linear regression model?\n",
    "\n",
    "$$\n",
    "y = mx + c\n",
    "$$\n",
    "\n",
    "Here, we need to find the values of $m$ and $c$ that best fit the data. We do this by minimizing the error between the predicted values and the actual values.  Remember also that $x$ can be a scalar or a vector, i.e. have multiple values or features.\n",
    "\n",
    "E.g. if we have a dataset of house prices, we might have a vector of features such as the number of bedrooms, the number of bathrooms, the size of the house, the location, etc."
   ]
  },
  {
   "cell_type": "code",
   "execution_count": 5,
   "metadata": {},
   "outputs": [],
   "source": [
    "import numpy as np\n",
    "from sklearn.linear_model import LinearRegression\n",
    "\n",
    "# Sample data for four different houses\n",
    "# [Size (square feet), Number of bedrooms, Number of bathrooms]\n",
    "X = np.array([\n",
    "    [1500, 2, 1],   # house 1\n",
    "    [2500, 3, 2],   # house 2   \n",
    "    [3000, 4, 2],   # house 3\n",
    "    [3500, 5, 3]    # house 4\n",
    "])\n",
    "\n",
    "# House prices (hundereds of thousands of dollars) for the same four houses above\n",
    "y = np.array([200000, 300000, 350000, 400000])\n",
    "\n",
    "model = LinearRegression()\n",
    "model.fit(X, y)\n",
    "\n",
    "# Predict the price of a house with 3 bedrooms, 2 bathrooms, and 1500 square feet\n",
    "new_house = np.array([[1750, 3, 1]])"
   ]
  },
  {
   "cell_type": "code",
   "execution_count": 6,
   "metadata": {},
   "outputs": [
    {
     "name": "stdout",
     "output_type": "stream",
     "text": [
      "The predicted price of the house is $225,000.00\n"
     ]
    }
   ],
   "source": [
    "predicted_price = model.predict(new_house)\n",
    "print(f\"The predicted price of the house is ${predicted_price[0]:,.2f}\")"
   ]
  },
  {
   "cell_type": "markdown",
   "metadata": {},
   "source": [
    "### Explanation:\n",
    "We have a dataset of four houses with their features and prices. We want to predict the price of a new house with 3 bedrooms, 2 bathrooms, and 1500 square feet. We use the *LinearRegression* model (this is using a python library called *sklearn*) to find the best fit line between the features and the price. We then use the *predict* method to predict the price of the new house."
   ]
  },
  {
   "cell_type": "markdown",
   "metadata": {},
   "source": [
    "### Challenges with text data\n",
    "\n",
    "Sometimes our data is not numerical like the house prices example above.  If our data is text, then we need to convert this text into a numerical representation.  This is where **embeddings** come in."
   ]
  },
  {
   "cell_type": "markdown",
   "metadata": {},
   "source": [
    "### What is an embedding?\n",
    "\n",
    "An embedding is simply a clever way of turning words into numbers. A Vector embedding is just the same data reprsented as a vector.\n",
    "\n",
    "The term embed means to place something firmly into a space.  So we are placing our text into a vector space - i.e. the space of numbers that can mathematically represent our text. \n",
    "\n",
    "Typically if our input is a set of text (e.g. a chapter from a book), then the first step is to break this text into individual words.  We call this process **tokenization**. \n",
    "\n",
    "Then, each word (or token) is converted into a numberical vector. This numerical vector is called the **vector embedding** of the word. \n",
    "\n",
    "Lets use a simple example.  If we have three words - cat, dog and mouse.  We can represent each of these as a three dimensional vector. \n",
    "\n",
    "For cat we make the first value in the vector 1.  \n",
    "\n",
    "So $cat = [1, 0, 0]$.\n",
    "\n",
    "For dog we make the second value in the vector 1. \n",
    "\n",
    "So $dog = [0, 1, 0]$.\n",
    "\n",
    "For mouse we make the third value in the vector 1. \n",
    "\n",
    "So $mouse = [0, 0, 1]$.\n",
    "\n",
    "This approach of using a different value with 1 is called a **one-hot encoding**. This is because only one of the values in a vector is 1 for any particular word and the rest are 0. \n",
    "\n",
    "Of course you can see the limitation here, in that there is only three words we can represent with this approach. The minute we add another word, we have to increase the size of our vectors by 1.\n",
    "\n",
    "In addition two the limitation above, there are three other important things we would like our vector embeddings to do:\n",
    "\n",
    "1. **Meaning:** Each vector should be able to capture the meaning of the word\n",
    "2. **Relationship:** We would like the vectors to represent the relationship between the words. For e.g. if we have cat and cheetah, could the vector for each of these words have some things in common, i.e. the vectors should be similar in some way?\n",
    "3. **Context:** We would like to be able to capture the context in which a word occurs. For e.g. in the sentence \"The cat in the hat\", the word \"cat\" has a different meaning than in the sentence \"The dog in the hat\".\n",
    "\n",
    "Lets next look at a slightly more sophisticated approach that could address some of these issues."
   ]
  },
  {
   "cell_type": "code",
   "execution_count": 7,
   "metadata": {},
   "outputs": [],
   "source": [
    "# Sample corpus\n",
    "corpus = [\n",
    "    \"The cat sat on the mat\",\n",
    "    \"A dog barked at the mailman\",\n",
    "    \"The cheetah is the fastest land animal\",\n",
    "    \"Cats and dogs are common pets\",\n",
    "    \"Cheetahs are big cats\",\n",
    "    \"The dog chased the cat\",\n",
    "    \"A cheetah can run very fast\",\n",
    "    \"Dogs and cats can live together\",\n",
    "    \"The cat in the hat\",\n",
    "    \"The cheetah hunts in the grasslands\"\n",
    "]"
   ]
  },
  {
   "cell_type": "code",
   "execution_count": 9,
   "metadata": {},
   "outputs": [
    {
     "name": "stdout",
     "output_type": "stream",
     "text": [
      "Vocabulary: ['a', 'and', 'animal', 'are', 'at', 'barked', 'big', 'can', 'cat', 'cats', 'chased', 'cheetah', 'cheetahs', 'common', 'dog', 'dogs', 'fast', 'fastest', 'grasslands', 'hat', 'hunts', 'in', 'is', 'land', 'live', 'mailman', 'mat', 'on', 'pets', 'run', 'sat', 'the', 'together', 'very']\n",
      "Word to ID: {'a': 0, 'and': 1, 'animal': 2, 'are': 3, 'at': 4, 'barked': 5, 'big': 6, 'can': 7, 'cat': 8, 'cats': 9, 'chased': 10, 'cheetah': 11, 'cheetahs': 12, 'common': 13, 'dog': 14, 'dogs': 15, 'fast': 16, 'fastest': 17, 'grasslands': 18, 'hat': 19, 'hunts': 20, 'in': 21, 'is': 22, 'land': 23, 'live': 24, 'mailman': 25, 'mat': 26, 'on': 27, 'pets': 28, 'run': 29, 'sat': 30, 'the': 31, 'together': 32, 'very': 33}\n",
      "ID to Word: {0: 'a', 1: 'and', 2: 'animal', 3: 'are', 4: 'at', 5: 'barked', 6: 'big', 7: 'can', 8: 'cat', 9: 'cats', 10: 'chased', 11: 'cheetah', 12: 'cheetahs', 13: 'common', 14: 'dog', 15: 'dogs', 16: 'fast', 17: 'fastest', 18: 'grasslands', 19: 'hat', 20: 'hunts', 21: 'in', 22: 'is', 23: 'land', 24: 'live', 25: 'mailman', 26: 'mat', 27: 'on', 28: 'pets', 29: 'run', 30: 'sat', 31: 'the', 32: 'together', 33: 'very'}\n"
     ]
    }
   ],
   "source": [
    "import numpy as np\n",
    "\n",
    "# Tokenize and preprocess\n",
    "tokenized_corpus = []\n",
    "for sentence in corpus:\n",
    "    tokens = sentence.lower().split()\n",
    "    tokenized_corpus.append(tokens)\n",
    "\n",
    "# Build vocabulary\n",
    "vocab = sorted(set(word for sentence in tokenized_corpus for word in sentence))\n",
    "word_to_id = {word: idx for idx, word in enumerate(vocab)}\n",
    "id_to_word = {idx: word for word, idx in word_to_id.items()}\n",
    "\n",
    "print(\"Vocabulary:\", vocab)\n",
    "print(\"Word to ID:\", word_to_id)\n",
    "print(\"ID to Word:\", id_to_word)\n"
   ]
  },
  {
   "cell_type": "code",
   "execution_count": 10,
   "metadata": {},
   "outputs": [
    {
     "name": "stdout",
     "output_type": "stream",
     "text": [
      "Initial Embedding for 'cat': [-0.1045977  -0.85812358  0.92050737  0.67149673  0.34570203]\n"
     ]
    }
   ],
   "source": [
    "# Embedding size (number of dimensions)\n",
    "embedding_size = 5  # Keep it small for simplicity\n",
    "\n",
    "# Initialize embeddings randomly\n",
    "embedding_matrix = np.random.uniform(-1, 1, (len(vocab), embedding_size))\n",
    "\n",
    "print(\"Initial Embedding for 'cat':\", embedding_matrix[word_to_id['cat']])"
   ]
  },
  {
   "cell_type": "code",
   "execution_count": 11,
   "metadata": {},
   "outputs": [],
   "source": [
    "# Context window size (number of words to the left and right)\n",
    "window_size = 2"
   ]
  },
  {
   "cell_type": "code",
   "execution_count": 12,
   "metadata": {},
   "outputs": [
    {
     "name": "stdout",
     "output_type": "stream",
     "text": [
      "Sample Training Data (word IDs): [(31, 8), (31, 30), (8, 31), (8, 30), (8, 27)]\n"
     ]
    }
   ],
   "source": [
    "# Generate training data\n",
    "training_data = []\n",
    "\n",
    "for sentence in tokenized_corpus:\n",
    "    sentence_length = len(sentence)\n",
    "    for index, target_word in enumerate(sentence):\n",
    "        target_word_id = word_to_id[target_word]\n",
    "        # Define context window boundaries\n",
    "        start = max(0, index - window_size)\n",
    "        end = min(sentence_length, index + window_size + 1)\n",
    "        # Collect context words\n",
    "        context_words = [sentence[i] for i in range(start, end) if i != index]\n",
    "        for context_word in context_words:\n",
    "            context_word_id = word_to_id[context_word]\n",
    "            training_data.append((target_word_id, context_word_id))\n",
    "\n",
    "print(\"Sample Training Data (word IDs):\", training_data[:5])"
   ]
  },
  {
   "cell_type": "code",
   "execution_count": 13,
   "metadata": {},
   "outputs": [],
   "source": [
    "def sigmoid(x):\n",
    "    return 1 / (1 + np.exp(-x))"
   ]
  },
  {
   "cell_type": "code",
   "execution_count": 14,
   "metadata": {},
   "outputs": [
    {
     "name": "stdout",
     "output_type": "stream",
     "text": [
      "Epoch 100/1000, Loss: 4.9613\n",
      "Epoch 200/1000, Loss: 1.5525\n",
      "Epoch 300/1000, Loss: 0.8478\n",
      "Epoch 400/1000, Loss: 0.5651\n",
      "Epoch 500/1000, Loss: 0.4169\n",
      "Epoch 600/1000, Loss: 0.3271\n",
      "Epoch 700/1000, Loss: 0.2674\n",
      "Epoch 800/1000, Loss: 0.2250\n",
      "Epoch 900/1000, Loss: 0.1936\n",
      "Epoch 1000/1000, Loss: 0.1694\n"
     ]
    }
   ],
   "source": [
    "# Hyperparameters\n",
    "learning_rate = 0.01\n",
    "epochs = 1000\n",
    "\n",
    "# Training loop\n",
    "for epoch in range(epochs):\n",
    "    total_loss = 0\n",
    "    for target_id, context_id in training_data:\n",
    "        # Get embeddings\n",
    "        target_vector = embedding_matrix[target_id]\n",
    "        context_vector = embedding_matrix[context_id]\n",
    "\n",
    "        # Calculate similarity (dot product)\n",
    "        similarity = np.dot(target_vector, context_vector)\n",
    "\n",
    "        # Calculate loss (we want the similarity to be high)\n",
    "        loss = -np.log(sigmoid(similarity))\n",
    "        total_loss += loss\n",
    "\n",
    "        # Calculate gradients\n",
    "        grad = (sigmoid(similarity) - 1)  # Derivative of loss w.r.t similarity\n",
    "\n",
    "        # Update embeddings\n",
    "        embedding_matrix[target_id] -= learning_rate * grad * context_vector\n",
    "        embedding_matrix[context_id] -= learning_rate * grad * target_vector\n",
    "\n",
    "    if (epoch + 1) % 100 == 0:\n",
    "        print(f\"Epoch {epoch+1}/{epochs}, Loss: {total_loss:.4f}\")\n",
    "\n",
    "def sigmoid(x):\n",
    "    return 1 / (1 + np.exp(-x))"
   ]
  },
  {
   "cell_type": "code",
   "execution_count": 15,
   "metadata": {},
   "outputs": [
    {
     "name": "stdout",
     "output_type": "stream",
     "text": [
      "Similarity between 'cat' and 'dog': 0.6329\n",
      "Similarity between 'cat' and 'cheetah': 0.5685\n",
      "Similarity between 'cat' and 'hat': 0.6092\n",
      "Similarity between 'cat' and 'grasslands': 0.4044\n",
      "\n",
      "Similarity between 'dog' and 'cat': 0.6329\n",
      "Similarity between 'dog' and 'cheetah': 0.8728\n",
      "Similarity between 'dog' and 'hat': 0.3381\n",
      "Similarity between 'dog' and 'grasslands': 0.3671\n",
      "\n",
      "Similarity between 'cheetah' and 'cat': 0.5685\n",
      "Similarity between 'cheetah' and 'dog': 0.8728\n",
      "Similarity between 'cheetah' and 'hat': 0.5451\n",
      "Similarity between 'cheetah' and 'grasslands': 0.6315\n",
      "\n",
      "Similarity between 'hat' and 'cat': 0.6092\n",
      "Similarity between 'hat' and 'dog': 0.3381\n",
      "Similarity between 'hat' and 'cheetah': 0.5451\n",
      "Similarity between 'hat' and 'grasslands': 0.9419\n",
      "\n",
      "Similarity between 'grasslands' and 'cat': 0.4044\n",
      "Similarity between 'grasslands' and 'dog': 0.3671\n",
      "Similarity between 'grasslands' and 'cheetah': 0.6315\n",
      "Similarity between 'grasslands' and 'hat': 0.9419\n",
      "\n"
     ]
    }
   ],
   "source": [
    "def cosine_similarity(vec1, vec2):\n",
    "    return np.dot(vec1, vec2) / (np.linalg.norm(vec1) * np.linalg.norm(vec2))\n",
    "\n",
    "# List of words to compare\n",
    "words = ['cat', 'dog', 'cheetah', 'hat', 'grasslands']\n",
    "\n",
    "# Compute similarities\n",
    "for word1 in words:\n",
    "    for word2 in words:\n",
    "        if word1 != word2:\n",
    "            sim = cosine_similarity(embedding_matrix[word_to_id[word1]], embedding_matrix[word_to_id[word2]])\n",
    "            print(f\"Similarity between '{word1}' and '{word2}': {sim:.4f}\")\n",
    "    print()"
   ]
  },
  {
   "cell_type": "code",
   "execution_count": 16,
   "metadata": {},
   "outputs": [
    {
     "data": {
      "image/png": "[encoded data removed]",
      "text/plain": [
       "<Figure size 800x600 with 1 Axes>"
      ]
     },
     "metadata": {},
     "output_type": "display_data"
    }
   ],
   "source": [
    "from sklearn.decomposition import PCA\n",
    "import matplotlib.pyplot as plt\n",
    "\n",
    "# Words to visualize\n",
    "words_to_visualize = ['cat', 'dog', 'cheetah', 'hat', 'grasslands', 'pets', 'fast']\n",
    "\n",
    "# Get embeddings\n",
    "embeddings_subset = np.array([embedding_matrix[word_to_id[word]] for word in words_to_visualize])\n",
    "\n",
    "# Reduce dimensions\n",
    "pca = PCA(n_components=2)\n",
    "reduced_embeddings = pca.fit_transform(embeddings_subset)\n",
    "\n",
    "# Plot\n",
    "plt.figure(figsize=(8, 6))\n",
    "for i, word in enumerate(words_to_visualize):\n",
    "    x, y = reduced_embeddings[i]\n",
    "    plt.scatter(x, y)\n",
    "    plt.annotate(word, (x + 0.01, y + 0.01))\n",
    "plt.title(\"Word Embeddings Visualization\")\n",
    "plt.xlabel(\"PCA Dimension 1\")\n",
    "plt.ylabel(\"PCA Dimension 2\")\n",
    "plt.grid(True)\n",
    "plt.show()"
   ]
  }
 ],
 "metadata": {
  "kernelspec": {
   "display_name": "venv",
   "language": "python",
   "name": "python3"
  },
  "language_info": {
   "codemirror_mode": {
    "name": "ipython",
    "version": 3
   },
   "file_extension": ".py",
   "mimetype": "text/x-python",
   "name": "python",
   "nbconvert_exporter": "python",
   "pygments_lexer": "ipython3",
   "version": "3.12.1"
  }
 },
 "nbformat": 4,
 "nbformat_minor": 2
}
