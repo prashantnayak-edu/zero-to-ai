{
 "cells": [
  {
   "cell_type": "markdown",
   "metadata": {},
   "source": [
    "## Learning from data\n",
    "\n",
    "In machine learning, a model is nothing more than an equation.  We are all familar with simple equations like \n",
    "\n",
    "$$\n",
    "y = 2x + 3\n",
    "$$\n",
    "\n",
    "This represents a simple, linear relationship between x and y\n",
    "\n",
    "For any value $x \\in R$, it is quite easy to determine the value of y.\n",
    "\n",
    "In other words, this model predicts the value of y, given any $x \\in R$"
   ]
  },
  {
   "cell_type": "markdown",
   "metadata": {},
   "source": [
    "Typically in machine learning though, we are working with lots of data (or signals).\n",
    "\n",
    "For example, we could be capturing signals that represent the square footage of homes sold and the price in dollars.  In this simple case, the $x$ is the square footage and the $y$ is the price that the home sold for. \n",
    "\n",
    "The relationship between $x$ and $y$ in this case would likely be some kind of quadratic curve of the form\n",
    "\n",
    "$$\n",
    "y = wx^2 + b\n",
    "$$\n",
    "\n",
    "In the more complicated case, we could be capturing the square footage and the year the home was built and the corresponding home price.\n",
    "\n",
    "The relationship between $x$ and $y$ in this case would likely be some more complex and a higher dimensional plane of the form of the form\n",
    "\n",
    "$$\n",
    "y = w_1x_1^2 + w_2x_2 + b\n",
    "$$\n",
    "\n",
    "In this case, the square footage and year would typically be referred to as _features_.  And would typically be represented as a feature vector\n",
    "\n",
    "$$\n",
    "V = [x_1, x_2]\n",
    "$$\n",
    "\n",
    "Lets put this all together a bit more formally:\n",
    "\n",
    "The simplest use case for a model trained from data is when a signal $x$ is accessible, for instance, the picture of a license plate, from which one wants to predict a quantity $y$,such as the string of characters written on the plate\n",
    "\n",
    "In many real-world situations where $x$ is a high-dimensional signal captured in an uncontrolled environment, it is too complicated to come up with an analytical recipe that relates $x$ and $y$.\n",
    "\n",
    "What one can do is to collect a large training set $D$ of pairs $(xn,yn)$, and devise a parametric model $f$. \n",
    "\n",
    "Typically, $f$ is a piece of computer code that incorporates trainable parameters $w$ that\n",
    "modulate its behavior, and such that, with theproper values $w$, it is a good predictor. “Good” here means that if an $x$ is given to this piece of code, the value $y= f(x;w)$ it computes is a good estimate of the y that would have been associated with x in the training set had it been there.\n",
    "\n",
    "This notion of goodness is usually formalized with a loss $L(w)$ which is small when $f(·;w)$ is good on $D$. Then, training the model consists of computing a value $w$ that minimizes $L(w)$."
   ]
  },
  {
   "cell_type": "markdown",
   "metadata": {},
   "source": []
  }
 ],
 "metadata": {
  "language_info": {
   "name": "python"
  }
 },
 "nbformat": 4,
 "nbformat_minor": 2
}
