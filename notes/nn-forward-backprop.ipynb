{
  "cells": [
    {
      "cell_type": "markdown",
      "metadata": {},
      "source": [
        "##Neural Networks - Forward Pass and Backpropagation\n",
        "\n",
        "In this lesson, we're going to do intuitive work on forward pass, back-propagation, loss functions and auto-gradient descent.  We will focus on training in the next lesson.\n",
        "\n",
        "Forward pass, back-propagation, loss functions and auto-gradient descent are key to understand training neural networks... In Andrej Karpathy's own words - \"all the rest is just efficiencies\".\n",
        "\n",
        "We are going to develop this lesson in Python code.  Lets start with importing in the libraries we need - the core ones are the math, numpy and matplotlib libraries."
      ]
    },
    {
      "cell_type": "code",
      "execution_count": 15,
      "metadata": {
        "id": "e1I7YJiU6YrF"
      },
      "outputs": [],
      "source": [
        "import math\n",
        "import numpy as np\n",
        "import matplotlib.pyplot as plt\n",
        "%matplotlib inline"
      ]
    },
    {
      "cell_type": "markdown",
      "metadata": {},
      "source": [
        "#### Function of a single variable\n",
        "\n",
        "Lets start with an arbitrary scalar valued function $f(x)$.  It takes $x$ and returns $y$\n",
        "\n",
        "$$\n",
        "y = f(x) = 3x^2 - 4x + 5\n",
        "$$\n",
        "\n",
        "This function in Python, is written as follows:"
      ]
    },
    {
      "cell_type": "code",
      "execution_count": 16,
      "metadata": {
        "id": "-ir5vPCx-lMx"
      },
      "outputs": [],
      "source": [
        "\n",
        "# arbitrary scalar value function - takes x and returns y\n",
        "def f(x):\n",
        "  return 3*x**2 - 4*x + 5"
      ]
    },
    {
      "cell_type": "markdown",
      "metadata": {},
      "source": [
        "So for e.g., if $x = 3$"
      ]
    },
    {
      "cell_type": "code",
      "execution_count": 17,
      "metadata": {
        "colab": {
          "base_uri": "https://localhost:8080/"
        },
        "id": "xSNEjZWj-0DM",
        "outputId": "a191983d-49dd-4a87-8e17-500992caf229"
      },
      "outputs": [
        {
          "data": {
            "text/plain": [
              "20.0"
            ]
          },
          "execution_count": 17,
          "metadata": {},
          "output_type": "execute_result"
        }
      ],
      "source": [
        "f(3.0)"
      ]
    },
    {
      "cell_type": "markdown",
      "metadata": {},
      "source": [
        "Lets plot this function and see what it looks like.  We use a range  values for $x$ from -5 through 5 with a step of 0.25"
      ]
    },
    {
      "cell_type": "code",
      "execution_count": 18,
      "metadata": {
        "colab": {
          "base_uri": "https://localhost:8080/",
          "height": 447
        },
        "id": "JkbqaGxD-2Lq",
        "outputId": "bdc0bcc0-5b60-4e08-ec34-04c1ea147210"
      },
      "outputs": [
        {
          "data": {
            "text/plain": [
              "array([-5.  , -4.75, -4.5 , -4.25, -4.  , -3.75, -3.5 , -3.25, -3.  ,\n",
              "       -2.75, -2.5 , -2.25, -2.  , -1.75, -1.5 , -1.25, -1.  , -0.75,\n",
              "       -0.5 , -0.25,  0.  ,  0.25,  0.5 ,  0.75,  1.  ,  1.25,  1.5 ,\n",
              "        1.75,  2.  ,  2.25,  2.5 ,  2.75,  3.  ,  3.25,  3.5 ,  3.75,\n",
              "        4.  ,  4.25,  4.5 ,  4.75])"
            ]
          },
          "execution_count": 18,
          "metadata": {},
          "output_type": "execute_result"
        }
      ],
      "source": [
        "xs = np.arange(-5, 5, 0.25)\n",
        "ys = f(xs)\n",
        "xs # this just prints the value of xs"
      ]
    },
    {
      "cell_type": "code",
      "execution_count": 19,
      "metadata": {},
      "outputs": [
        {
          "data": {
            "text/plain": [
              "array([100.    ,  91.6875,  83.75  ,  76.1875,  69.    ,  62.1875,\n",
              "        55.75  ,  49.6875,  44.    ,  38.6875,  33.75  ,  29.1875,\n",
              "        25.    ,  21.1875,  17.75  ,  14.6875,  12.    ,   9.6875,\n",
              "         7.75  ,   6.1875,   5.    ,   4.1875,   3.75  ,   3.6875,\n",
              "         4.    ,   4.6875,   5.75  ,   7.1875,   9.    ,  11.1875,\n",
              "        13.75  ,  16.6875,  20.    ,  23.6875,  27.75  ,  32.1875,\n",
              "        37.    ,  42.1875,  47.75  ,  53.6875])"
            ]
          },
          "execution_count": 19,
          "metadata": {},
          "output_type": "execute_result"
        }
      ],
      "source": [
        "ys # this just prints the value of ys"
      ]
    },
    {
      "cell_type": "code",
      "execution_count": 20,
      "metadata": {},
      "outputs": [
        {
          "data": {
            "text/plain": [
              "[<matplotlib.lines.Line2D at 0x10f6a77a0>]"
            ]
          },
          "execution_count": 20,
          "metadata": {},
          "output_type": "execute_result"
        },
        {
          "data": {
            "image/png": "[encoded data removed]",
            "text/plain": [
              "<Figure size 640x480 with 1 Axes>"
            ]
          },
          "metadata": {},
          "output_type": "display_data"
        }
      ],
      "source": [
        "plt.plot(xs, ys)"
      ]
    },
    {
      "cell_type": "markdown",
      "metadata": {},
      "source": [
        "Next we want figure out what the derivative of this equation looks like.  The Wikipedia definition of a [deriviative](https://en.wikipedia.org/wiki/Derivative) is as follows:\n",
        "\n",
        "Given a function $$f(x)$$ its derivative is written as\n",
        "\n",
        "$$\n",
        "\\lim_{h \\to 0} \\frac{f(x+h) - f(x)}{h}\n",
        "$$\n",
        "\n",
        "The slope is referred to as the **Gradient**. (_Note: there is a precise defintion that might differ from slope - but they are close enough_)\n",
        "\n",
        "_So if we bump up x at a particular point in the function by a very small value h, how does that function respond, i.e. by what sensitivitiy, basically the slope of the response at that point, how much does the function go up or down_"
      ]
    },
    {
      "cell_type": "code",
      "execution_count": 21,
      "metadata": {
        "colab": {
          "base_uri": "https://localhost:8080/"
        },
        "id": "ucCZSsyo_ko6",
        "outputId": "ca7d3534-4eb6-4ba8-eaa7-d50c73000b45"
      },
      "outputs": [
        {
          "data": {
            "text/plain": [
              "14.000001158365194"
            ]
          },
          "execution_count": 21,
          "metadata": {},
          "output_type": "execute_result"
        }
      ],
      "source": [
        "h = 0.000000001\n",
        "x = 3.0 # we expect a positive slope at x=3\n",
        "(f(x+h) - f(x))/h"
      ]
    },
    {
      "cell_type": "code",
      "execution_count": 22,
      "metadata": {},
      "outputs": [
        {
          "data": {
            "image/png": "[encoded data removed]",
            "text/plain": [
              "<Figure size 640x480 with 1 Axes>"
            ]
          },
          "metadata": {},
          "output_type": "display_data"
        }
      ],
      "source": [
        "\n",
        "plt.plot(xs, f(xs))\n",
        "\n",
        "# Function to plot tangent line\n",
        "def plot_tangent(x0, y0, slope, color='r'):\n",
        "    x_tangent = np.array([x0 - 1, x0 + 1])\n",
        "    y_tangent = slope * (x_tangent - x0) + y0\n",
        "    plt.plot(x_tangent, y_tangent, color, linestyle='--', linewidth=2)\n",
        "\n",
        "# show the tangent lines at x = 3.0\n",
        "y = f(x)  # f is our original function\n",
        "slope = (f(x+h) - f(x))/h\n",
        "plot_tangent(x, y, slope)\n",
        "plt.plot(x, y, 'ro')  # Add a red dot at the tangent point\n",
        "\n",
        "plt.xlabel('x')\n",
        "plt.ylabel('y')\n",
        "plt.title('Function with Tangent Lines')\n",
        "plt.grid(True)\n",
        "plt.show()"
      ]
    },
    {
      "cell_type": "markdown",
      "metadata": {},
      "source": [
        "So at x = 3, the slope is 14 (you can get the same answer by manually plugging in x into the equation).  This means that the function responds postitively (i.e. going up to the right) "
      ]
    },
    {
      "cell_type": "code",
      "execution_count": 23,
      "metadata": {
        "colab": {
          "base_uri": "https://localhost:8080/"
        },
        "id": "YkRbE9OVABCr",
        "outputId": "248ddeab-5c6c-4851-dced-07a7610d0da5"
      },
      "outputs": [
        {
          "data": {
            "text/plain": [
              "-22.000001820288162"
            ]
          },
          "execution_count": 23,
          "metadata": {},
          "output_type": "execute_result"
        }
      ],
      "source": [
        "x = -3.0 # we expect a negative slope at x=-3\n",
        "(f(x+h) - f(x))/h"
      ]
    },
    {
      "cell_type": "code",
      "execution_count": 24,
      "metadata": {},
      "outputs": [
        {
          "data": {
            "image/png": "[encoded data removed]",
            "text/plain": [
              "<Figure size 640x480 with 1 Axes>"
            ]
          },
          "metadata": {},
          "output_type": "display_data"
        }
      ],
      "source": [
        "plt.plot(xs, f(xs))\n",
        "\n",
        "# show the tangent lines at x = -3.0\n",
        "y = f(x)  # f is our original function\n",
        "slope = (f(x+h) - f(x))/h\n",
        "plot_tangent(x, y, slope)\n",
        "plt.plot(x, y, 'ro')  # Add a red dot at the tangent point\n",
        "\n",
        "plt.xlabel('x')\n",
        "plt.ylabel('y')\n",
        "plt.title('Function with Tangent Lines')\n",
        "plt.grid(True)\n",
        "plt.show()"
      ]
    },
    {
      "cell_type": "markdown",
      "metadata": {},
      "source": [
        "So at x = -3, the slope is 22 (again, you can get the same answer by manually plugging in x into the equation).  This means that the function responds negatively (i.e. going downward) "
      ]
    },
    {
      "cell_type": "code",
      "execution_count": 25,
      "metadata": {
        "colab": {
          "base_uri": "https://localhost:8080/"
        },
        "id": "ltQAFPCEADGM",
        "outputId": "124e048b-03f9-4ef2-bee3-d8cc0d1bbf40"
      },
      "outputs": [
        {
          "data": {
            "text/plain": [
              "0.002000177801164682"
            ]
          },
          "execution_count": 25,
          "metadata": {},
          "output_type": "execute_result"
        }
      ],
      "source": [
        "x = 0.667 # we expect a zero slope at x=0.6666\n",
        "(f(x+h) - f(x))/h"
      ]
    },
    {
      "cell_type": "code",
      "execution_count": 26,
      "metadata": {},
      "outputs": [
        {
          "data": {
            "image/png": "[encoded data removed]",
            "text/plain": [
              "<Figure size 640x480 with 1 Axes>"
            ]
          },
          "metadata": {},
          "output_type": "display_data"
        }
      ],
      "source": [
        "plt.plot(xs, f(xs))\n",
        "\n",
        "# show the tangent lines at x = 3.0\n",
        "y = f(x)  # f is our original function\n",
        "slope = (f(x+h) - f(x))/h\n",
        "plot_tangent(x, y, slope)\n",
        "plt.plot(x, y, 'ro')  # Add a red dot at the tangent point\n",
        "\n",
        "plt.xlabel('x')\n",
        "plt.ylabel('y')\n",
        "plt.title('Function with Tangent Lines')\n",
        "plt.grid(True)\n",
        "plt.show()"
      ]
    },
    {
      "cell_type": "markdown",
      "metadata": {},
      "source": [
        "At a specific point (x = 2/3) the slope is zero (i.e. there is minimal or zero response or change to incrementing x by a small amount h)"
      ]
    },
    {
      "cell_type": "markdown",
      "metadata": {},
      "source": [
        "#### Function of multiple variables\n",
        "\n",
        "Lets now use a function that has multiple variables and see how the gradient is affected by each of those variables"
      ]
    },
    {
      "cell_type": "code",
      "execution_count": 27,
      "metadata": {
        "colab": {
          "base_uri": "https://localhost:8080/"
        },
        "id": "FQT-AgxzAdm2",
        "outputId": "82a5c176-925f-49bb-9a78-33d0a4752eb8"
      },
      "outputs": [
        {
          "name": "stdout",
          "output_type": "stream",
          "text": [
            "4.0\n"
          ]
        }
      ],
      "source": [
        "# lets get more complex\n",
        "a = 2.0\n",
        "b = -3.0\n",
        "c = 10.0\n",
        "d = a*b + c\n",
        "print(d)"
      ]
    },
    {
      "cell_type": "markdown",
      "metadata": {},
      "source": [
        "Lets figure out derivative of d w.r.t. each of a, b and c"
      ]
    },
    {
      "cell_type": "code",
      "execution_count": 28,
      "metadata": {
        "colab": {
          "base_uri": "https://localhost:8080/"
        },
        "id": "t6BrgbjTAdoJ",
        "outputId": "fb19d81b-25ac-4b11-baf5-e2a28e6bf4e2"
      },
      "outputs": [
        {
          "name": "stdout",
          "output_type": "stream",
          "text": [
            "d1 4.0\n",
            "d2 3.999699999999999\n",
            "slope -3.000000000010772\n"
          ]
        }
      ],
      "source": [
        "# small amount to vary each variable a, b, c by\n",
        "h = 0.0001\n",
        "\n",
        "# inputs\n",
        "a = 2.0\n",
        "b = -3.0\n",
        "c = 10.0\n",
        "\n",
        "d1 = a*b + c\n",
        "a += h # bump up a by h (a very small value)\n",
        "d2 = a*b + c\n",
        "\n",
        "print('d1', d1)\n",
        "print('d2', d2) # since a will become slightly more positive but is multipled by b which \n",
        "                # is negative we expect d2 to be slightly smaller\n",
        "print('slope', (d2-d1)/h) # gradient"
      ]
    },
    {
      "cell_type": "markdown",
      "metadata": {},
      "source": [
        "So the gradient of d with respect to a (i.e. $dd/da$) has a negative slope.  So a small change in a changes d in a downward direction.\n",
        "\n",
        "Lets see how a small change\n",
        " in b affects the gradient."
      ]
    },
    {
      "cell_type": "code",
      "execution_count": 29,
      "metadata": {},
      "outputs": [
        {
          "name": "stdout",
          "output_type": "stream",
          "text": [
            "d1 4.0\n",
            "d2 4.0002\n",
            "slope 2.0000000000042206\n"
          ]
        }
      ],
      "source": [
        "# inputs\n",
        "a = 2.0\n",
        "b = -3.0\n",
        "c = 10.0\n",
        "\n",
        "d1 = a*b + c\n",
        "b += h # bump up b by h (a very small value)\n",
        "d2 = a*b + c\n",
        "\n",
        "print('d1', d1)\n",
        "print('d2', d2) # since b will become slightly less negative but is multipled by a which is \n",
        "                # postive we expect d2 to be slightly larger\n",
        "print('slope', (d2-d1)/h) # gradient"
      ]
    },
    {
      "cell_type": "markdown",
      "metadata": {},
      "source": [
        "So the gradient of d with respect to b (i.e. $dd/db$) has a positive slope.  So a small change in a changes d in a upward direction.\n",
        "\n",
        "Lets see how a small change in c affects the gradient."
      ]
    },
    {
      "cell_type": "code",
      "execution_count": 30,
      "metadata": {},
      "outputs": [
        {
          "name": "stdout",
          "output_type": "stream",
          "text": [
            "d1 4.0\n",
            "d2 4.0001\n",
            "slope 0.9999999999976694\n"
          ]
        }
      ],
      "source": [
        "# inputs\n",
        "a = 2.0\n",
        "b = -3.0\n",
        "c = 10.0\n",
        "\n",
        "d1 = a*b + c\n",
        "c += h # bump up c by h (a very small value)\n",
        "d2 = a*b + c\n",
        "\n",
        "print('d1', d1)\n",
        "print('d2', d2) # since bc will become slightly larger, we expect d2 to be larger\n",
        "print('slope', (d2-d1)/h) # gradient"
      ]
    },
    {
      "cell_type": "markdown",
      "metadata": {},
      "source": [
        "So the gradient of d with respect to b (i.e. $dd/dc$) has a positive slope.  So a small change in a changes d in a upward direction."
      ]
    },
    {
      "cell_type": "markdown",
      "metadata": {},
      "source": [
        "#### Forward Pass and Back-Propagation\n",
        "\n",
        "Continuing on, lets spell-out the details of how to do a forward pass and back-propagation on this multi-variable equation.\n",
        "\n",
        "Remember from our [Introduction to Neural Networks](/nn-intro.ipynb) lesson that the basic mathematical expression for a Neuron in a neural network is\n",
        "\n",
        "$$\n",
        "y = w_1 x_1 + w_2 x_2 + w_3 x_3 + \\dots + b\n",
        "$$\n",
        "\n",
        "We will get to this specific equation in the next lesson on [Training Neural Networks](/nn-training.ipynb), but for now simply note that the equation above is sort of similar to our current equation\n",
        "\n",
        "$$\n",
        "d = a b + c\n",
        "$$\n",
        "\n",
        "with a single variable b (x) and a single weight a (w) and with a bias c (b)\n",
        "\n",
        "Lets now go step-by-step as to how to figure out a Gradient for the output d with respect to each of the variables, taking into account the fact that we first multiple two of them and then add.\n",
        "\n",
        "So we need to build an intuition for how we calculate the gradient through the multiplication and addition operations.\n",
        "\n",
        "In order to do that, lets create each of these as a Value object and implment the multiplication, addition.\n",
        "\n",
        "We also want to add somthing that representsan activation function to apply to the function output d to mimic the activation.\n",
        "\n",
        "So essentially we want to represent the overall equation\n",
        "\n",
        "$$\n",
        "activation(d = a b + c)\n",
        "$$\n",
        "\n",
        "so we will actually use the equation\n",
        "\n",
        "$$\n",
        "L = f*(a*b + c)\n",
        "$$\n",
        "\n",
        "Here f sort of represents an activation function (which in the real Neurron will be a number from -1 to 1.  This is because the activation function we choose will be the Hyperbolic Tangent (tanh) function).  For now we are just multiplying f with the output of $ab + c$"
      ]
    },
    {
      "cell_type": "markdown",
      "metadata": {},
      "source": [
        "So lets define a class Value as follows:"
      ]
    },
    {
      "cell_type": "code",
      "execution_count": 31,
      "metadata": {
        "colab": {
          "base_uri": "https://localhost:8080/"
        },
        "id": "yNMB1Vb-AycG",
        "outputId": "fb1d4799-6a75-47c9-a0b8-dbcac37d4ac5"
      },
      "outputs": [],
      "source": [
        "class Value:\n",
        "\n",
        "  # Initialized with the value (data)\n",
        "  # We also keep track of the children (i.e. which other Values created this one)\n",
        "  # So for e.g. 3 + 2 = 5.  This current Value is 5 and its children are 3 and 2\n",
        "  # We also keep track of the operation (plus, multiply, tanh)\n",
        "  # We also create a label for this Value\n",
        "  def __init__(self, data, _children=(), _op='', label=''):\n",
        "    self.data = data\n",
        "    self.grad = 0.0 # default gradient is zero\n",
        "    self._prev = set(_children) # empty set (set for efficiency)\n",
        "    self._op = _op\n",
        "    self.label = label\n",
        "\n",
        "  # This function is what is printed out to console for this Value object\n",
        "  def __repr__(self):\n",
        "    return f\"Value(data={self.data}, grad={self.grad})\"\n",
        "\n",
        "  # Add this (self) with other and return a new Value\n",
        "  def __add__(self, other):\n",
        "    return Value(self.data + other.data, (self, other), '+')\n",
        "\n",
        "  # Add this (self) with other and return a new Value\n",
        "  def __mul__(self, other):\n",
        "    return Value(self.data * other.data, (self, other), '*')\n",
        "\n",
        "  # Activation function (Hyperbolic Tangent - returns value between -1 and 1)\n",
        "  def tanh(self):\n",
        "    n = self.data\n",
        "    t = (math.exp(2*n) - 1)/(math.exp(2*n) + 1) # this is simply how tanh is defined (see Wikipedia)\n",
        "    out =  Value(t, (self,), label='tanh')\n",
        "    return out"
      ]
    },
    {
      "cell_type": "markdown",
      "metadata": {},
      "source": [
        "Forward-pass then is just plugging in values into the equation to get the value (in this case of the activation function)"
      ]
    },
    {
      "cell_type": "code",
      "execution_count": 33,
      "metadata": {},
      "outputs": [
        {
          "data": {
            "text/plain": [
              "Value(data=-8.0, grad=0.0)"
            ]
          },
          "execution_count": 33,
          "metadata": {},
          "output_type": "execute_result"
        }
      ],
      "source": [
        "a = Value(2.0, label='a')\n",
        "b = Value(-3.0, label='b')\n",
        "c = Value(10.0, label='c')\n",
        "e = a*b\n",
        "e.label='e'\n",
        "d = e + c; d.label='d'\n",
        "f = Value(-2.0, label='f')\n",
        "L = d*f # L is the output of our graph\n",
        "L.label='L'\n",
        "L # Note: forward-pass builds out value of L and we print it out here"
      ]
    },
    {
      "cell_type": "code",
      "execution_count": 11,
      "metadata": {
        "id": "agVKQiRfeT1S"
      },
      "outputs": [],
      "source": [
        "# See manual work area under graph below for how we calculated these\n",
        "L.grad = 1.0\n",
        "d.grad = -2.0\n",
        "f.grad = 4.0\n",
        "c.grad = -2.0\n",
        "e.grad = -2.0\n",
        "a.grad = 6.0\n",
        "b.grad = -4.0"
      ]
    },
    {
      "cell_type": "markdown",
      "metadata": {},
      "source": [
        "The code below can be treated as black-box code for now... in that you don't need to figure out what it does.  Just know that it pretty much prints out the equation we are working with, i.e., \n",
        "\n",
        "$$\n",
        "L = f*(a*b + c)\n",
        "$$\n",
        "\n",
        "It uses a Python library called **graphviz** that prints out a pretty graph (called a Directed Acyclic Graph) of the equation"
      ]
    },
    {
      "cell_type": "code",
      "execution_count": 36,
      "metadata": {
        "id": "CZza8mm7Y33x"
      },
      "outputs": [],
      "source": [
        "# black-box code that draws a DAG for Value objects using graphviz Digraph\n",
        "from graphviz import Digraph\n",
        "\n",
        "def trace(root):\n",
        "    nodes, edges = set(), set()\n",
        "    def build(v):\n",
        "        if v not in nodes:\n",
        "            nodes.add(v)\n",
        "            for child in v._prev:\n",
        "                edges.add((child, v))\n",
        "                build(child)\n",
        "    build(root)\n",
        "    return nodes, edges\n",
        "\n",
        "def draw_dot(root, format='svg', rankdir='LR'):\n",
        "    \"\"\"\n",
        "    format: png | svg | ...\n",
        "    rankdir: TB (top to bottom graph) | LR (left to right)\n",
        "    \"\"\"\n",
        "    assert rankdir in ['LR', 'TB']\n",
        "    nodes, edges = trace(root)\n",
        "    dot = Digraph(format=format, graph_attr={'rankdir': rankdir}) #, node_attr={'rankdir': 'TB'})\n",
        "\n",
        "    for n in nodes:\n",
        "        # dot.node(name=str(id(n)), label = \"{ data %.4f | grad %.4f }\" % (n.data, n.grad), shape='record')\n",
        "        dot.node(name=str(id(n)), label = \"{ %s | data %.4f | grad %.4f }\" % (n.label, n.data, n.grad), shape='record')\n",
        "        if n._op:\n",
        "            dot.node(name=str(id(n)) + n._op, label=n._op)\n",
        "            dot.edge(str(id(n)) + n._op, str(id(n)))\n",
        "\n",
        "    for n1, n2 in edges:\n",
        "        dot.edge(str(id(n1)), str(id(n2)) + n2._op)\n",
        "\n",
        "    return dot"
      ]
    },
    {
      "cell_type": "markdown",
      "metadata": {},
      "source": [
        "Lets use the draw_dot function now to draw out our equation (represented by the Value 'L').\n",
        "\n",
        "Note that we have created intermediate Value objects. So for e.g.\n",
        "\n",
        "$$\n",
        "e = a*b\n",
        "$$\n",
        "\n",
        "and so\n",
        "\n",
        "$$\n",
        "d = e + c\n",
        "$$\n",
        "\n",
        "which then yields\n",
        "\n",
        "$$\n",
        "L = f*(d)\n",
        "$$"
      ]
    },
    {
      "cell_type": "code",
      "execution_count": 37,
      "metadata": {
        "colab": {
          "base_uri": "https://localhost:8080/",
          "height": 247
        },
        "id": "8khwWHM7Y9zc",
        "outputId": "8ceef54e-3a0e-4976-fac6-c2cc96101bf2"
      },
      "outputs": [
        {
          "data": {
            "image/svg+xml": [
              "<?xml version=\"1.0\" encoding=\"UTF-8\" standalone=\"no\"?>\n",
              "<!DOCTYPE svg PUBLIC \"-//W3C//DTD SVG 1.1//EN\"\n",
              " \"http://www.w3.org/Graphics/SVG/1.1/DTD/svg11.dtd\">\n",
              "<!-- Generated by graphviz version 12.1.1 (20240910.0053)\n",
              " -->\n",
              "<!-- Pages: 1 -->\n",
              "<svg width=\"1140pt\" height=\"128pt\"\n",
              " viewBox=\"0.00 0.00 1139.75 128.00\" xmlns=\"http://www.w3.org/2000/svg\" xmlns:xlink=\"http://www.w3.org/1999/xlink\">\n",
              "<g id=\"graph0\" class=\"graph\" transform=\"scale(1 1) rotate(0) translate(4 124)\">\n",
              "<polygon fill=\"white\" stroke=\"none\" points=\"-4,4 -4,-124 1135.75,-124 1135.75,4 -4,4\"/>\n",
              "<!-- 4555108288 -->\n",
              "<g id=\"node1\" class=\"node\">\n",
              "<title>4555108288</title>\n",
              "<polygon fill=\"none\" stroke=\"black\" points=\"631.12,-27.5 631.12,-63.5 814.88,-63.5 814.88,-27.5 631.12,-27.5\"/>\n",
              "<text text-anchor=\"middle\" x=\"642.5\" y=\"-40.7\" font-family=\"Times,serif\" font-size=\"14.00\">d</text>\n",
              "<polyline fill=\"none\" stroke=\"black\" points=\"653.88,-28 653.88,-63.5\"/>\n",
              "<text text-anchor=\"middle\" x=\"693.75\" y=\"-40.7\" font-family=\"Times,serif\" font-size=\"14.00\">data 4.0000</text>\n",
              "<polyline fill=\"none\" stroke=\"black\" points=\"733.62,-28 733.62,-63.5\"/>\n",
              "<text text-anchor=\"middle\" x=\"774.25\" y=\"-40.7\" font-family=\"Times,serif\" font-size=\"14.00\">grad 0.0000</text>\n",
              "</g>\n",
              "<!-- 4554745152* -->\n",
              "<g id=\"node8\" class=\"node\">\n",
              "<title>4554745152*</title>\n",
              "<ellipse fill=\"none\" stroke=\"black\" cx=\"879\" cy=\"-72.5\" rx=\"27\" ry=\"18\"/>\n",
              "<text text-anchor=\"middle\" x=\"879\" y=\"-67.45\" font-family=\"Times,serif\" font-size=\"14.00\">*</text>\n",
              "</g>\n",
              "<!-- 4555108288&#45;&gt;4554745152* -->\n",
              "<g id=\"edge8\" class=\"edge\">\n",
              "<title>4555108288&#45;&gt;4554745152*</title>\n",
              "<path fill=\"none\" stroke=\"black\" d=\"M815.36,-61.52C824.5,-63.12 833.36,-64.67 841.4,-66.08\"/>\n",
              "<polygon fill=\"black\" stroke=\"black\" points=\"840.58,-69.49 851.04,-67.77 841.79,-62.6 840.58,-69.49\"/>\n",
              "</g>\n",
              "<!-- 4555108288+ -->\n",
              "<g id=\"node2\" class=\"node\">\n",
              "<title>4555108288+</title>\n",
              "<ellipse fill=\"none\" stroke=\"black\" cx=\"567\" cy=\"-45.5\" rx=\"27\" ry=\"18\"/>\n",
              "<text text-anchor=\"middle\" x=\"567\" y=\"-40.45\" font-family=\"Times,serif\" font-size=\"14.00\">+</text>\n",
              "</g>\n",
              "<!-- 4555108288+&#45;&gt;4555108288 -->\n",
              "<g id=\"edge1\" class=\"edge\">\n",
              "<title>4555108288+&#45;&gt;4555108288</title>\n",
              "<path fill=\"none\" stroke=\"black\" d=\"M594.47,-45.5C601.87,-45.5 610.38,-45.5 619.43,-45.5\"/>\n",
              "<polygon fill=\"black\" stroke=\"black\" points=\"619.17,-49 629.17,-45.5 619.17,-42 619.17,-49\"/>\n",
              "</g>\n",
              "<!-- 4554850384 -->\n",
              "<g id=\"node3\" class=\"node\">\n",
              "<title>4554850384</title>\n",
              "<polygon fill=\"none\" stroke=\"black\" points=\"315.38,-55.5 315.38,-91.5 502.88,-91.5 502.88,-55.5 315.38,-55.5\"/>\n",
              "<text text-anchor=\"middle\" x=\"326.38\" y=\"-68.7\" font-family=\"Times,serif\" font-size=\"14.00\">e</text>\n",
              "<polyline fill=\"none\" stroke=\"black\" points=\"337.38,-56 337.38,-91.5\"/>\n",
              "<text text-anchor=\"middle\" x=\"379.5\" y=\"-68.7\" font-family=\"Times,serif\" font-size=\"14.00\">data &#45;6.0000</text>\n",
              "<polyline fill=\"none\" stroke=\"black\" points=\"421.62,-56 421.62,-91.5\"/>\n",
              "<text text-anchor=\"middle\" x=\"462.25\" y=\"-68.7\" font-family=\"Times,serif\" font-size=\"14.00\">grad 0.0000</text>\n",
              "</g>\n",
              "<!-- 4554850384&#45;&gt;4555108288+ -->\n",
              "<g id=\"edge5\" class=\"edge\">\n",
              "<title>4554850384&#45;&gt;4555108288+</title>\n",
              "<path fill=\"none\" stroke=\"black\" d=\"M503.05,-56.81C512.25,-55.16 521.16,-53.56 529.24,-52.1\"/>\n",
              "<polygon fill=\"black\" stroke=\"black\" points=\"529.71,-55.58 538.93,-50.36 528.47,-48.69 529.71,-55.58\"/>\n",
              "</g>\n",
              "<!-- 4554850384* -->\n",
              "<g id=\"node4\" class=\"node\">\n",
              "<title>4554850384*</title>\n",
              "<ellipse fill=\"none\" stroke=\"black\" cx=\"251.25\" cy=\"-73.5\" rx=\"27\" ry=\"18\"/>\n",
              "<text text-anchor=\"middle\" x=\"251.25\" y=\"-68.45\" font-family=\"Times,serif\" font-size=\"14.00\">*</text>\n",
              "</g>\n",
              "<!-- 4554850384*&#45;&gt;4554850384 -->\n",
              "<g id=\"edge2\" class=\"edge\">\n",
              "<title>4554850384*&#45;&gt;4554850384</title>\n",
              "<path fill=\"none\" stroke=\"black\" d=\"M278.69,-73.5C286.1,-73.5 294.64,-73.5 303.71,-73.5\"/>\n",
              "<polygon fill=\"black\" stroke=\"black\" points=\"303.51,-77 313.51,-73.5 303.51,-70 303.51,-77\"/>\n",
              "</g>\n",
              "<!-- 4554749088 -->\n",
              "<g id=\"node5\" class=\"node\">\n",
              "<title>4554749088</title>\n",
              "<polygon fill=\"none\" stroke=\"black\" points=\"630,-82.5 630,-118.5 816,-118.5 816,-82.5 630,-82.5\"/>\n",
              "<text text-anchor=\"middle\" x=\"640.25\" y=\"-95.7\" font-family=\"Times,serif\" font-size=\"14.00\">f</text>\n",
              "<polyline fill=\"none\" stroke=\"black\" points=\"650.5,-83 650.5,-118.5\"/>\n",
              "<text text-anchor=\"middle\" x=\"692.62\" y=\"-95.7\" font-family=\"Times,serif\" font-size=\"14.00\">data &#45;2.0000</text>\n",
              "<polyline fill=\"none\" stroke=\"black\" points=\"734.75,-83 734.75,-118.5\"/>\n",
              "<text text-anchor=\"middle\" x=\"775.38\" y=\"-95.7\" font-family=\"Times,serif\" font-size=\"14.00\">grad 0.0000</text>\n",
              "</g>\n",
              "<!-- 4554749088&#45;&gt;4554745152* -->\n",
              "<g id=\"edge6\" class=\"edge\">\n",
              "<title>4554749088&#45;&gt;4554745152*</title>\n",
              "<path fill=\"none\" stroke=\"black\" d=\"M816.25,-83.73C825.1,-82.12 833.67,-80.56 841.46,-79.14\"/>\n",
              "<polygon fill=\"black\" stroke=\"black\" points=\"841.93,-82.62 851.15,-77.38 840.68,-75.73 841.93,-82.62\"/>\n",
              "</g>\n",
              "<!-- 4554399936 -->\n",
              "<g id=\"node6\" class=\"node\">\n",
              "<title>4554399936</title>\n",
              "<polygon fill=\"none\" stroke=\"black\" points=\"0,-83.5 0,-119.5 188.25,-119.5 188.25,-83.5 0,-83.5\"/>\n",
              "<text text-anchor=\"middle\" x=\"11.38\" y=\"-96.7\" font-family=\"Times,serif\" font-size=\"14.00\">b</text>\n",
              "<polyline fill=\"none\" stroke=\"black\" points=\"22.75,-84 22.75,-119.5\"/>\n",
              "<text text-anchor=\"middle\" x=\"64.88\" y=\"-96.7\" font-family=\"Times,serif\" font-size=\"14.00\">data &#45;3.0000</text>\n",
              "<polyline fill=\"none\" stroke=\"black\" points=\"107,-84 107,-119.5\"/>\n",
              "<text text-anchor=\"middle\" x=\"147.62\" y=\"-96.7\" font-family=\"Times,serif\" font-size=\"14.00\">grad 0.0000</text>\n",
              "</g>\n",
              "<!-- 4554399936&#45;&gt;4554850384* -->\n",
              "<g id=\"edge7\" class=\"edge\">\n",
              "<title>4554399936&#45;&gt;4554850384*</title>\n",
              "<path fill=\"none\" stroke=\"black\" d=\"M188.49,-84.65C197.36,-83.05 205.93,-81.5 213.73,-80.09\"/>\n",
              "<polygon fill=\"black\" stroke=\"black\" points=\"214.2,-83.56 223.42,-78.34 212.95,-76.68 214.2,-83.56\"/>\n",
              "</g>\n",
              "<!-- 4554745152 -->\n",
              "<g id=\"node7\" class=\"node\">\n",
              "<title>4554745152</title>\n",
              "<polygon fill=\"none\" stroke=\"black\" points=\"942,-54.5 942,-90.5 1131.75,-90.5 1131.75,-54.5 942,-54.5\"/>\n",
              "<text text-anchor=\"middle\" x=\"954.12\" y=\"-67.7\" font-family=\"Times,serif\" font-size=\"14.00\">L</text>\n",
              "<polyline fill=\"none\" stroke=\"black\" points=\"966.25,-55 966.25,-90.5\"/>\n",
              "<text text-anchor=\"middle\" x=\"1008.38\" y=\"-67.7\" font-family=\"Times,serif\" font-size=\"14.00\">data &#45;8.0000</text>\n",
              "<polyline fill=\"none\" stroke=\"black\" points=\"1050.5,-55 1050.5,-90.5\"/>\n",
              "<text text-anchor=\"middle\" x=\"1091.12\" y=\"-67.7\" font-family=\"Times,serif\" font-size=\"14.00\">grad 0.0000</text>\n",
              "</g>\n",
              "<!-- 4554745152*&#45;&gt;4554745152 -->\n",
              "<g id=\"edge3\" class=\"edge\">\n",
              "<title>4554745152*&#45;&gt;4554745152</title>\n",
              "<path fill=\"none\" stroke=\"black\" d=\"M906.44,-72.5C913.59,-72.5 921.78,-72.5 930.49,-72.5\"/>\n",
              "<polygon fill=\"black\" stroke=\"black\" points=\"930.26,-76 940.26,-72.5 930.26,-69 930.26,-76\"/>\n",
              "</g>\n",
              "<!-- 4553817456 -->\n",
              "<g id=\"node9\" class=\"node\">\n",
              "<title>4553817456</title>\n",
              "<polygon fill=\"none\" stroke=\"black\" points=\"314.25,-0.5 314.25,-36.5 504,-36.5 504,-0.5 314.25,-0.5\"/>\n",
              "<text text-anchor=\"middle\" x=\"325.25\" y=\"-13.7\" font-family=\"Times,serif\" font-size=\"14.00\">c</text>\n",
              "<polyline fill=\"none\" stroke=\"black\" points=\"336.25,-1 336.25,-36.5\"/>\n",
              "<text text-anchor=\"middle\" x=\"379.5\" y=\"-13.7\" font-family=\"Times,serif\" font-size=\"14.00\">data 10.0000</text>\n",
              "<polyline fill=\"none\" stroke=\"black\" points=\"422.75,-1 422.75,-36.5\"/>\n",
              "<text text-anchor=\"middle\" x=\"463.38\" y=\"-13.7\" font-family=\"Times,serif\" font-size=\"14.00\">grad 0.0000</text>\n",
              "</g>\n",
              "<!-- 4553817456&#45;&gt;4555108288+ -->\n",
              "<g id=\"edge9\" class=\"edge\">\n",
              "<title>4553817456&#45;&gt;4555108288+</title>\n",
              "<path fill=\"none\" stroke=\"black\" d=\"M504.39,-34.83C513.16,-36.35 521.65,-37.82 529.37,-39.15\"/>\n",
              "<polygon fill=\"black\" stroke=\"black\" points=\"528.5,-42.56 538.95,-40.81 529.69,-35.66 528.5,-42.56\"/>\n",
              "</g>\n",
              "<!-- 4554616768 -->\n",
              "<g id=\"node10\" class=\"node\">\n",
              "<title>4554616768</title>\n",
              "<polygon fill=\"none\" stroke=\"black\" points=\"2.62,-28.5 2.62,-64.5 185.62,-64.5 185.62,-28.5 2.62,-28.5\"/>\n",
              "<text text-anchor=\"middle\" x=\"13.62\" y=\"-41.7\" font-family=\"Times,serif\" font-size=\"14.00\">a</text>\n",
              "<polyline fill=\"none\" stroke=\"black\" points=\"24.62,-29 24.62,-64.5\"/>\n",
              "<text text-anchor=\"middle\" x=\"64.5\" y=\"-41.7\" font-family=\"Times,serif\" font-size=\"14.00\">data 2.0000</text>\n",
              "<polyline fill=\"none\" stroke=\"black\" points=\"104.38,-29 104.38,-64.5\"/>\n",
              "<text text-anchor=\"middle\" x=\"145\" y=\"-41.7\" font-family=\"Times,serif\" font-size=\"14.00\">grad 0.0000</text>\n",
              "</g>\n",
              "<!-- 4554616768&#45;&gt;4554850384* -->\n",
              "<g id=\"edge4\" class=\"edge\">\n",
              "<title>4554616768&#45;&gt;4554850384*</title>\n",
              "<path fill=\"none\" stroke=\"black\" d=\"M185.81,-62.28C195.45,-63.96 204.82,-65.59 213.29,-67.07\"/>\n",
              "<polygon fill=\"black\" stroke=\"black\" points=\"212.65,-70.51 223.1,-68.77 213.85,-63.61 212.65,-70.51\"/>\n",
              "</g>\n",
              "</g>\n",
              "</svg>\n"
            ],
            "text/plain": [
              "<graphviz.graphs.Digraph at 0x10f95d8b0>"
            ]
          },
          "execution_count": 37,
          "metadata": {},
          "output_type": "execute_result"
        }
      ],
      "source": [
        "draw_dot(L)"
      ]
    },
    {
      "cell_type": "markdown",
      "metadata": {},
      "source": [
        "Lets now, step-by-step calculate gradients (or derivatives) of L w.r.t. each of its priors, including itself (L, f, d, e, c, b, a)\n"
      ]
    },
    {
      "cell_type": "code",
      "execution_count": 14,
      "metadata": {
        "id": "Apm20tGwj3Pe"
      },
      "outputs": [],
      "source": [
        "# fn below is working area to manually calculate gradients\n",
        "def lol():\n",
        "\n",
        "  h = 0.0001\n",
        "\n",
        "\n",
        "  # grad for L (w.r.t. L or itself) - i.e. if L is tweaked by a tiny amount h - how much does L change?\n",
        "  a = Value(2.0, label='a')\n",
        "  b = Value(-3.0, label='b')\n",
        "  c = Value(10.0, label='c')\n",
        "  e = a*b; e.label='e'\n",
        "  d = e + c; d.label='d'\n",
        "  f = Value(-2.0, label='f')\n",
        "  L = d*f; L.label='L'\n",
        "  L1 = L.data\n",
        "\n",
        "  a = Value(2.0, label='a')\n",
        "  b = Value(-3.0, label='b')\n",
        "  c = Value(10.0, label='c')\n",
        "  e = a*b; e.label='e'\n",
        "  d = e + c; d.label='d'\n",
        "  f = Value(-2.0, label='f')\n",
        "  L = d*f; L.label='L'\n",
        "  L2 = L.data + h\n",
        "\n",
        "  # print(\"gradient for L =\", (L2 - L1)/h)\n",
        "\n",
        "  # grad for L (w.r.t. d) - i.e. dL/dd or if d is tweaked by a tiny amount h - how much does L change?\n",
        "  # L = d*f\n",
        "  # dL/dd = ?\n",
        "  # derivative = (f(x+h) - f(x))/h\n",
        "  # dL/dd = ((d+h)*f - d*f)/h = (d*f + h*f -d*f)/h = (h*f)/h = f\n",
        "  # therefore dL/dd = derivative(d*f) w.r.t. d = f = -2.0\n",
        "  # similarily dL/df = derivative(d*f) w.r.t. f = d = 4.0\n",
        "  # can verify by incrementing d or f by h in lol() function above and calculating gradient\n",
        "\n",
        "  # MOST IMPORTANT piece of backpropogation and neural nets below\n",
        "  # grad for L w.r.t. c or e\n",
        "  # L is sensitive to d which in turn is sensitive to c and e\n",
        "  # we already know dl/dd\n",
        "  # what is dd/dc\n",
        "  # d = c + e\n",
        "  # derivative = (f(x+h) - f(x))/h\n",
        "  # dd/dc = (((c + h) + e) - (c + e))/h = (c + h + e - c - e)/h = h/h = 1\n",
        "  # similarily by symmetery dd/de = 1.0\n",
        "\n",
        "  # Now using chain rule (https://en.wikipedia.org/wiki/Chain_rule)\n",
        "  # if a variable \"z\" depends on variable \"y\" which in turn depends on variable \"x\"\n",
        "  # i.e. y and z are dependent variables, then \"z\" depends on x as well\n",
        "  # the chain rule is expressed as dz/dx = dz/dy * dy/dx\n",
        "  # Therefore dL/dc = dL/dd * dd/dc = -2.0 * 1.0 = -2.0\n",
        "  # and by symmetry dL/de = dL/dd * dd/de = -2.0 * 1.0 = -2.0\n",
        "  # So in the case of our \"+\" - we observe that it simply routes the grad of the next layer backward\n",
        "  # in this case, it routes the grad of \"d\" back to \"c\" and \"d\" - as d is dependent on each of them\n",
        "\n",
        "  # now finally dL/da and dL/db\n",
        "  # dL/da = dL/de * de/da\n",
        "  # note that e = a*b therefore de/da = b = -3.0\n",
        "  # therefore dL/da = -2.0 * -3.0 = 6.0\n",
        "  # similarily dL/db = dL/de * de/db = -2.0 * 2.0 = -4.0\n",
        "\n",
        "  # so we see that backpropagation is a RECURSIVE application of chain rule\n",
        "  # you keep multiplying the local derivative (grad) with the full derivative of the node ahead of it!!!\n",
        "\n",
        "lol()"
      ]
    },
    {
      "cell_type": "code",
      "execution_count": 15,
      "metadata": {
        "colab": {
          "base_uri": "https://localhost:8080/"
        },
        "id": "T3Sp1m0Okvak",
        "outputId": "e7284571-d684-49fb-df3e-e288aaf90793"
      },
      "outputs": [
        {
          "data": {
            "text/plain": [
              "Value(data=-7.286496)"
            ]
          },
          "execution_count": 15,
          "metadata": {},
          "output_type": "execute_result"
        }
      ],
      "source": [
        "# Lets nudge each independent variable in the DAG in the direction of the gradient... we expect\n",
        "# gradient of L to go up because of this\n",
        "\n",
        "a.data += 0.01 * a.grad\n",
        "b.data += 0.01 * b.grad\n",
        "c.data += 0.01 * c.grad\n",
        "f.data += 0.01 * f.grad\n",
        "\n",
        "# now do a forward pass\n",
        "e = a * b\n",
        "d = e + c\n",
        "L = d * f\n",
        "\n",
        "L"
      ]
    },
    {
      "cell_type": "code",
      "execution_count": 16,
      "metadata": {
        "colab": {
          "base_uri": "https://localhost:8080/",
          "height": 430
        },
        "id": "vcZou4_YnJw_",
        "outputId": "5e43f681-5868-4341-9eb7-0bbc5c6fa6ab"
      },
      "outputs": [
        {
          "data": {
            "image/png": "[encoded data removed]",
            "text/plain": [
              "<Figure size 640x480 with 1 Axes>"
            ]
          },
          "metadata": {},
          "output_type": "display_data"
        }
      ],
      "source": [
        "# Review this diagram of a Neuron\n",
        "# https://images.app.goo.gl/G77B3RScmqmimPabA\n",
        "#\n",
        "# INPUT: Neuron has multiple synapses or inputs (x).  Each neuron has a weight (w)\n",
        "# VALUE: Value of a neuron is sum(w1*x1 + w2*x2 + ... + wn*xn) + b (where b is a bias)\n",
        "# OUTPUT: output is f(VALUE) - where f is a squashing function like a tanh\n",
        "# squashing function takes neurons value as input and squashes it to a value between -1 and 1\n",
        "# so if value output by squashing function is > 0 then the neuron fires.. otherwise it does not\n",
        "\n",
        "# Example of tanh squashing function\n",
        "plt.plot(np.arange(-5, 5, 0.2), np.tanh(np.arange(-5, 5, 0.2))); plt.grid();"
      ]
    },
    {
      "cell_type": "code",
      "execution_count": 17,
      "metadata": {
        "id": "GuC3jMrLoqWp"
      },
      "outputs": [],
      "source": [
        "# Simple example\n",
        "# inputs are x1 and x2\n",
        "x1 = Value(2.0, label = 'x1')\n",
        "x2 = Value(0.0, label = 'x2')\n",
        "# weights are w1 and w2\n",
        "w1 = Value(-3.0, label = 'w1')\n",
        "w2 = Value(1.0, label = 'w2')\n",
        "# bias of the neuron\n",
        "b = Value(6.8813735870195432, label = 'b')\n",
        "x1w1 = x1*w1; x1w1.label = 'x1*w1'\n",
        "x2w2 = x2*w2; x2w2.label = 'x2*w2'\n",
        "# value of neuron\n",
        "x1w1x2w2 = x1w1 + x2w2; x1w1x2w2.label = 'x1*w1 + x2*w2'\n",
        "n = x1w1x2w2 + b; n.label = 'n'\n",
        "# output of neuron (taking it through an activation function)\n",
        "o = n.tanh(); o.label='output'"
      ]
    },
    {
      "cell_type": "code",
      "execution_count": 18,
      "metadata": {
        "colab": {
          "base_uri": "https://localhost:8080/",
          "height": 321
        },
        "id": "3foROE8xtCit",
        "outputId": "c40dda36-2668-4b00-9dbc-5521d919116f"
      },
      "outputs": [
        {
          "data": {
            "image/svg+xml": [
              "<?xml version=\"1.0\" encoding=\"UTF-8\" standalone=\"no\"?>\n",
              "<!DOCTYPE svg PUBLIC \"-//W3C//DTD SVG 1.1//EN\"\n",
              " \"http://www.w3.org/Graphics/SVG/1.1/DTD/svg11.dtd\">\n",
              "<!-- Generated by graphviz version 2.43.0 (0)\n",
              " -->\n",
              "<!-- Title: %3 Pages: 1 -->\n",
              "<svg width=\"1513pt\" height=\"210pt\"\n",
              " viewBox=\"0.00 0.00 1513.00 210.00\" xmlns=\"http://www.w3.org/2000/svg\" xmlns:xlink=\"http://www.w3.org/1999/xlink\">\n",
              "<g id=\"graph0\" class=\"graph\" transform=\"scale(1 1) rotate(0) translate(4 206)\">\n",
              "<title>%3</title>\n",
              "<polygon fill=\"white\" stroke=\"transparent\" points=\"-4,4 -4,-206 1509,-206 1509,4 -4,4\"/>\n",
              "<!-- 136156640726032 -->\n",
              "<g id=\"node1\" class=\"node\">\n",
              "<title>136156640726032</title>\n",
              "<polygon fill=\"none\" stroke=\"black\" points=\"1071,-109.5 1071,-145.5 1256,-145.5 1256,-109.5 1071,-109.5\"/>\n",
              "<text text-anchor=\"middle\" x=\"1082.5\" y=\"-123.8\" font-family=\"Times,serif\" font-size=\"14.00\">n</text>\n",
              "<polyline fill=\"none\" stroke=\"black\" points=\"1094,-109.5 1094,-145.5 \"/>\n",
              "<text text-anchor=\"middle\" x=\"1134\" y=\"-123.8\" font-family=\"Times,serif\" font-size=\"14.00\">data 0.8814</text>\n",
              "<polyline fill=\"none\" stroke=\"black\" points=\"1174,-109.5 1174,-145.5 \"/>\n",
              "<text text-anchor=\"middle\" x=\"1215\" y=\"-123.8\" font-family=\"Times,serif\" font-size=\"14.00\">grad 0.0000</text>\n",
              "</g>\n",
              "<!-- 136156640726560 -->\n",
              "<g id=\"node3\" class=\"node\">\n",
              "<title>136156640726560</title>\n",
              "<polygon fill=\"none\" stroke=\"black\" points=\"1292,-109.5 1292,-145.5 1505,-145.5 1505,-109.5 1292,-109.5\"/>\n",
              "<text text-anchor=\"middle\" x=\"1317.5\" y=\"-123.8\" font-family=\"Times,serif\" font-size=\"14.00\">output</text>\n",
              "<polyline fill=\"none\" stroke=\"black\" points=\"1343,-109.5 1343,-145.5 \"/>\n",
              "<text text-anchor=\"middle\" x=\"1383\" y=\"-123.8\" font-family=\"Times,serif\" font-size=\"14.00\">data 0.7071</text>\n",
              "<polyline fill=\"none\" stroke=\"black\" points=\"1423,-109.5 1423,-145.5 \"/>\n",
              "<text text-anchor=\"middle\" x=\"1464\" y=\"-123.8\" font-family=\"Times,serif\" font-size=\"14.00\">grad 0.0000</text>\n",
              "</g>\n",
              "<!-- 136156640726032&#45;&gt;136156640726560 -->\n",
              "<g id=\"edge9\" class=\"edge\">\n",
              "<title>136156640726032&#45;&gt;136156640726560</title>\n",
              "<path fill=\"none\" stroke=\"black\" d=\"M1256.25,-127.5C1264.67,-127.5 1273.28,-127.5 1281.87,-127.5\"/>\n",
              "<polygon fill=\"black\" stroke=\"black\" points=\"1281.95,-131 1291.95,-127.5 1281.95,-124 1281.95,-131\"/>\n",
              "</g>\n",
              "<!-- 136156640726032+ -->\n",
              "<g id=\"node2\" class=\"node\">\n",
              "<title>136156640726032+</title>\n",
              "<ellipse fill=\"none\" stroke=\"black\" cx=\"1008\" cy=\"-127.5\" rx=\"27\" ry=\"18\"/>\n",
              "<text text-anchor=\"middle\" x=\"1008\" y=\"-123.8\" font-family=\"Times,serif\" font-size=\"14.00\">+</text>\n",
              "</g>\n",
              "<!-- 136156640726032+&#45;&gt;136156640726032 -->\n",
              "<g id=\"edge1\" class=\"edge\">\n",
              "<title>136156640726032+&#45;&gt;136156640726032</title>\n",
              "<path fill=\"none\" stroke=\"black\" d=\"M1035.04,-127.5C1042.58,-127.5 1051.3,-127.5 1060.57,-127.5\"/>\n",
              "<polygon fill=\"black\" stroke=\"black\" points=\"1060.81,-131 1070.81,-127.5 1060.81,-124 1060.81,-131\"/>\n",
              "</g>\n",
              "<!-- 136156640730640 -->\n",
              "<g id=\"node4\" class=\"node\">\n",
              "<title>136156640730640</title>\n",
              "<polygon fill=\"none\" stroke=\"black\" points=\"328.5,-110.5 328.5,-146.5 543.5,-146.5 543.5,-110.5 328.5,-110.5\"/>\n",
              "<text text-anchor=\"middle\" x=\"355\" y=\"-124.8\" font-family=\"Times,serif\" font-size=\"14.00\">x2*w2</text>\n",
              "<polyline fill=\"none\" stroke=\"black\" points=\"381.5,-110.5 381.5,-146.5 \"/>\n",
              "<text text-anchor=\"middle\" x=\"421.5\" y=\"-124.8\" font-family=\"Times,serif\" font-size=\"14.00\">data 0.0000</text>\n",
              "<polyline fill=\"none\" stroke=\"black\" points=\"461.5,-110.5 461.5,-146.5 \"/>\n",
              "<text text-anchor=\"middle\" x=\"502.5\" y=\"-124.8\" font-family=\"Times,serif\" font-size=\"14.00\">grad 0.0000</text>\n",
              "</g>\n",
              "<!-- 136156640725936+ -->\n",
              "<g id=\"node14\" class=\"node\">\n",
              "<title>136156640725936+</title>\n",
              "<ellipse fill=\"none\" stroke=\"black\" cx=\"609\" cy=\"-100.5\" rx=\"27\" ry=\"18\"/>\n",
              "<text text-anchor=\"middle\" x=\"609\" y=\"-96.8\" font-family=\"Times,serif\" font-size=\"14.00\">+</text>\n",
              "</g>\n",
              "<!-- 136156640730640&#45;&gt;136156640725936+ -->\n",
              "<g id=\"edge10\" class=\"edge\">\n",
              "<title>136156640730640&#45;&gt;136156640725936+</title>\n",
              "<path fill=\"none\" stroke=\"black\" d=\"M543.84,-111.01C554.01,-109.34 563.76,-107.74 572.44,-106.32\"/>\n",
              "<polygon fill=\"black\" stroke=\"black\" points=\"573.17,-109.75 582.47,-104.68 572.04,-102.84 573.17,-109.75\"/>\n",
              "</g>\n",
              "<!-- 136156640730640* -->\n",
              "<g id=\"node5\" class=\"node\">\n",
              "<title>136156640730640*</title>\n",
              "<ellipse fill=\"none\" stroke=\"black\" cx=\"263\" cy=\"-128.5\" rx=\"27\" ry=\"18\"/>\n",
              "<text text-anchor=\"middle\" x=\"263\" y=\"-124.8\" font-family=\"Times,serif\" font-size=\"14.00\">*</text>\n",
              "</g>\n",
              "<!-- 136156640730640*&#45;&gt;136156640730640 -->\n",
              "<g id=\"edge2\" class=\"edge\">\n",
              "<title>136156640730640*&#45;&gt;136156640730640</title>\n",
              "<path fill=\"none\" stroke=\"black\" d=\"M290.34,-128.5C298.51,-128.5 308.08,-128.5 318.36,-128.5\"/>\n",
              "<polygon fill=\"black\" stroke=\"black\" points=\"318.39,-132 328.39,-128.5 318.39,-125 318.39,-132\"/>\n",
              "</g>\n",
              "<!-- 136156662004800 -->\n",
              "<g id=\"node6\" class=\"node\">\n",
              "<title>136156662004800</title>\n",
              "<polygon fill=\"none\" stroke=\"black\" points=\"2.5,-165.5 2.5,-201.5 197.5,-201.5 197.5,-165.5 2.5,-165.5\"/>\n",
              "<text text-anchor=\"middle\" x=\"19\" y=\"-179.8\" font-family=\"Times,serif\" font-size=\"14.00\">w2</text>\n",
              "<polyline fill=\"none\" stroke=\"black\" points=\"35.5,-165.5 35.5,-201.5 \"/>\n",
              "<text text-anchor=\"middle\" x=\"75.5\" y=\"-179.8\" font-family=\"Times,serif\" font-size=\"14.00\">data 1.0000</text>\n",
              "<polyline fill=\"none\" stroke=\"black\" points=\"115.5,-165.5 115.5,-201.5 \"/>\n",
              "<text text-anchor=\"middle\" x=\"156.5\" y=\"-179.8\" font-family=\"Times,serif\" font-size=\"14.00\">grad 0.0000</text>\n",
              "</g>\n",
              "<!-- 136156662004800&#45;&gt;136156640730640* -->\n",
              "<g id=\"edge11\" class=\"edge\">\n",
              "<title>136156662004800&#45;&gt;136156640730640*</title>\n",
              "<path fill=\"none\" stroke=\"black\" d=\"M172.53,-165.44C181.84,-162.67 191.2,-159.67 200,-156.5 210.53,-152.71 221.75,-147.9 231.72,-143.33\"/>\n",
              "<polygon fill=\"black\" stroke=\"black\" points=\"233.25,-146.48 240.82,-139.07 230.28,-140.14 233.25,-146.48\"/>\n",
              "</g>\n",
              "<!-- 136156662005280 -->\n",
              "<g id=\"node7\" class=\"node\">\n",
              "<title>136156662005280</title>\n",
              "<polygon fill=\"none\" stroke=\"black\" points=\"326,-55.5 326,-91.5 546,-91.5 546,-55.5 326,-55.5\"/>\n",
              "<text text-anchor=\"middle\" x=\"352.5\" y=\"-69.8\" font-family=\"Times,serif\" font-size=\"14.00\">x1*w1</text>\n",
              "<polyline fill=\"none\" stroke=\"black\" points=\"379,-55.5 379,-91.5 \"/>\n",
              "<text text-anchor=\"middle\" x=\"421.5\" y=\"-69.8\" font-family=\"Times,serif\" font-size=\"14.00\">data &#45;6.0000</text>\n",
              "<polyline fill=\"none\" stroke=\"black\" points=\"464,-55.5 464,-91.5 \"/>\n",
              "<text text-anchor=\"middle\" x=\"505\" y=\"-69.8\" font-family=\"Times,serif\" font-size=\"14.00\">grad 0.0000</text>\n",
              "</g>\n",
              "<!-- 136156662005280&#45;&gt;136156640725936+ -->\n",
              "<g id=\"edge6\" class=\"edge\">\n",
              "<title>136156662005280&#45;&gt;136156640725936+</title>\n",
              "<path fill=\"none\" stroke=\"black\" d=\"M546.27,-90.75C555.64,-92.23 564.6,-93.65 572.65,-94.92\"/>\n",
              "<polygon fill=\"black\" stroke=\"black\" points=\"572.23,-98.4 582.65,-96.5 573.32,-91.48 572.23,-98.4\"/>\n",
              "</g>\n",
              "<!-- 136156662005280* -->\n",
              "<g id=\"node8\" class=\"node\">\n",
              "<title>136156662005280*</title>\n",
              "<ellipse fill=\"none\" stroke=\"black\" cx=\"263\" cy=\"-73.5\" rx=\"27\" ry=\"18\"/>\n",
              "<text text-anchor=\"middle\" x=\"263\" y=\"-69.8\" font-family=\"Times,serif\" font-size=\"14.00\">*</text>\n",
              "</g>\n",
              "<!-- 136156662005280*&#45;&gt;136156662005280 -->\n",
              "<g id=\"edge3\" class=\"edge\">\n",
              "<title>136156662005280*&#45;&gt;136156662005280</title>\n",
              "<path fill=\"none\" stroke=\"black\" d=\"M290.34,-73.5C297.77,-73.5 306.37,-73.5 315.6,-73.5\"/>\n",
              "<polygon fill=\"black\" stroke=\"black\" points=\"315.84,-77 325.84,-73.5 315.84,-70 315.84,-77\"/>\n",
              "</g>\n",
              "<!-- 136156640568432 -->\n",
              "<g id=\"node9\" class=\"node\">\n",
              "<title>136156640568432</title>\n",
              "<polygon fill=\"none\" stroke=\"black\" points=\"0,-55.5 0,-91.5 200,-91.5 200,-55.5 0,-55.5\"/>\n",
              "<text text-anchor=\"middle\" x=\"16.5\" y=\"-69.8\" font-family=\"Times,serif\" font-size=\"14.00\">w1</text>\n",
              "<polyline fill=\"none\" stroke=\"black\" points=\"33,-55.5 33,-91.5 \"/>\n",
              "<text text-anchor=\"middle\" x=\"75.5\" y=\"-69.8\" font-family=\"Times,serif\" font-size=\"14.00\">data &#45;3.0000</text>\n",
              "<polyline fill=\"none\" stroke=\"black\" points=\"118,-55.5 118,-91.5 \"/>\n",
              "<text text-anchor=\"middle\" x=\"159\" y=\"-69.8\" font-family=\"Times,serif\" font-size=\"14.00\">grad 0.0000</text>\n",
              "</g>\n",
              "<!-- 136156640568432&#45;&gt;136156662005280* -->\n",
              "<g id=\"edge7\" class=\"edge\">\n",
              "<title>136156640568432&#45;&gt;136156662005280*</title>\n",
              "<path fill=\"none\" stroke=\"black\" d=\"M200.21,-73.5C209.2,-73.5 217.86,-73.5 225.7,-73.5\"/>\n",
              "<polygon fill=\"black\" stroke=\"black\" points=\"225.85,-77 235.85,-73.5 225.85,-70 225.85,-77\"/>\n",
              "</g>\n",
              "<!-- 136156662004416 -->\n",
              "<g id=\"node10\" class=\"node\">\n",
              "<title>136156662004416</title>\n",
              "<polygon fill=\"none\" stroke=\"black\" points=\"716,-137.5 716,-173.5 901,-173.5 901,-137.5 716,-137.5\"/>\n",
              "<text text-anchor=\"middle\" x=\"727.5\" y=\"-151.8\" font-family=\"Times,serif\" font-size=\"14.00\">b</text>\n",
              "<polyline fill=\"none\" stroke=\"black\" points=\"739,-137.5 739,-173.5 \"/>\n",
              "<text text-anchor=\"middle\" x=\"779\" y=\"-151.8\" font-family=\"Times,serif\" font-size=\"14.00\">data 6.8814</text>\n",
              "<polyline fill=\"none\" stroke=\"black\" points=\"819,-137.5 819,-173.5 \"/>\n",
              "<text text-anchor=\"middle\" x=\"860\" y=\"-151.8\" font-family=\"Times,serif\" font-size=\"14.00\">grad 0.0000</text>\n",
              "</g>\n",
              "<!-- 136156662004416&#45;&gt;136156640726032+ -->\n",
              "<g id=\"edge5\" class=\"edge\">\n",
              "<title>136156662004416&#45;&gt;136156640726032+</title>\n",
              "<path fill=\"none\" stroke=\"black\" d=\"M901.02,-142.52C926,-138.98 951.59,-135.36 971.37,-132.55\"/>\n",
              "<polygon fill=\"black\" stroke=\"black\" points=\"972.03,-135.99 981.43,-131.12 971.04,-129.06 972.03,-135.99\"/>\n",
              "</g>\n",
              "<!-- 136156640570112 -->\n",
              "<g id=\"node11\" class=\"node\">\n",
              "<title>136156640570112</title>\n",
              "<polygon fill=\"none\" stroke=\"black\" points=\"4,-110.5 4,-146.5 196,-146.5 196,-110.5 4,-110.5\"/>\n",
              "<text text-anchor=\"middle\" x=\"19\" y=\"-124.8\" font-family=\"Times,serif\" font-size=\"14.00\">x2</text>\n",
              "<polyline fill=\"none\" stroke=\"black\" points=\"34,-110.5 34,-146.5 \"/>\n",
              "<text text-anchor=\"middle\" x=\"74\" y=\"-124.8\" font-family=\"Times,serif\" font-size=\"14.00\">data 0.0000</text>\n",
              "<polyline fill=\"none\" stroke=\"black\" points=\"114,-110.5 114,-146.5 \"/>\n",
              "<text text-anchor=\"middle\" x=\"155\" y=\"-124.8\" font-family=\"Times,serif\" font-size=\"14.00\">grad 0.0000</text>\n",
              "</g>\n",
              "<!-- 136156640570112&#45;&gt;136156640730640* -->\n",
              "<g id=\"edge8\" class=\"edge\">\n",
              "<title>136156640570112&#45;&gt;136156640730640*</title>\n",
              "<path fill=\"none\" stroke=\"black\" d=\"M196.05,-128.5C206.52,-128.5 216.65,-128.5 225.71,-128.5\"/>\n",
              "<polygon fill=\"black\" stroke=\"black\" points=\"225.79,-132 235.79,-128.5 225.79,-125 225.79,-132\"/>\n",
              "</g>\n",
              "<!-- 136156662003600 -->\n",
              "<g id=\"node12\" class=\"node\">\n",
              "<title>136156662003600</title>\n",
              "<polygon fill=\"none\" stroke=\"black\" points=\"4,-0.5 4,-36.5 196,-36.5 196,-0.5 4,-0.5\"/>\n",
              "<text text-anchor=\"middle\" x=\"19\" y=\"-14.8\" font-family=\"Times,serif\" font-size=\"14.00\">x1</text>\n",
              "<polyline fill=\"none\" stroke=\"black\" points=\"34,-0.5 34,-36.5 \"/>\n",
              "<text text-anchor=\"middle\" x=\"74\" y=\"-14.8\" font-family=\"Times,serif\" font-size=\"14.00\">data 2.0000</text>\n",
              "<polyline fill=\"none\" stroke=\"black\" points=\"114,-0.5 114,-36.5 \"/>\n",
              "<text text-anchor=\"middle\" x=\"155\" y=\"-14.8\" font-family=\"Times,serif\" font-size=\"14.00\">grad 0.0000</text>\n",
              "</g>\n",
              "<!-- 136156662003600&#45;&gt;136156662005280* -->\n",
              "<g id=\"edge12\" class=\"edge\">\n",
              "<title>136156662003600&#45;&gt;136156662005280*</title>\n",
              "<path fill=\"none\" stroke=\"black\" d=\"M169.28,-36.5C179.65,-39.61 190.16,-42.98 200,-46.5 210.28,-50.17 221.28,-54.74 231.11,-59.07\"/>\n",
              "<polygon fill=\"black\" stroke=\"black\" points=\"229.93,-62.37 240.48,-63.27 232.79,-55.99 229.93,-62.37\"/>\n",
              "</g>\n",
              "<!-- 136156640725936 -->\n",
              "<g id=\"node13\" class=\"node\">\n",
              "<title>136156640725936</title>\n",
              "<polygon fill=\"none\" stroke=\"black\" points=\"672,-82.5 672,-118.5 945,-118.5 945,-82.5 672,-82.5\"/>\n",
              "<text text-anchor=\"middle\" x=\"725\" y=\"-96.8\" font-family=\"Times,serif\" font-size=\"14.00\">x1*w1 + x2*w2</text>\n",
              "<polyline fill=\"none\" stroke=\"black\" points=\"778,-82.5 778,-118.5 \"/>\n",
              "<text text-anchor=\"middle\" x=\"820.5\" y=\"-96.8\" font-family=\"Times,serif\" font-size=\"14.00\">data &#45;6.0000</text>\n",
              "<polyline fill=\"none\" stroke=\"black\" points=\"863,-82.5 863,-118.5 \"/>\n",
              "<text text-anchor=\"middle\" x=\"904\" y=\"-96.8\" font-family=\"Times,serif\" font-size=\"14.00\">grad 0.0000</text>\n",
              "</g>\n",
              "<!-- 136156640725936&#45;&gt;136156640726032+ -->\n",
              "<g id=\"edge13\" class=\"edge\">\n",
              "<title>136156640725936&#45;&gt;136156640726032+</title>\n",
              "<path fill=\"none\" stroke=\"black\" d=\"M941.24,-118.51C952.12,-120 962.4,-121.4 971.45,-122.64\"/>\n",
              "<polygon fill=\"black\" stroke=\"black\" points=\"971.11,-126.13 981.49,-124.01 972.05,-119.19 971.11,-126.13\"/>\n",
              "</g>\n",
              "<!-- 136156640725936+&#45;&gt;136156640725936 -->\n",
              "<g id=\"edge4\" class=\"edge\">\n",
              "<title>136156640725936+&#45;&gt;136156640725936</title>\n",
              "<path fill=\"none\" stroke=\"black\" d=\"M636.23,-100.5C643.7,-100.5 652.41,-100.5 661.87,-100.5\"/>\n",
              "<polygon fill=\"black\" stroke=\"black\" points=\"661.98,-104 671.98,-100.5 661.98,-97 661.98,-104\"/>\n",
              "</g>\n",
              "</g>\n",
              "</svg>\n"
            ],
            "text/plain": [
              "<graphviz.graphs.Digraph at 0x7bd57178f8e0>"
            ]
          },
          "execution_count": 18,
          "metadata": {},
          "output_type": "execute_result"
        }
      ],
      "source": [
        "draw_dot(o)"
      ]
    },
    {
      "cell_type": "code",
      "execution_count": 20,
      "metadata": {
        "id": "U-DTVwjRs-_6"
      },
      "outputs": [],
      "source": [
        "o.grad = 1.0"
      ]
    },
    {
      "cell_type": "code",
      "execution_count": null,
      "metadata": {
        "colab": {
          "base_uri": "https://localhost:8080/"
        },
        "id": "ttXAHJR0tJJZ",
        "outputId": "7975a7fa-febc-4d5c-980d-12584cea3181"
      },
      "outputs": [
        {
          "data": {
            "text/plain": [
              "0.4999999999999999"
            ]
          },
          "execution_count": 122,
          "metadata": {},
          "output_type": "execute_result"
        }
      ],
      "source": [
        "# o = tanh(n)\n",
        "# do/dn = 1 - (tanh(n))**2 = 1 - (o)**2\n",
        "1 - (o.data)**2\n",
        "# do/dn = 0.5"
      ]
    },
    {
      "cell_type": "code",
      "execution_count": 21,
      "metadata": {
        "id": "1eYZtG2htmz1"
      },
      "outputs": [],
      "source": [
        "n.grad = 0.\n",
        "# since n is connected to x1w1x2w2 and b via a plus node\n",
        "x1w1x2w2.grad = 0.5\n",
        "b.grad = 0.5\n",
        "# similarily\n",
        "x1w1.grad = 0.5\n",
        "x2w2.grad = 0.5\n",
        "# since x1w1 is connected to x1 and w1 via multiplication\n",
        "x1.grad = w1.data * x1w1.grad\n",
        "w1.grad = x1.data * x1w1.grad\n",
        "# since x2w2 is connected to x2 and w2 via multiplication\n",
        "x2.grad = w2.data * x2w2.grad\n",
        "w2.grad = x2.data * x2w2.grad\n"
      ]
    },
    {
      "cell_type": "code",
      "execution_count": null,
      "metadata": {
        "id": "JkRSZFp-uBV5"
      },
      "outputs": [],
      "source": []
    }
  ],
  "metadata": {
    "colab": {
      "provenance": []
    },
    "kernelspec": {
      "display_name": "Python 3",
      "name": "python3"
    },
    "language_info": {
      "codemirror_mode": {
        "name": "ipython",
        "version": 3
      },
      "file_extension": ".py",
      "mimetype": "text/x-python",
      "name": "python",
      "nbconvert_exporter": "python",
      "pygments_lexer": "ipython3",
      "version": "3.12.1"
    }
  },
  "nbformat": 4,
  "nbformat_minor": 0
}
