{
  "cells": [
    {
      "cell_type": "markdown",
      "metadata": {},
      "source": [
        "##Neural Networks - Forward Pass and Backpropagation\n",
        "\n",
        "In this lesson, we're going to do intuitive work on forward pass, back-propagation, loss functions and auto-gradient descent.  We will focus on training in the next lesson.\n",
        "\n",
        "Forward pass, back-propagation, loss functions and auto-gradient descent are key to understand training neural networks... In Andrej Karpathy's own words - \"all the rest is just efficiencies\".\n",
        "\n",
        "We are going to develop this lesson in Python code.  Lets start with importing in the libraries we need - the core ones are the math, numpy and matplotlib libraries."
      ]
    },
    {
      "cell_type": "code",
      "execution_count": 15,
      "metadata": {
        "id": "e1I7YJiU6YrF"
      },
      "outputs": [],
      "source": [
        "import math\n",
        "import numpy as np\n",
        "import matplotlib.pyplot as plt\n",
        "%matplotlib inline"
      ]
    },
    {
      "cell_type": "markdown",
      "metadata": {},
      "source": [
        "#### Function of a single variable\n",
        "\n",
        "Lets start with an arbitrary scalar valued function $f(x)$.  It takes $x$ and returns $y$\n",
        "\n",
        "$$\n",
        "y = f(x) = 3x^2 - 4x + 5\n",
        "$$\n",
        "\n",
        "This function in Python, is written as follows:"
      ]
    },
    {
      "cell_type": "code",
      "execution_count": 16,
      "metadata": {
        "id": "-ir5vPCx-lMx"
      },
      "outputs": [],
      "source": [
        "\n",
        "# arbitrary scalar value function - takes x and returns y\n",
        "def f(x):\n",
        "  return 3*x**2 - 4*x + 5"
      ]
    },
    {
      "cell_type": "markdown",
      "metadata": {},
      "source": [
        "So for e.g., if $x = 3$"
      ]
    },
    {
      "cell_type": "code",
      "execution_count": 17,
      "metadata": {
        "colab": {
          "base_uri": "https://localhost:8080/"
        },
        "id": "xSNEjZWj-0DM",
        "outputId": "a191983d-49dd-4a87-8e17-500992caf229"
      },
      "outputs": [
        {
          "data": {
            "text/plain": [
              "20.0"
            ]
          },
          "execution_count": 17,
          "metadata": {},
          "output_type": "execute_result"
        }
      ],
      "source": [
        "f(3.0)"
      ]
    },
    {
      "cell_type": "markdown",
      "metadata": {},
      "source": [
        "Lets plot this function and see what it looks like.  We use a range  values for $x$ from -5 through 5 with a step of 0.25"
      ]
    },
    {
      "cell_type": "code",
      "execution_count": 18,
      "metadata": {
        "colab": {
          "base_uri": "https://localhost:8080/",
          "height": 447
        },
        "id": "JkbqaGxD-2Lq",
        "outputId": "bdc0bcc0-5b60-4e08-ec34-04c1ea147210"
      },
      "outputs": [
        {
          "data": {
            "text/plain": [
              "array([-5.  , -4.75, -4.5 , -4.25, -4.  , -3.75, -3.5 , -3.25, -3.  ,\n",
              "       -2.75, -2.5 , -2.25, -2.  , -1.75, -1.5 , -1.25, -1.  , -0.75,\n",
              "       -0.5 , -0.25,  0.  ,  0.25,  0.5 ,  0.75,  1.  ,  1.25,  1.5 ,\n",
              "        1.75,  2.  ,  2.25,  2.5 ,  2.75,  3.  ,  3.25,  3.5 ,  3.75,\n",
              "        4.  ,  4.25,  4.5 ,  4.75])"
            ]
          },
          "execution_count": 18,
          "metadata": {},
          "output_type": "execute_result"
        }
      ],
      "source": [
        "xs = np.arange(-5, 5, 0.25)\n",
        "ys = f(xs)\n",
        "xs # this just prints the value of xs"
      ]
    },
    {
      "cell_type": "code",
      "execution_count": 19,
      "metadata": {},
      "outputs": [
        {
          "data": {
            "text/plain": [
              "array([100.    ,  91.6875,  83.75  ,  76.1875,  69.    ,  62.1875,\n",
              "        55.75  ,  49.6875,  44.    ,  38.6875,  33.75  ,  29.1875,\n",
              "        25.    ,  21.1875,  17.75  ,  14.6875,  12.    ,   9.6875,\n",
              "         7.75  ,   6.1875,   5.    ,   4.1875,   3.75  ,   3.6875,\n",
              "         4.    ,   4.6875,   5.75  ,   7.1875,   9.    ,  11.1875,\n",
              "        13.75  ,  16.6875,  20.    ,  23.6875,  27.75  ,  32.1875,\n",
              "        37.    ,  42.1875,  47.75  ,  53.6875])"
            ]
          },
          "execution_count": 19,
          "metadata": {},
          "output_type": "execute_result"
        }
      ],
      "source": [
        "ys # this just prints the value of ys"
      ]
    },
    {
      "cell_type": "code",
      "execution_count": 20,
      "metadata": {},
      "outputs": [
        {
          "data": {
            "text/plain": [
              "[<matplotlib.lines.Line2D at 0x10f6a77a0>]"
            ]
          },
          "execution_count": 20,
          "metadata": {},
          "output_type": "execute_result"
        },
        {
          "data": {
            "image/png": "[encoded data removed]",
            "text/plain": [
              "<Figure size 640x480 with 1 Axes>"
            ]
          },
          "metadata": {},
          "output_type": "display_data"
        }
      ],
      "source": [
        "plt.plot(xs, ys)"
      ]
    },
    {
      "cell_type": "markdown",
      "metadata": {},
      "source": [
        "Next we want figure out what the derivative of this equation looks like.  The Wikipedia definition of a [deriviative](https://en.wikipedia.org/wiki/Derivative) is as follows:\n",
        "\n",
        "Given a function $$f(x)$$ its derivative is written as\n",
        "\n",
        "$$\n",
        "\\lim_{h \\to 0} \\frac{f(x+h) - f(x)}{h}\n",
        "$$\n",
        "\n",
        "The slope is referred to as the **Gradient**. (_Note: there is a precise defintion that might differ from slope - but they are close enough_)\n",
        "\n",
        "_So if we bump up x at a particular point in the function by a very small value h, how does that function respond, i.e. by what sensitivitiy, basically the slope of the response at that point, how much does the function go up or down_"
      ]
    },
    {
      "cell_type": "code",
      "execution_count": 21,
      "metadata": {
        "colab": {
          "base_uri": "https://localhost:8080/"
        },
        "id": "ucCZSsyo_ko6",
        "outputId": "ca7d3534-4eb6-4ba8-eaa7-d50c73000b45"
      },
      "outputs": [
        {
          "data": {
            "text/plain": [
              "14.000001158365194"
            ]
          },
          "execution_count": 21,
          "metadata": {},
          "output_type": "execute_result"
        }
      ],
      "source": [
        "h = 0.000000001\n",
        "x = 3.0 # we expect a positive slope at x=3\n",
        "(f(x+h) - f(x))/h"
      ]
    },
    {
      "cell_type": "code",
      "execution_count": 22,
      "metadata": {},
      "outputs": [
        {
          "data": {
            "image/png": "[encoded data removed]",
            "text/plain": [
              "<Figure size 640x480 with 1 Axes>"
            ]
          },
          "metadata": {},
          "output_type": "display_data"
        }
      ],
      "source": [
        "\n",
        "plt.plot(xs, f(xs))\n",
        "\n",
        "# Function to plot tangent line\n",
        "def plot_tangent(x0, y0, slope, color='r'):\n",
        "    x_tangent = np.array([x0 - 1, x0 + 1])\n",
        "    y_tangent = slope * (x_tangent - x0) + y0\n",
        "    plt.plot(x_tangent, y_tangent, color, linestyle='--', linewidth=2)\n",
        "\n",
        "# show the tangent lines at x = 3.0\n",
        "y = f(x)  # f is our original function\n",
        "slope = (f(x+h) - f(x))/h\n",
        "plot_tangent(x, y, slope)\n",
        "plt.plot(x, y, 'ro')  # Add a red dot at the tangent point\n",
        "\n",
        "plt.xlabel('x')\n",
        "plt.ylabel('y')\n",
        "plt.title('Function with Tangent Lines')\n",
        "plt.grid(True)\n",
        "plt.show()"
      ]
    },
    {
      "cell_type": "markdown",
      "metadata": {},
      "source": [
        "So at x = 3, the slope is 14 (you can get the same answer by manually plugging in x into the equation).  This means that the function responds postitively (i.e. going up to the right) "
      ]
    },
    {
      "cell_type": "code",
      "execution_count": 23,
      "metadata": {
        "colab": {
          "base_uri": "https://localhost:8080/"
        },
        "id": "YkRbE9OVABCr",
        "outputId": "248ddeab-5c6c-4851-dced-07a7610d0da5"
      },
      "outputs": [
        {
          "data": {
            "text/plain": [
              "-22.000001820288162"
            ]
          },
          "execution_count": 23,
          "metadata": {},
          "output_type": "execute_result"
        }
      ],
      "source": [
        "x = -3.0 # we expect a negative slope at x=-3\n",
        "(f(x+h) - f(x))/h"
      ]
    },
    {
      "cell_type": "code",
      "execution_count": 24,
      "metadata": {},
      "outputs": [
        {
          "data": {
            "image/png": "[encoded data removed]",
            "text/plain": [
              "<Figure size 640x480 with 1 Axes>"
            ]
          },
          "metadata": {},
          "output_type": "display_data"
        }
      ],
      "source": [
        "plt.plot(xs, f(xs))\n",
        "\n",
        "# show the tangent lines at x = -3.0\n",
        "y = f(x)  # f is our original function\n",
        "slope = (f(x+h) - f(x))/h\n",
        "plot_tangent(x, y, slope)\n",
        "plt.plot(x, y, 'ro')  # Add a red dot at the tangent point\n",
        "\n",
        "plt.xlabel('x')\n",
        "plt.ylabel('y')\n",
        "plt.title('Function with Tangent Lines')\n",
        "plt.grid(True)\n",
        "plt.show()"
      ]
    },
    {
      "cell_type": "markdown",
      "metadata": {},
      "source": [
        "So at x = -3, the slope is 22 (again, you can get the same answer by manually plugging in x into the equation).  This means that the function responds negatively (i.e. going downward) "
      ]
    },
    {
      "cell_type": "code",
      "execution_count": 25,
      "metadata": {
        "colab": {
          "base_uri": "https://localhost:8080/"
        },
        "id": "ltQAFPCEADGM",
        "outputId": "124e048b-03f9-4ef2-bee3-d8cc0d1bbf40"
      },
      "outputs": [
        {
          "data": {
            "text/plain": [
              "0.002000177801164682"
            ]
          },
          "execution_count": 25,
          "metadata": {},
          "output_type": "execute_result"
        }
      ],
      "source": [
        "x = 0.667 # we expect a zero slope at x=0.6666\n",
        "(f(x+h) - f(x))/h"
      ]
    },
    {
      "cell_type": "code",
      "execution_count": 26,
      "metadata": {},
      "outputs": [
        {
          "data": {
            "image/png": "[encoded data removed]",
            "text/plain": [
              "<Figure size 640x480 with 1 Axes>"
            ]
          },
          "metadata": {},
          "output_type": "display_data"
        }
      ],
      "source": [
        "plt.plot(xs, f(xs))\n",
        "\n",
        "# show the tangent lines at x = 3.0\n",
        "y = f(x)  # f is our original function\n",
        "slope = (f(x+h) - f(x))/h\n",
        "plot_tangent(x, y, slope)\n",
        "plt.plot(x, y, 'ro')  # Add a red dot at the tangent point\n",
        "\n",
        "plt.xlabel('x')\n",
        "plt.ylabel('y')\n",
        "plt.title('Function with Tangent Lines')\n",
        "plt.grid(True)\n",
        "plt.show()"
      ]
    },
    {
      "cell_type": "markdown",
      "metadata": {},
      "source": [
        "At a specific point (x = 2/3) the slope is zero (i.e. there is minimal or zero response or change to incrementing x by a small amount h)"
      ]
    },
    {
      "cell_type": "markdown",
      "metadata": {},
      "source": [
        "#### Function of multiple variables\n",
        "\n",
        "Lets now use a function that has multiple variables and see how the gradient is affected by each of those variables"
      ]
    },
    {
      "cell_type": "code",
      "execution_count": 27,
      "metadata": {
        "colab": {
          "base_uri": "https://localhost:8080/"
        },
        "id": "FQT-AgxzAdm2",
        "outputId": "82a5c176-925f-49bb-9a78-33d0a4752eb8"
      },
      "outputs": [
        {
          "name": "stdout",
          "output_type": "stream",
          "text": [
            "4.0\n"
          ]
        }
      ],
      "source": [
        "# lets get more complex\n",
        "a = 2.0\n",
        "b = -3.0\n",
        "c = 10.0\n",
        "d = a*b + c\n",
        "print(d)"
      ]
    },
    {
      "cell_type": "markdown",
      "metadata": {},
      "source": [
        "Lets figure out derivative of d w.r.t. each of a, b and c"
      ]
    },
    {
      "cell_type": "code",
      "execution_count": 28,
      "metadata": {
        "colab": {
          "base_uri": "https://localhost:8080/"
        },
        "id": "t6BrgbjTAdoJ",
        "outputId": "fb19d81b-25ac-4b11-baf5-e2a28e6bf4e2"
      },
      "outputs": [
        {
          "name": "stdout",
          "output_type": "stream",
          "text": [
            "d1 4.0\n",
            "d2 3.999699999999999\n",
            "slope -3.000000000010772\n"
          ]
        }
      ],
      "source": [
        "# small amount to vary each variable a, b, c by\n",
        "h = 0.0001\n",
        "\n",
        "# inputs\n",
        "a = 2.0\n",
        "b = -3.0\n",
        "c = 10.0\n",
        "\n",
        "d1 = a*b + c\n",
        "a += h # bump up a by h (a very small value)\n",
        "d2 = a*b + c\n",
        "\n",
        "print('d1', d1)\n",
        "print('d2', d2) # since a will become slightly more positive but is multipled by b which \n",
        "                # is negative we expect d2 to be slightly smaller\n",
        "print('slope', (d2-d1)/h) # gradient"
      ]
    },
    {
      "cell_type": "markdown",
      "metadata": {},
      "source": [
        "So the gradient of d with respect to a (i.e. $dd/da$) has a negative slope.  So a small change in a changes d in a downward direction.\n",
        "\n",
        "Lets see how a small change\n",
        " in b affects the gradient."
      ]
    },
    {
      "cell_type": "code",
      "execution_count": 29,
      "metadata": {},
      "outputs": [
        {
          "name": "stdout",
          "output_type": "stream",
          "text": [
            "d1 4.0\n",
            "d2 4.0002\n",
            "slope 2.0000000000042206\n"
          ]
        }
      ],
      "source": [
        "# inputs\n",
        "a = 2.0\n",
        "b = -3.0\n",
        "c = 10.0\n",
        "\n",
        "d1 = a*b + c\n",
        "b += h # bump up b by h (a very small value)\n",
        "d2 = a*b + c\n",
        "\n",
        "print('d1', d1)\n",
        "print('d2', d2) # since b will become slightly less negative but is multipled by a which is \n",
        "                # postive we expect d2 to be slightly larger\n",
        "print('slope', (d2-d1)/h) # gradient"
      ]
    },
    {
      "cell_type": "markdown",
      "metadata": {},
      "source": [
        "So the gradient of d with respect to b (i.e. $dd/db$) has a positive slope.  So a small change in a changes d in a upward direction.\n",
        "\n",
        "Lets see how a small change in c affects the gradient."
      ]
    },
    {
      "cell_type": "code",
      "execution_count": 30,
      "metadata": {},
      "outputs": [
        {
          "name": "stdout",
          "output_type": "stream",
          "text": [
            "d1 4.0\n",
            "d2 4.0001\n",
            "slope 0.9999999999976694\n"
          ]
        }
      ],
      "source": [
        "# inputs\n",
        "a = 2.0\n",
        "b = -3.0\n",
        "c = 10.0\n",
        "\n",
        "d1 = a*b + c\n",
        "c += h # bump up c by h (a very small value)\n",
        "d2 = a*b + c\n",
        "\n",
        "print('d1', d1)\n",
        "print('d2', d2) # since bc will become slightly larger, we expect d2 to be larger\n",
        "print('slope', (d2-d1)/h) # gradient"
      ]
    },
    {
      "cell_type": "markdown",
      "metadata": {},
      "source": [
        "So the gradient of d with respect to b (i.e. $dd/dc$) has a positive slope.  So a small change in a changes d in a upward direction."
      ]
    },
    {
      "cell_type": "markdown",
      "metadata": {},
      "source": [
        "### Forward Pass and Back-Propagation\n",
        "\n",
        "Continuing on, lets spell-out the details of how to do a forward pass and back-propagation on this multi-variable equation.\n",
        "\n",
        "Remember from our [Introduction to Neural Networks](/nn-intro.ipynb) lesson that the basic mathematical expression for a Neuron in a neural network is\n",
        "\n",
        "$$\n",
        "y = w_1 x_1 + w_2 x_2 + w_3 x_3 + \\dots + b\n",
        "$$\n",
        "\n",
        "We will get to this specific equation in the next lesson on [Training Neural Networks](/nn-training.ipynb), but for now simply note that the equation above is sort of similar to our current equation\n",
        "\n",
        "$$\n",
        "d = a b + c\n",
        "$$\n",
        "\n",
        "with a single variable b (x) and a single weight a (w) and with a bias c (b)\n",
        "\n",
        "Lets now go step-by-step as to how to figure out a Gradient for the output d with respect to each of the variables, taking into account the fact that we first multiple two of them and then add.\n",
        "\n",
        "So we need to build an intuition for how we calculate the gradient through the multiplication and addition operations.\n",
        "\n",
        "In order to do that, lets create each of these as a Value object and implment the multiplication, addition.\n",
        "\n",
        "We also want to add somthing that representsan activation function to apply to the function output d to mimic the activation.\n",
        "\n",
        "So essentially we want to represent the overall equation\n",
        "\n",
        "$$\n",
        "activation(d = a b + c)\n",
        "$$\n",
        "\n",
        "so we will actually use the equation\n",
        "\n",
        "$$\n",
        "L = f*(a*b + c)\n",
        "$$\n",
        "\n",
        "Here f sort of represents an activation function (which in the real Neurron will be a number from -1 to 1.  This is because the activation function we choose will be the Hyperbolic Tangent (tanh) function).  For now we are just multiplying f with the output of $ab + c$"
      ]
    },
    {
      "cell_type": "markdown",
      "metadata": {},
      "source": [
        "So lets define a class Value as follows:"
      ]
    },
    {
      "cell_type": "code",
      "execution_count": 42,
      "metadata": {
        "colab": {
          "base_uri": "https://localhost:8080/"
        },
        "id": "yNMB1Vb-AycG",
        "outputId": "fb1d4799-6a75-47c9-a0b8-dbcac37d4ac5"
      },
      "outputs": [],
      "source": [
        "class Value:\n",
        "\n",
        "  # Initialized with the value (data)\n",
        "  # We also keep track of the children (i.e. which other Values created this one)\n",
        "  # So for e.g. 3 + 2 = 5.  This current Value is 5 and its children are 3 and 2\n",
        "  # We also keep track of the operation (plus, multiply, tanh)\n",
        "  # We also create a label for this Value\n",
        "  # We also have a self.grad = this maintains the gradient of the *final output* \n",
        "  # w.r.t. the current Value object (so dL/df for e.g.)\n",
        "  def __init__(self, data, _children=(), _op='', label=''):\n",
        "    self.data = data\n",
        "    self.grad = 0.0 # default gradient is zero\n",
        "    self._prev = set(_children) # empty set (set for efficiency)\n",
        "    self._op = _op\n",
        "    self.label = label\n",
        "\n",
        "  # This function is what is printed out to console for this Value object\n",
        "  def __repr__(self):\n",
        "    return f\"Value(data={self.data}, grad={self.grad})\"\n",
        "\n",
        "  # Add this (self) with other and return a new Value\n",
        "  def __add__(self, other):\n",
        "    return Value(self.data + other.data, (self, other), '+')\n",
        "\n",
        "  # Add this (self) with other and return a new Value\n",
        "  def __mul__(self, other):\n",
        "    return Value(self.data * other.data, (self, other), '*')\n",
        "\n",
        "  # Activation function (Hyperbolic Tangent - returns value between -1 and 1)\n",
        "  def tanh(self):\n",
        "    n = self.data\n",
        "    t = (math.exp(2*n) - 1)/(math.exp(2*n) + 1) # this is simply how tanh is defined (see Wikipedia)\n",
        "    out =  Value(t, (self,), label='tanh')\n",
        "    return out"
      ]
    },
    {
      "cell_type": "markdown",
      "metadata": {},
      "source": [
        "#### Forward Pass\n",
        "\n",
        "Forward-pass then is just plugging in values into the equation to get the value (in this case of the activation function)"
      ]
    },
    {
      "cell_type": "code",
      "execution_count": 64,
      "metadata": {},
      "outputs": [
        {
          "data": {
            "text/plain": [
              "Value(data=-8.0, grad=0.0)"
            ]
          },
          "execution_count": 64,
          "metadata": {},
          "output_type": "execute_result"
        }
      ],
      "source": [
        "a = Value(2.0, label='a')\n",
        "b = Value(-3.0, label='b')\n",
        "c = Value(10.0, label='c')\n",
        "e = a*b\n",
        "e.label='e'\n",
        "d = e + c; d.label='d'\n",
        "f = Value(-2.0, label='f')\n",
        "L = d*f # L is the output of our graph\n",
        "L.label='L'\n",
        "L # Note: forward-pass builds out value of L and we print it out here"
      ]
    },
    {
      "cell_type": "markdown",
      "metadata": {},
      "source": [
        "The code below can be treated as black-box code for now... in that you don't need to figure out what it does.  Just know that it pretty much prints out the equation we are working with, i.e., \n",
        "\n",
        "$$\n",
        "L = f*(a*b + c)\n",
        "$$\n",
        "\n",
        "It uses a Python library called **graphviz** that prints out a pretty graph (called a Directed Acyclic Graph) of the equation"
      ]
    },
    {
      "cell_type": "code",
      "execution_count": 43,
      "metadata": {
        "id": "CZza8mm7Y33x"
      },
      "outputs": [],
      "source": [
        "# black-box code that draws a DAG for Value objects using graphviz Digraph\n",
        "from graphviz import Digraph\n",
        "\n",
        "def trace(root):\n",
        "    nodes, edges = set(), set()\n",
        "    def build(v):\n",
        "        if v not in nodes:\n",
        "            nodes.add(v)\n",
        "            for child in v._prev:\n",
        "                edges.add((child, v))\n",
        "                build(child)\n",
        "    build(root)\n",
        "    return nodes, edges\n",
        "\n",
        "def draw_dot(root, format='svg', rankdir='LR'):\n",
        "    \"\"\"\n",
        "    format: png | svg | ...\n",
        "    rankdir: TB (top to bottom graph) | LR (left to right)\n",
        "    \"\"\"\n",
        "    assert rankdir in ['LR', 'TB']\n",
        "    nodes, edges = trace(root)\n",
        "    dot = Digraph(format=format, graph_attr={'rankdir': rankdir}) #, node_attr={'rankdir': 'TB'})\n",
        "\n",
        "    for n in nodes:\n",
        "        # dot.node(name=str(id(n)), label = \"{ data %.4f | grad %.4f }\" % (n.data, n.grad), shape='record')\n",
        "        dot.node(name=str(id(n)), label = \"{ %s | data %.4f | grad %.4f }\" % (n.label, n.data, n.grad), shape='record')\n",
        "        if n._op:\n",
        "            dot.node(name=str(id(n)) + n._op, label=n._op)\n",
        "            dot.edge(str(id(n)) + n._op, str(id(n)))\n",
        "\n",
        "    for n1, n2 in edges:\n",
        "        dot.edge(str(id(n1)), str(id(n2)) + n2._op)\n",
        "\n",
        "    return dot"
      ]
    },
    {
      "cell_type": "markdown",
      "metadata": {},
      "source": [
        "Lets use the draw_dot function now to draw out our equation (represented by the Value 'L').\n",
        "\n",
        "Note that we have created intermediate Value objects. So for e.g.\n",
        "\n",
        "$$\n",
        "e = a*b\n",
        "$$\n",
        "\n",
        "and so\n",
        "\n",
        "$$\n",
        "d = e + c\n",
        "$$\n",
        "\n",
        "which then yields\n",
        "\n",
        "$$\n",
        "L = f*(d)\n",
        "$$"
      ]
    },
    {
      "cell_type": "code",
      "execution_count": 44,
      "metadata": {
        "colab": {
          "base_uri": "https://localhost:8080/",
          "height": 247
        },
        "id": "8khwWHM7Y9zc",
        "outputId": "8ceef54e-3a0e-4976-fac6-c2cc96101bf2"
      },
      "outputs": [
        {
          "data": {
            "image/svg+xml": [
              "<?xml version=\"1.0\" encoding=\"UTF-8\" standalone=\"no\"?>\n",
              "<!DOCTYPE svg PUBLIC \"-//W3C//DTD SVG 1.1//EN\"\n",
              " \"http://www.w3.org/Graphics/SVG/1.1/DTD/svg11.dtd\">\n",
              "<!-- Generated by graphviz version 12.1.1 (20240910.0053)\n",
              " -->\n",
              "<!-- Pages: 1 -->\n",
              "<svg width=\"1140pt\" height=\"154pt\"\n",
              " viewBox=\"0.00 0.00 1139.75 154.00\" xmlns=\"http://www.w3.org/2000/svg\" xmlns:xlink=\"http://www.w3.org/1999/xlink\">\n",
              "<g id=\"graph0\" class=\"graph\" transform=\"scale(1 1) rotate(0) translate(4 150)\">\n",
              "<polygon fill=\"white\" stroke=\"none\" points=\"-4,4 -4,-150 1135.75,-150 1135.75,4 -4,4\"/>\n",
              "<!-- 4557438464 -->\n",
              "<g id=\"node1\" class=\"node\">\n",
              "<title>4557438464</title>\n",
              "<polygon fill=\"none\" stroke=\"black\" points=\"630,-109.5 630,-145.5 816,-145.5 816,-109.5 630,-109.5\"/>\n",
              "<text text-anchor=\"middle\" x=\"640.25\" y=\"-122.7\" font-family=\"Times,serif\" font-size=\"14.00\">f</text>\n",
              "<polyline fill=\"none\" stroke=\"black\" points=\"650.5,-110 650.5,-145.5\"/>\n",
              "<text text-anchor=\"middle\" x=\"692.62\" y=\"-122.7\" font-family=\"Times,serif\" font-size=\"14.00\">data &#45;2.0000</text>\n",
              "<polyline fill=\"none\" stroke=\"black\" points=\"734.75,-110 734.75,-145.5\"/>\n",
              "<text text-anchor=\"middle\" x=\"775.38\" y=\"-122.7\" font-family=\"Times,serif\" font-size=\"14.00\">grad 0.0000</text>\n",
              "</g>\n",
              "<!-- 4557438896* -->\n",
              "<g id=\"node8\" class=\"node\">\n",
              "<title>4557438896*</title>\n",
              "<ellipse fill=\"none\" stroke=\"black\" cx=\"879\" cy=\"-99.5\" rx=\"27\" ry=\"18\"/>\n",
              "<text text-anchor=\"middle\" x=\"879\" y=\"-94.45\" font-family=\"Times,serif\" font-size=\"14.00\">*</text>\n",
              "</g>\n",
              "<!-- 4557438464&#45;&gt;4557438896* -->\n",
              "<g id=\"edge7\" class=\"edge\">\n",
              "<title>4557438464&#45;&gt;4557438896*</title>\n",
              "<path fill=\"none\" stroke=\"black\" d=\"M816.25,-110.73C825.1,-109.12 833.67,-107.56 841.46,-106.14\"/>\n",
              "<polygon fill=\"black\" stroke=\"black\" points=\"841.93,-109.62 851.15,-104.38 840.68,-102.73 841.93,-109.62\"/>\n",
              "</g>\n",
              "<!-- 4557438224 -->\n",
              "<g id=\"node2\" class=\"node\">\n",
              "<title>4557438224</title>\n",
              "<polygon fill=\"none\" stroke=\"black\" points=\"2.62,-55.5 2.62,-91.5 185.62,-91.5 185.62,-55.5 2.62,-55.5\"/>\n",
              "<text text-anchor=\"middle\" x=\"13.62\" y=\"-68.7\" font-family=\"Times,serif\" font-size=\"14.00\">a</text>\n",
              "<polyline fill=\"none\" stroke=\"black\" points=\"24.62,-56 24.62,-91.5\"/>\n",
              "<text text-anchor=\"middle\" x=\"64.5\" y=\"-68.7\" font-family=\"Times,serif\" font-size=\"14.00\">data 2.0000</text>\n",
              "<polyline fill=\"none\" stroke=\"black\" points=\"104.38,-56 104.38,-91.5\"/>\n",
              "<text text-anchor=\"middle\" x=\"145\" y=\"-68.7\" font-family=\"Times,serif\" font-size=\"14.00\">grad 0.0000</text>\n",
              "</g>\n",
              "<!-- 4557437408* -->\n",
              "<g id=\"node10\" class=\"node\">\n",
              "<title>4557437408*</title>\n",
              "<ellipse fill=\"none\" stroke=\"black\" cx=\"251.25\" cy=\"-45.5\" rx=\"27\" ry=\"18\"/>\n",
              "<text text-anchor=\"middle\" x=\"251.25\" y=\"-40.45\" font-family=\"Times,serif\" font-size=\"14.00\">*</text>\n",
              "</g>\n",
              "<!-- 4557438224&#45;&gt;4557437408* -->\n",
              "<g id=\"edge4\" class=\"edge\">\n",
              "<title>4557438224&#45;&gt;4557437408*</title>\n",
              "<path fill=\"none\" stroke=\"black\" d=\"M185.81,-57.13C195.66,-55.35 205.21,-53.63 213.82,-52.08\"/>\n",
              "<polygon fill=\"black\" stroke=\"black\" points=\"214.19,-55.57 223.41,-50.34 212.95,-48.68 214.19,-55.57\"/>\n",
              "</g>\n",
              "<!-- 4557438752 -->\n",
              "<g id=\"node3\" class=\"node\">\n",
              "<title>4557438752</title>\n",
              "<polygon fill=\"none\" stroke=\"black\" points=\"314.25,-82.5 314.25,-118.5 504,-118.5 504,-82.5 314.25,-82.5\"/>\n",
              "<text text-anchor=\"middle\" x=\"325.25\" y=\"-95.7\" font-family=\"Times,serif\" font-size=\"14.00\">c</text>\n",
              "<polyline fill=\"none\" stroke=\"black\" points=\"336.25,-83 336.25,-118.5\"/>\n",
              "<text text-anchor=\"middle\" x=\"379.5\" y=\"-95.7\" font-family=\"Times,serif\" font-size=\"14.00\">data 10.0000</text>\n",
              "<polyline fill=\"none\" stroke=\"black\" points=\"422.75,-83 422.75,-118.5\"/>\n",
              "<text text-anchor=\"middle\" x=\"463.38\" y=\"-95.7\" font-family=\"Times,serif\" font-size=\"14.00\">grad 0.0000</text>\n",
              "</g>\n",
              "<!-- 4557438848+ -->\n",
              "<g id=\"node6\" class=\"node\">\n",
              "<title>4557438848+</title>\n",
              "<ellipse fill=\"none\" stroke=\"black\" cx=\"567\" cy=\"-72.5\" rx=\"27\" ry=\"18\"/>\n",
              "<text text-anchor=\"middle\" x=\"567\" y=\"-67.45\" font-family=\"Times,serif\" font-size=\"14.00\">+</text>\n",
              "</g>\n",
              "<!-- 4557438752&#45;&gt;4557438848+ -->\n",
              "<g id=\"edge5\" class=\"edge\">\n",
              "<title>4557438752&#45;&gt;4557438848+</title>\n",
              "<path fill=\"none\" stroke=\"black\" d=\"M504.39,-83.57C513.16,-81.99 521.65,-80.47 529.37,-79.08\"/>\n",
              "<polygon fill=\"black\" stroke=\"black\" points=\"529.73,-82.57 538.95,-77.36 528.49,-75.68 529.73,-82.57\"/>\n",
              "</g>\n",
              "<!-- 4557433184 -->\n",
              "<g id=\"node4\" class=\"node\">\n",
              "<title>4557433184</title>\n",
              "<polygon fill=\"none\" stroke=\"black\" points=\"0,-0.5 0,-36.5 188.25,-36.5 188.25,-0.5 0,-0.5\"/>\n",
              "<text text-anchor=\"middle\" x=\"11.38\" y=\"-13.7\" font-family=\"Times,serif\" font-size=\"14.00\">b</text>\n",
              "<polyline fill=\"none\" stroke=\"black\" points=\"22.75,-1 22.75,-36.5\"/>\n",
              "<text text-anchor=\"middle\" x=\"64.88\" y=\"-13.7\" font-family=\"Times,serif\" font-size=\"14.00\">data &#45;3.0000</text>\n",
              "<polyline fill=\"none\" stroke=\"black\" points=\"107,-1 107,-36.5\"/>\n",
              "<text text-anchor=\"middle\" x=\"147.62\" y=\"-13.7\" font-family=\"Times,serif\" font-size=\"14.00\">grad 0.0000</text>\n",
              "</g>\n",
              "<!-- 4557433184&#45;&gt;4557437408* -->\n",
              "<g id=\"edge9\" class=\"edge\">\n",
              "<title>4557433184&#45;&gt;4557437408*</title>\n",
              "<path fill=\"none\" stroke=\"black\" d=\"M188.49,-34.75C197.27,-36.28 205.77,-37.76 213.51,-39.1\"/>\n",
              "<polygon fill=\"black\" stroke=\"black\" points=\"212.66,-42.51 223.11,-40.78 213.86,-35.61 212.66,-42.51\"/>\n",
              "</g>\n",
              "<!-- 4557438848 -->\n",
              "<g id=\"node5\" class=\"node\">\n",
              "<title>4557438848</title>\n",
              "<polygon fill=\"none\" stroke=\"black\" points=\"631.12,-54.5 631.12,-90.5 814.88,-90.5 814.88,-54.5 631.12,-54.5\"/>\n",
              "<text text-anchor=\"middle\" x=\"642.5\" y=\"-67.7\" font-family=\"Times,serif\" font-size=\"14.00\">d</text>\n",
              "<polyline fill=\"none\" stroke=\"black\" points=\"653.88,-55 653.88,-90.5\"/>\n",
              "<text text-anchor=\"middle\" x=\"693.75\" y=\"-67.7\" font-family=\"Times,serif\" font-size=\"14.00\">data 4.0000</text>\n",
              "<polyline fill=\"none\" stroke=\"black\" points=\"733.62,-55 733.62,-90.5\"/>\n",
              "<text text-anchor=\"middle\" x=\"774.25\" y=\"-67.7\" font-family=\"Times,serif\" font-size=\"14.00\">grad 0.0000</text>\n",
              "</g>\n",
              "<!-- 4557438848&#45;&gt;4557438896* -->\n",
              "<g id=\"edge8\" class=\"edge\">\n",
              "<title>4557438848&#45;&gt;4557438896*</title>\n",
              "<path fill=\"none\" stroke=\"black\" d=\"M815.36,-88.52C824.5,-90.12 833.36,-91.67 841.4,-93.08\"/>\n",
              "<polygon fill=\"black\" stroke=\"black\" points=\"840.58,-96.49 851.04,-94.77 841.79,-89.6 840.58,-96.49\"/>\n",
              "</g>\n",
              "<!-- 4557438848+&#45;&gt;4557438848 -->\n",
              "<g id=\"edge1\" class=\"edge\">\n",
              "<title>4557438848+&#45;&gt;4557438848</title>\n",
              "<path fill=\"none\" stroke=\"black\" d=\"M594.47,-72.5C601.87,-72.5 610.38,-72.5 619.43,-72.5\"/>\n",
              "<polygon fill=\"black\" stroke=\"black\" points=\"619.17,-76 629.17,-72.5 619.17,-69 619.17,-76\"/>\n",
              "</g>\n",
              "<!-- 4557438896 -->\n",
              "<g id=\"node7\" class=\"node\">\n",
              "<title>4557438896</title>\n",
              "<polygon fill=\"none\" stroke=\"black\" points=\"942,-81.5 942,-117.5 1131.75,-117.5 1131.75,-81.5 942,-81.5\"/>\n",
              "<text text-anchor=\"middle\" x=\"954.12\" y=\"-94.7\" font-family=\"Times,serif\" font-size=\"14.00\">L</text>\n",
              "<polyline fill=\"none\" stroke=\"black\" points=\"966.25,-82 966.25,-117.5\"/>\n",
              "<text text-anchor=\"middle\" x=\"1008.38\" y=\"-94.7\" font-family=\"Times,serif\" font-size=\"14.00\">data &#45;8.0000</text>\n",
              "<polyline fill=\"none\" stroke=\"black\" points=\"1050.5,-82 1050.5,-117.5\"/>\n",
              "<text text-anchor=\"middle\" x=\"1091.12\" y=\"-94.7\" font-family=\"Times,serif\" font-size=\"14.00\">grad 0.0000</text>\n",
              "</g>\n",
              "<!-- 4557438896*&#45;&gt;4557438896 -->\n",
              "<g id=\"edge2\" class=\"edge\">\n",
              "<title>4557438896*&#45;&gt;4557438896</title>\n",
              "<path fill=\"none\" stroke=\"black\" d=\"M906.44,-99.5C913.59,-99.5 921.78,-99.5 930.49,-99.5\"/>\n",
              "<polygon fill=\"black\" stroke=\"black\" points=\"930.26,-103 940.26,-99.5 930.26,-96 930.26,-103\"/>\n",
              "</g>\n",
              "<!-- 4557437408 -->\n",
              "<g id=\"node9\" class=\"node\">\n",
              "<title>4557437408</title>\n",
              "<polygon fill=\"none\" stroke=\"black\" points=\"315.38,-27.5 315.38,-63.5 502.88,-63.5 502.88,-27.5 315.38,-27.5\"/>\n",
              "<text text-anchor=\"middle\" x=\"326.38\" y=\"-40.7\" font-family=\"Times,serif\" font-size=\"14.00\">e</text>\n",
              "<polyline fill=\"none\" stroke=\"black\" points=\"337.38,-28 337.38,-63.5\"/>\n",
              "<text text-anchor=\"middle\" x=\"379.5\" y=\"-40.7\" font-family=\"Times,serif\" font-size=\"14.00\">data &#45;6.0000</text>\n",
              "<polyline fill=\"none\" stroke=\"black\" points=\"421.62,-28 421.62,-63.5\"/>\n",
              "<text text-anchor=\"middle\" x=\"462.25\" y=\"-40.7\" font-family=\"Times,serif\" font-size=\"14.00\">grad 0.0000</text>\n",
              "</g>\n",
              "<!-- 4557437408&#45;&gt;4557438848+ -->\n",
              "<g id=\"edge6\" class=\"edge\">\n",
              "<title>4557437408&#45;&gt;4557438848+</title>\n",
              "<path fill=\"none\" stroke=\"black\" d=\"M503.05,-61.6C512.25,-63.19 521.16,-64.73 529.24,-66.13\"/>\n",
              "<polygon fill=\"black\" stroke=\"black\" points=\"528.48,-69.55 538.93,-67.81 529.68,-62.66 528.48,-69.55\"/>\n",
              "</g>\n",
              "<!-- 4557437408*&#45;&gt;4557437408 -->\n",
              "<g id=\"edge3\" class=\"edge\">\n",
              "<title>4557437408*&#45;&gt;4557437408</title>\n",
              "<path fill=\"none\" stroke=\"black\" d=\"M278.69,-45.5C286.1,-45.5 294.64,-45.5 303.71,-45.5\"/>\n",
              "<polygon fill=\"black\" stroke=\"black\" points=\"303.51,-49 313.51,-45.5 303.51,-42 303.51,-49\"/>\n",
              "</g>\n",
              "</g>\n",
              "</svg>\n"
            ],
            "text/plain": [
              "<graphviz.graphs.Digraph at 0x10fa5dbb0>"
            ]
          },
          "execution_count": 44,
          "metadata": {},
          "output_type": "execute_result"
        }
      ],
      "source": [
        "draw_dot(L)"
      ]
    },
    {
      "cell_type": "markdown",
      "metadata": {},
      "source": [
        "Notice all the gradients are zero.\n",
        "\n",
        "#### Back-Propagation\n",
        "\n",
        "We now calculate the gradients for L w.r.t. each of its priors starting with L itself. Since we are calculating the gradients starting with L going backward, this process is called back-propagation\n",
        "\n",
        "Lets now, step-by-step calculate gradients (or derivatives) of L w.r.t. each of its priors, including itself (L, f, d, e, c, b, a):"
      ]
    },
    {
      "cell_type": "markdown",
      "metadata": {},
      "source": [
        "First we calculate gradient for L (w.r.t. L or itself) - i.e. if L is tweaked by a tiny amount h - how much does L change? ($dL/dL$ which we expect to be 1)\n",
        "\n",
        "Lets use the code below to verify."
      ]
    },
    {
      "cell_type": "code",
      "execution_count": 58,
      "metadata": {
        "id": "Apm20tGwj3Pe"
      },
      "outputs": [
        {
          "name": "stdout",
          "output_type": "stream",
          "text": [
            "gradient for L with respect to L (itself) = 0.9999999999976694\n"
          ]
        }
      ],
      "source": [
        "h = 0.0001\n",
        "    \n",
        "a = Value(2.0, label='a')\n",
        "b = Value(-3.0, label='b')\n",
        "c = Value(10.0, label='c')\n",
        "e = a*b; e.label='e'\n",
        "d = e + c; d.label='d'\n",
        "f = Value(-2.0, label='f')\n",
        "L = d*f; L.label='L'\n",
        "L1 = L.data\n",
        "\n",
        "a = Value(2.0, label='a')\n",
        "b = Value(-3.0, label='b')\n",
        "c = Value(10.0, label='c')\n",
        "e = a*b; e.label='e'\n",
        "d = e + c; d.label='d'\n",
        "f = Value(-2.0, label='f')\n",
        "L = d*f; L.label='L'\n",
        "L2 = L.data + h\n",
        "\n",
        "print(\"gradient for L with respect to L (itself) =\", (L2 - L1)/h)"
      ]
    },
    {
      "cell_type": "markdown",
      "metadata": {},
      "source": [
        "Now we calculate gradient for L (w.r.t. d) - i.e. if d is tweaked by a tiny amount h - how much does L change? ($dL/dd$)\n",
        "\n",
        "$L = d*f$\n",
        "\n",
        "$dL/dd = ?$\n",
        "\n",
        "$derivative = \\frac{f(x+h) - f(x)}{h}$\n",
        "\n",
        "$dL/dd = ((d+h)*f - d*f)/h = (d*f + h*f -d*f)/h = (h*f)/h = f$\n",
        "\n",
        "Therefore\n",
        "\n",
        "$dL/dd  = f = -2.0$\n",
        "\n",
        "Similarily\n",
        "\n",
        "$dL/df = d = 4.0$\n",
        "\n",
        "We can verify by incrementing d or f by h and calculating gradient"
      ]
    },
    {
      "cell_type": "code",
      "execution_count": 51,
      "metadata": {},
      "outputs": [
        {
          "name": "stdout",
          "output_type": "stream",
          "text": [
            "value of f =  -2.0\n",
            "gradient for L with respect to d = -1.9999999999953388\n"
          ]
        }
      ],
      "source": [
        "h = 0.0001\n",
        "  \n",
        "a = Value(2.0, label='a')\n",
        "b = Value(-3.0, label='b')\n",
        "c = Value(10.0, label='c')\n",
        "e = a*b; e.label='e'\n",
        "d = e + c; d.label='d'\n",
        "f = Value(-2.0, label='f')\n",
        "print (\"value of f = \", f.data)\n",
        "L = d*f; L.label='L'\n",
        "L1 = L.data\n",
        "\n",
        "a = Value(2.0, label='a')\n",
        "b = Value(-3.0, label='b')\n",
        "c = Value(10.0, label='c')\n",
        "e = a*b; e.label='e'\n",
        "d = (e + c); d.label='d'\n",
        "d2 = Value(d.data + h, 'd2')\n",
        "f = Value(-2.0, label='f')\n",
        "L = d2*f; L.label='L'\n",
        "L2 = L.data\n",
        "\n",
        "print(\"gradient for L with respect to d =\", (L2 - L1)/h)"
      ]
    },
    {
      "cell_type": "code",
      "execution_count": 53,
      "metadata": {},
      "outputs": [
        {
          "name": "stdout",
          "output_type": "stream",
          "text": [
            "value of d =  4.0\n",
            "gradient for L with respect to f = 3.9999999999995595\n"
          ]
        }
      ],
      "source": [
        "h = 0.0001\n",
        "  \n",
        "a = Value(2.0, label='a')\n",
        "b = Value(-3.0, label='b')\n",
        "c = Value(10.0, label='c')\n",
        "e = a*b; e.label='e'\n",
        "d = e + c; d.label='d'\n",
        "print (\"value of d = \", d.data)\n",
        "f = Value(-2.0, label='f')\n",
        "L = d*f; L.label='L'\n",
        "L1 = L.data\n",
        "\n",
        "a = Value(2.0, label='a')\n",
        "b = Value(-3.0, label='b')\n",
        "c = Value(10.0, label='c')\n",
        "e = a*b; e.label='e'\n",
        "d = (e + c); d.label='d'\n",
        "f2 = Value(-2.0 + h, label='f2')\n",
        "L = d*f2; L.label='L'\n",
        "L2 = L.data\n",
        "\n",
        "print(\"gradient for L with respect to f =\", (L2 - L1)/h)"
      ]
    },
    {
      "cell_type": "markdown",
      "metadata": {},
      "source": [
        "Now we come to the MOST IMPORTANT piece of backpropogation and neural nets below\n",
        "\n",
        "The gradient for L w.r.t. c or e\n",
        "\n",
        "L is sensitive to d which in turn is sensitive to c and e\n",
        "\n",
        "We already know $dl/dd$\n",
        "\n",
        "So what is $dd/dc$\n",
        "\n",
        "$d = c + e$\n",
        "\n",
        "$derivative = \\frac{f(x+h) - f(x)}{h}$\n",
        "\n",
        "$dd/dc = (((c + h) + e) - (c + e))/h = (c + h + e - c - e)/h = h/h = 1$\n",
        "\n",
        "similarily by symmetery \n",
        "\n",
        "$dd/de = 1.0$\n",
        "\n",
        "Now using [chain rule](https://en.wikipedia.org/wiki/Chain_rule)\n",
        "\n",
        "if a variable \"z\" depends on variable \"y\" which in turn depends on variable \"x\"\n",
        "\n",
        "i.e. y and z are dependent variables, then \"z\" depends on x as well\n",
        "\n",
        "the chain rule is expressed as \n",
        "\n",
        "$$dz/dx = dz/dy * dy/dx$$\n",
        "\n",
        "Therefore \n",
        "\n",
        "$$dL/dc = dL/dd * dd/dc = -2.0 * 1.0 = -2.0$$\n",
        "\n",
        "and by symmetry \n",
        "\n",
        "$$dL/de = dL/dd * dd/de = -2.0 * 1.0 = -2.0$$\n",
        "\n",
        "So in the case of our \"+\" - we observe that it simply routes the grad of the next layer backward\n",
        "\n",
        "In this case, it routes the grad of \"d\" back to \"c\" and \"d\" - as d is dependent on each of them\n",
        "\n",
        "Lets verify using our code"
      ]
    },
    {
      "cell_type": "code",
      "execution_count": 54,
      "metadata": {},
      "outputs": [
        {
          "name": "stdout",
          "output_type": "stream",
          "text": [
            "value of d =  4.0\n",
            "gradient for L with respect to c = -1.9999999999953388\n"
          ]
        }
      ],
      "source": [
        "h = 0.0001\n",
        "  \n",
        "a = Value(2.0, label='a')\n",
        "b = Value(-3.0, label='b')\n",
        "c = Value(10.0, label='c')\n",
        "e = a*b; e.label='e'\n",
        "d = e + c; d.label='d'\n",
        "print (\"value of d = \", d.data)\n",
        "f = Value(-2.0, label='f')\n",
        "L = d*f; L.label='L'\n",
        "L1 = L.data\n",
        "\n",
        "a = Value(2.0, label='a')\n",
        "b = Value(-3.0, label='b')\n",
        "c = Value(10.0, label='c')\n",
        "c2 = Value(c.data + h)\n",
        "e = a*b; e.label='e'\n",
        "d = (e + c2); d.label='d'\n",
        "L = d*f; L.label='L'\n",
        "L2 = L.data\n",
        "\n",
        "print(\"gradient for L with respect to c =\", (L2 - L1)/h)"
      ]
    },
    {
      "cell_type": "code",
      "execution_count": 55,
      "metadata": {},
      "outputs": [
        {
          "name": "stdout",
          "output_type": "stream",
          "text": [
            "value of d =  4.0\n",
            "gradient for L with respect to e = -1.9999999999953388\n"
          ]
        }
      ],
      "source": [
        "h = 0.0001\n",
        "  \n",
        "a = Value(2.0, label='a')\n",
        "b = Value(-3.0, label='b')\n",
        "c = Value(10.0, label='c')\n",
        "e = a*b; e.label='e'\n",
        "d = e + c; d.label='d'\n",
        "print (\"value of d = \", d.data)\n",
        "f = Value(-2.0, label='f')\n",
        "L = d*f; L.label='L'\n",
        "L1 = L.data\n",
        "\n",
        "a = Value(2.0, label='a')\n",
        "b = Value(-3.0, label='b')\n",
        "c = Value(10.0, label='c')\n",
        "e = a*b; e.label='e'\n",
        "e2 = Value(e.data + h)\n",
        "d = (e2 + c); d.label='d'\n",
        "L = d*f; L.label='L'\n",
        "L2 = L.data\n",
        "\n",
        "print(\"gradient for L with respect to e =\", (L2 - L1)/h)"
      ]
    },
    {
      "cell_type": "markdown",
      "metadata": {},
      "source": [
        "Now finally lets figure out $dL/da$ and $dL/db$\n",
        "\n",
        "$$dL/da = dL/de * de/da$$\n",
        "\n",
        "note that \n",
        "$$e = a*b$$ \n",
        "therefore \n",
        "\n",
        "$$de/da = b = -3.0$$\n",
        "\n",
        "therefore \n",
        "\n",
        "$$dL/da = -2.0 * -3.0 = 6.0$$\n",
        "\n",
        "similarily \n",
        "\n",
        "$$dL/db = dL/de * de/db = -2.0 * 2.0 = -4.0$$"
      ]
    },
    {
      "cell_type": "code",
      "execution_count": 56,
      "metadata": {},
      "outputs": [
        {
          "name": "stdout",
          "output_type": "stream",
          "text": [
            "value of d =  4.0\n",
            "gradient for L with respect to b = -4.000000000008441\n"
          ]
        }
      ],
      "source": [
        "h = 0.0001\n",
        "  \n",
        "a = Value(2.0, label='a')\n",
        "b = Value(-3.0, label='b')\n",
        "c = Value(10.0, label='c')\n",
        "e = a*b; e.label='e'\n",
        "d = e + c; d.label='d'\n",
        "print (\"value of d = \", d.data)\n",
        "f = Value(-2.0, label='f')\n",
        "L = d*f; L.label='L'\n",
        "L1 = L.data\n",
        "\n",
        "a = Value(2.0, label='a')\n",
        "b = Value(-3.0, label='b')\n",
        "b2 = Value(b.data + h)\n",
        "c = Value(10.0, label='c')\n",
        "e = a*b2; e.label='e'\n",
        "d = (e + c); d.label='d'\n",
        "L = d*f; L.label='L'\n",
        "L2 = L.data\n",
        "\n",
        "print(\"gradient for L with respect to b =\", (L2 - L1)/h)"
      ]
    },
    {
      "cell_type": "code",
      "execution_count": 57,
      "metadata": {},
      "outputs": [
        {
          "name": "stdout",
          "output_type": "stream",
          "text": [
            "value of d =  4.0\n",
            "gradient for L with respect to b = 6.000000000021544\n"
          ]
        }
      ],
      "source": [
        "h = 0.0001\n",
        "  \n",
        "a = Value(2.0, label='a')\n",
        "b = Value(-3.0, label='b')\n",
        "c = Value(10.0, label='c')\n",
        "e = a*b; e.label='e'\n",
        "d = e + c; d.label='d'\n",
        "print (\"value of d = \", d.data)\n",
        "f = Value(-2.0, label='f')\n",
        "L = d*f; L.label='L'\n",
        "L1 = L.data\n",
        "\n",
        "a = Value(2.0, label='a')\n",
        "a2 = Value(a.data + h)\n",
        "b = Value(-3.0, label='b')\n",
        "c = Value(10.0, label='c')\n",
        "e = a2*b; e.label='e'\n",
        "d = (e + c); d.label='d'\n",
        "L = d*f; L.label='L'\n",
        "L2 = L.data\n",
        "\n",
        "print(\"gradient for L with respect to b =\", (L2 - L1)/h)"
      ]
    },
    {
      "cell_type": "markdown",
      "metadata": {},
      "source": [
        "So we see that backpropagation is a RECURSIVE application of chain rule.\n",
        "\n",
        "You keep multiplying the local derivative (grad) with the full derivative of the node ahead of it!!!\n",
        "\n",
        "So now we have manually calculated our gradients for L w.r.t. each of its priors, including itself (L, f, d, e, c, b, a). i.e. Back-Propagation"
      ]
    },
    {
      "cell_type": "code",
      "execution_count": 60,
      "metadata": {},
      "outputs": [],
      "source": [
        "L.grad = 1.0\n",
        "d.grad = -2.0\n",
        "f.grad = 4.0\n",
        "c.grad = -2.0\n",
        "e.grad = -2.0\n",
        "a.grad = 6.0\n",
        "b.grad = -4.0"
      ]
    },
    {
      "cell_type": "markdown",
      "metadata": {},
      "source": [
        "Lets now re-output our graph of the equation"
      ]
    },
    {
      "cell_type": "code",
      "execution_count": 61,
      "metadata": {},
      "outputs": [
        {
          "data": {
            "image/svg+xml": [
              "<?xml version=\"1.0\" encoding=\"UTF-8\" standalone=\"no\"?>\n",
              "<!DOCTYPE svg PUBLIC \"-//W3C//DTD SVG 1.1//EN\"\n",
              " \"http://www.w3.org/Graphics/SVG/1.1/DTD/svg11.dtd\">\n",
              "<!-- Generated by graphviz version 12.1.1 (20240910.0053)\n",
              " -->\n",
              "<!-- Pages: 1 -->\n",
              "<svg width=\"1151pt\" height=\"128pt\"\n",
              " viewBox=\"0.00 0.00 1151.00 128.00\" xmlns=\"http://www.w3.org/2000/svg\" xmlns:xlink=\"http://www.w3.org/1999/xlink\">\n",
              "<g id=\"graph0\" class=\"graph\" transform=\"scale(1 1) rotate(0) translate(4 124)\">\n",
              "<polygon fill=\"white\" stroke=\"none\" points=\"-4,4 -4,-124 1147,-124 1147,4 -4,4\"/>\n",
              "<!-- 4557436928 -->\n",
              "<g id=\"node1\" class=\"node\">\n",
              "<title>4557436928</title>\n",
              "<polygon fill=\"none\" stroke=\"black\" points=\"640.12,-82.5 640.12,-118.5 826.12,-118.5 826.12,-82.5 640.12,-82.5\"/>\n",
              "<text text-anchor=\"middle\" x=\"650.38\" y=\"-95.7\" font-family=\"Times,serif\" font-size=\"14.00\">f</text>\n",
              "<polyline fill=\"none\" stroke=\"black\" points=\"660.62,-83 660.62,-118.5\"/>\n",
              "<text text-anchor=\"middle\" x=\"702.75\" y=\"-95.7\" font-family=\"Times,serif\" font-size=\"14.00\">data &#45;2.0000</text>\n",
              "<polyline fill=\"none\" stroke=\"black\" points=\"744.88,-83 744.88,-118.5\"/>\n",
              "<text text-anchor=\"middle\" x=\"785.5\" y=\"-95.7\" font-family=\"Times,serif\" font-size=\"14.00\">grad 4.0000</text>\n",
              "</g>\n",
              "<!-- 4557438320* -->\n",
              "<g id=\"node9\" class=\"node\">\n",
              "<title>4557438320*</title>\n",
              "<ellipse fill=\"none\" stroke=\"black\" cx=\"890.25\" cy=\"-72.5\" rx=\"27\" ry=\"18\"/>\n",
              "<text text-anchor=\"middle\" x=\"890.25\" y=\"-67.45\" font-family=\"Times,serif\" font-size=\"14.00\">*</text>\n",
              "</g>\n",
              "<!-- 4557436928&#45;&gt;4557438320* -->\n",
              "<g id=\"edge4\" class=\"edge\">\n",
              "<title>4557436928&#45;&gt;4557438320*</title>\n",
              "<path fill=\"none\" stroke=\"black\" d=\"M826.6,-83.81C835.76,-82.16 844.62,-80.56 852.67,-79.1\"/>\n",
              "<polygon fill=\"black\" stroke=\"black\" points=\"853.09,-82.58 862.31,-77.36 851.84,-75.7 853.09,-82.58\"/>\n",
              "</g>\n",
              "<!-- 4557353568 -->\n",
              "<g id=\"node2\" class=\"node\">\n",
              "<title>4557353568</title>\n",
              "<polygon fill=\"none\" stroke=\"black\" points=\"319.88,-55.5 319.88,-91.5 511.88,-91.5 511.88,-55.5 319.88,-55.5\"/>\n",
              "<text text-anchor=\"middle\" x=\"330.88\" y=\"-68.7\" font-family=\"Times,serif\" font-size=\"14.00\">e</text>\n",
              "<polyline fill=\"none\" stroke=\"black\" points=\"341.88,-56 341.88,-91.5\"/>\n",
              "<text text-anchor=\"middle\" x=\"384\" y=\"-68.7\" font-family=\"Times,serif\" font-size=\"14.00\">data &#45;6.0000</text>\n",
              "<polyline fill=\"none\" stroke=\"black\" points=\"426.12,-56 426.12,-91.5\"/>\n",
              "<text text-anchor=\"middle\" x=\"469\" y=\"-68.7\" font-family=\"Times,serif\" font-size=\"14.00\">grad &#45;2.0000</text>\n",
              "</g>\n",
              "<!-- 4557429344+ -->\n",
              "<g id=\"node5\" class=\"node\">\n",
              "<title>4557429344+</title>\n",
              "<ellipse fill=\"none\" stroke=\"black\" cx=\"576\" cy=\"-45.5\" rx=\"27\" ry=\"18\"/>\n",
              "<text text-anchor=\"middle\" x=\"576\" y=\"-40.45\" font-family=\"Times,serif\" font-size=\"14.00\">+</text>\n",
              "</g>\n",
              "<!-- 4557353568&#45;&gt;4557429344+ -->\n",
              "<g id=\"edge9\" class=\"edge\">\n",
              "<title>4557353568&#45;&gt;4557429344+</title>\n",
              "<path fill=\"none\" stroke=\"black\" d=\"M512.05,-56.65C521.28,-55.01 530.2,-53.43 538.29,-52\"/>\n",
              "<polygon fill=\"black\" stroke=\"black\" points=\"538.74,-55.47 547.98,-50.28 537.52,-48.58 538.74,-55.47\"/>\n",
              "</g>\n",
              "<!-- 4557353568* -->\n",
              "<g id=\"node3\" class=\"node\">\n",
              "<title>4557353568*</title>\n",
              "<ellipse fill=\"none\" stroke=\"black\" cx=\"255.75\" cy=\"-73.5\" rx=\"27\" ry=\"18\"/>\n",
              "<text text-anchor=\"middle\" x=\"255.75\" y=\"-68.45\" font-family=\"Times,serif\" font-size=\"14.00\">*</text>\n",
              "</g>\n",
              "<!-- 4557353568*&#45;&gt;4557353568 -->\n",
              "<g id=\"edge1\" class=\"edge\">\n",
              "<title>4557353568*&#45;&gt;4557353568</title>\n",
              "<path fill=\"none\" stroke=\"black\" d=\"M283.22,-73.5C290.59,-73.5 299.09,-73.5 308.13,-73.5\"/>\n",
              "<polygon fill=\"black\" stroke=\"black\" points=\"307.89,-77 317.89,-73.5 307.89,-70 307.89,-77\"/>\n",
              "</g>\n",
              "<!-- 4557429344 -->\n",
              "<g id=\"node4\" class=\"node\">\n",
              "<title>4557429344</title>\n",
              "<polygon fill=\"none\" stroke=\"black\" points=\"639,-27.5 639,-63.5 827.25,-63.5 827.25,-27.5 639,-27.5\"/>\n",
              "<text text-anchor=\"middle\" x=\"650.38\" y=\"-40.7\" font-family=\"Times,serif\" font-size=\"14.00\">d</text>\n",
              "<polyline fill=\"none\" stroke=\"black\" points=\"661.75,-28 661.75,-63.5\"/>\n",
              "<text text-anchor=\"middle\" x=\"701.62\" y=\"-40.7\" font-family=\"Times,serif\" font-size=\"14.00\">data 4.0000</text>\n",
              "<polyline fill=\"none\" stroke=\"black\" points=\"741.5,-28 741.5,-63.5\"/>\n",
              "<text text-anchor=\"middle\" x=\"784.38\" y=\"-40.7\" font-family=\"Times,serif\" font-size=\"14.00\">grad &#45;2.0000</text>\n",
              "</g>\n",
              "<!-- 4557429344&#45;&gt;4557438320* -->\n",
              "<g id=\"edge7\" class=\"edge\">\n",
              "<title>4557429344&#45;&gt;4557438320*</title>\n",
              "<path fill=\"none\" stroke=\"black\" d=\"M827.49,-61.75C836.27,-63.28 844.77,-64.76 852.51,-66.1\"/>\n",
              "<polygon fill=\"black\" stroke=\"black\" points=\"851.66,-69.51 862.11,-67.78 852.86,-62.61 851.66,-69.51\"/>\n",
              "</g>\n",
              "<!-- 4557429344+&#45;&gt;4557429344 -->\n",
              "<g id=\"edge2\" class=\"edge\">\n",
              "<title>4557429344+&#45;&gt;4557429344</title>\n",
              "<path fill=\"none\" stroke=\"black\" d=\"M603.31,-45.5C610.49,-45.5 618.72,-45.5 627.47,-45.5\"/>\n",
              "<polygon fill=\"black\" stroke=\"black\" points=\"627.29,-49 637.29,-45.5 627.29,-42 627.29,-49\"/>\n",
              "</g>\n",
              "<!-- 4556447888 -->\n",
              "<g id=\"node6\" class=\"node\">\n",
              "<title>4556447888</title>\n",
              "<polygon fill=\"none\" stroke=\"black\" points=\"4.88,-83.5 4.88,-119.5 187.88,-119.5 187.88,-83.5 4.88,-83.5\"/>\n",
              "<text text-anchor=\"middle\" x=\"15.88\" y=\"-96.7\" font-family=\"Times,serif\" font-size=\"14.00\">a</text>\n",
              "<polyline fill=\"none\" stroke=\"black\" points=\"26.88,-84 26.88,-119.5\"/>\n",
              "<text text-anchor=\"middle\" x=\"66.75\" y=\"-96.7\" font-family=\"Times,serif\" font-size=\"14.00\">data 2.0000</text>\n",
              "<polyline fill=\"none\" stroke=\"black\" points=\"106.62,-84 106.62,-119.5\"/>\n",
              "<text text-anchor=\"middle\" x=\"147.25\" y=\"-96.7\" font-family=\"Times,serif\" font-size=\"14.00\">grad 6.0000</text>\n",
              "</g>\n",
              "<!-- 4556447888&#45;&gt;4557353568* -->\n",
              "<g id=\"edge8\" class=\"edge\">\n",
              "<title>4556447888&#45;&gt;4557353568*</title>\n",
              "<path fill=\"none\" stroke=\"black\" d=\"M188.01,-85.37C198.67,-83.48 209.04,-81.63 218.3,-79.99\"/>\n",
              "<polygon fill=\"black\" stroke=\"black\" points=\"218.65,-83.48 227.88,-78.28 217.42,-76.59 218.65,-83.48\"/>\n",
              "</g>\n",
              "<!-- 4557354336 -->\n",
              "<g id=\"node7\" class=\"node\">\n",
              "<title>4557354336</title>\n",
              "<polygon fill=\"none\" stroke=\"black\" points=\"318.75,-0.5 318.75,-36.5 513,-36.5 513,-0.5 318.75,-0.5\"/>\n",
              "<text text-anchor=\"middle\" x=\"329.75\" y=\"-13.7\" font-family=\"Times,serif\" font-size=\"14.00\">c</text>\n",
              "<polyline fill=\"none\" stroke=\"black\" points=\"340.75,-1 340.75,-36.5\"/>\n",
              "<text text-anchor=\"middle\" x=\"384\" y=\"-13.7\" font-family=\"Times,serif\" font-size=\"14.00\">data 10.0000</text>\n",
              "<polyline fill=\"none\" stroke=\"black\" points=\"427.25,-1 427.25,-36.5\"/>\n",
              "<text text-anchor=\"middle\" x=\"470.12\" y=\"-13.7\" font-family=\"Times,serif\" font-size=\"14.00\">grad &#45;2.0000</text>\n",
              "</g>\n",
              "<!-- 4557354336&#45;&gt;4557429344+ -->\n",
              "<g id=\"edge6\" class=\"edge\">\n",
              "<title>4557354336&#45;&gt;4557429344+</title>\n",
              "<path fill=\"none\" stroke=\"black\" d=\"M513.41,-34.98C522.1,-36.47 530.5,-37.9 538.15,-39.21\"/>\n",
              "<polygon fill=\"black\" stroke=\"black\" points=\"537.55,-42.66 548,-40.89 538.73,-35.76 537.55,-42.66\"/>\n",
              "</g>\n",
              "<!-- 4557438320 -->\n",
              "<g id=\"node8\" class=\"node\">\n",
              "<title>4557438320</title>\n",
              "<polygon fill=\"none\" stroke=\"black\" points=\"953.25,-54.5 953.25,-90.5 1143,-90.5 1143,-54.5 953.25,-54.5\"/>\n",
              "<text text-anchor=\"middle\" x=\"965.38\" y=\"-67.7\" font-family=\"Times,serif\" font-size=\"14.00\">L</text>\n",
              "<polyline fill=\"none\" stroke=\"black\" points=\"977.5,-55 977.5,-90.5\"/>\n",
              "<text text-anchor=\"middle\" x=\"1019.62\" y=\"-67.7\" font-family=\"Times,serif\" font-size=\"14.00\">data &#45;8.0000</text>\n",
              "<polyline fill=\"none\" stroke=\"black\" points=\"1061.75,-55 1061.75,-90.5\"/>\n",
              "<text text-anchor=\"middle\" x=\"1102.38\" y=\"-67.7\" font-family=\"Times,serif\" font-size=\"14.00\">grad 1.0000</text>\n",
              "</g>\n",
              "<!-- 4557438320*&#45;&gt;4557438320 -->\n",
              "<g id=\"edge3\" class=\"edge\">\n",
              "<title>4557438320*&#45;&gt;4557438320</title>\n",
              "<path fill=\"none\" stroke=\"black\" d=\"M917.69,-72.5C924.84,-72.5 933.03,-72.5 941.74,-72.5\"/>\n",
              "<polygon fill=\"black\" stroke=\"black\" points=\"941.51,-76 951.51,-72.5 941.51,-69 941.51,-76\"/>\n",
              "</g>\n",
              "<!-- 4555233696 -->\n",
              "<g id=\"node10\" class=\"node\">\n",
              "<title>4555233696</title>\n",
              "<polygon fill=\"none\" stroke=\"black\" points=\"0,-28.5 0,-64.5 192.75,-64.5 192.75,-28.5 0,-28.5\"/>\n",
              "<text text-anchor=\"middle\" x=\"11.38\" y=\"-41.7\" font-family=\"Times,serif\" font-size=\"14.00\">b</text>\n",
              "<polyline fill=\"none\" stroke=\"black\" points=\"22.75,-29 22.75,-64.5\"/>\n",
              "<text text-anchor=\"middle\" x=\"64.88\" y=\"-41.7\" font-family=\"Times,serif\" font-size=\"14.00\">data &#45;3.0000</text>\n",
              "<polyline fill=\"none\" stroke=\"black\" points=\"107,-29 107,-64.5\"/>\n",
              "<text text-anchor=\"middle\" x=\"149.88\" y=\"-41.7\" font-family=\"Times,serif\" font-size=\"14.00\">grad &#45;4.0000</text>\n",
              "</g>\n",
              "<!-- 4555233696&#45;&gt;4557353568* -->\n",
              "<g id=\"edge5\" class=\"edge\">\n",
              "<title>4555233696&#45;&gt;4557353568*</title>\n",
              "<path fill=\"none\" stroke=\"black\" d=\"M193,-62.91C201.81,-64.42 210.32,-65.88 218.06,-67.2\"/>\n",
              "<polygon fill=\"black\" stroke=\"black\" points=\"217.21,-70.61 227.66,-68.85 218.4,-63.71 217.21,-70.61\"/>\n",
              "</g>\n",
              "</g>\n",
              "</svg>\n"
            ],
            "text/plain": [
              "<graphviz.graphs.Digraph at 0x10faa3800>"
            ]
          },
          "execution_count": 61,
          "metadata": {},
          "output_type": "execute_result"
        }
      ],
      "source": [
        "draw_dot(L)"
      ]
    },
    {
      "cell_type": "markdown",
      "metadata": {},
      "source": [
        "This completes our back-propagation of the gradients.\n",
        "\n",
        "### Optimization\n",
        "\n",
        "In order to optimize, we update the variables using the gradient.\n",
        "\n",
        "Lets say for now that our optimization goal is to increase final output (L in our case), i.e., we want L to go up\n",
        "\n",
        "Lets nudge each independent variable in the DAG in the direction of the gradient... we expect\n",
        "gradient of L to down up because of this.  If we wanted to lower L, we could go in the opposite direction of the gradient.\n",
        "\n",
        "Lets start with the leaf nodes (a, b, c, f) that are variable and that we have control over."
      ]
    },
    {
      "cell_type": "code",
      "execution_count": 65,
      "metadata": {
        "colab": {
          "base_uri": "https://localhost:8080/"
        },
        "id": "T3Sp1m0Okvak",
        "outputId": "e7284571-d684-49fb-df3e-e288aaf90793"
      },
      "outputs": [],
      "source": [
        "a.data += 0.01 * a.grad\n",
        "b.data += 0.01 * b.grad\n",
        "c.data += 0.01 * c.grad\n",
        "f.data += 0.01 * f.grad"
      ]
    },
    {
      "cell_type": "markdown",
      "metadata": {},
      "source": [
        "Now we do the forward pass by calculating the rest of the computed nodes all the way to L  (remember the previous value we had for L was 8.0)"
      ]
    },
    {
      "cell_type": "code",
      "execution_count": 63,
      "metadata": {},
      "outputs": [
        {
          "data": {
            "text/plain": [
              "Value(data=-7.286496, grad=0.0)"
            ]
          },
          "execution_count": 63,
          "metadata": {},
          "output_type": "execute_result"
        }
      ],
      "source": [
        "# now do a forward pass\n",
        "e = a * b\n",
        "d = e + c\n",
        "L = d * f\n",
        "\n",
        "L"
      ]
    },
    {
      "cell_type": "markdown",
      "metadata": {},
      "source": [
        "So note that L did increase or go up from -8.0 to -7.3"
      ]
    },
    {
      "cell_type": "markdown",
      "metadata": {},
      "source": [
        "### Back-Propagation through a Neuron\n",
        "\n",
        "Now lets do an example of back-propagation, using a simple Neuron.  \n",
        "\n",
        "Recall the following from our lesson [Introduction to Neural Networks](/nn-intro.pynb)\n",
        "\n",
        "\n",
        "![Mathematical model of a Neuron](https://cs231n.github.io/assets/nn1/neuron_model.jpeg)\n",
        "\n",
        "- Inputs $x_i$: Represented by the arrows entering the neuron.\n",
        "- Weights $w_i$: Associated with each input, indicating the strength of the connection.\n",
        "- Summation $Σ$: The neuron sums all the weighted inputs.\n",
        "- Activation Function $f$: Applied to the weighted sum to produce the output.\n",
        "\n",
        "INPUT: Neuron has multiple synapses or inputs (x).  Each neuron has a weight (w)\n",
        "\n",
        "VALUE: Value of a neuron is sum(w1*x1 + w2*x2 + ... + wn*xn) + b (where b is a bias)\n",
        "\n",
        "OUTPUT: output is f(VALUE) - where f is a squashing function like a tanh\n",
        "\n",
        "Squashing function takes neurons value as input and squashes it to a value between -1 and 1.\n",
        "\n",
        "So if value output by squashing function is > 0 then the neuron fires.. otherwise it does not"
      ]
    },
    {
      "cell_type": "code",
      "execution_count": 66,
      "metadata": {
        "colab": {
          "base_uri": "https://localhost:8080/",
          "height": 430
        },
        "id": "vcZou4_YnJw_",
        "outputId": "5e43f681-5868-4341-9eb7-0bbc5c6fa6ab"
      },
      "outputs": [
        {
          "data": {
            "image/png": "[encoded data removed]",
            "text/plain": [
              "<Figure size 640x480 with 1 Axes>"
            ]
          },
          "metadata": {},
          "output_type": "display_data"
        }
      ],
      "source": [
        "# Example of tanh squashing function\n",
        "plt.plot(np.arange(-5, 5, 0.2), np.tanh(np.arange(-5, 5, 0.2))); plt.grid();"
      ]
    },
    {
      "cell_type": "markdown",
      "metadata": {},
      "source": [
        "So we are going for a simple Neuron with two inputs\n",
        "\n",
        "$$\n",
        "y = w_1 x_1 + w_2 x_2 + \\dots + b\n",
        "$$"
      ]
    },
    {
      "cell_type": "code",
      "execution_count": 67,
      "metadata": {
        "id": "GuC3jMrLoqWp"
      },
      "outputs": [],
      "source": [
        "# Simple example\n",
        "# inputs are x1 and x2\n",
        "x1 = Value(2.0, label = 'x1')\n",
        "x2 = Value(0.0, label = 'x2')\n",
        "# weights are w1 and w2\n",
        "w1 = Value(-3.0, label = 'w1')\n",
        "w2 = Value(1.0, label = 'w2')\n",
        "# bias of the neuron\n",
        "b = Value(6.8813735870195432, label = 'b')  # we randomly chose this (or Andrej did!)\n",
        "x1w1 = x1*w1; x1w1.label = 'x1*w1'\n",
        "x2w2 = x2*w2; x2w2.label = 'x2*w2'\n",
        "# value of neuron\n",
        "x1w1x2w2 = x1w1 + x2w2; x1w1x2w2.label = 'x1*w1 + x2*w2'\n",
        "n = x1w1x2w2 + b; n.label = 'n'\n",
        "# output of neuron (taking it through an activation function)\n",
        "o = n.tanh(); o.label='output'"
      ]
    },
    {
      "cell_type": "code",
      "execution_count": 68,
      "metadata": {
        "colab": {
          "base_uri": "https://localhost:8080/",
          "height": 321
        },
        "id": "3foROE8xtCit",
        "outputId": "c40dda36-2668-4b00-9dbc-5521d919116f"
      },
      "outputs": [
        {
          "data": {
            "image/svg+xml": [
              "<?xml version=\"1.0\" encoding=\"UTF-8\" standalone=\"no\"?>\n",
              "<!DOCTYPE svg PUBLIC \"-//W3C//DTD SVG 1.1//EN\"\n",
              " \"http://www.w3.org/Graphics/SVG/1.1/DTD/svg11.dtd\">\n",
              "<!-- Generated by graphviz version 12.1.1 (20240910.0053)\n",
              " -->\n",
              "<!-- Pages: 1 -->\n",
              "<svg width=\"1504pt\" height=\"210pt\"\n",
              " viewBox=\"0.00 0.00 1504.25 210.00\" xmlns=\"http://www.w3.org/2000/svg\" xmlns:xlink=\"http://www.w3.org/1999/xlink\">\n",
              "<g id=\"graph0\" class=\"graph\" transform=\"scale(1 1) rotate(0) translate(4 206)\">\n",
              "<polygon fill=\"white\" stroke=\"none\" points=\"-4,4 -4,-206 1500.25,-206 1500.25,4 -4,4\"/>\n",
              "<!-- 4558780464 -->\n",
              "<g id=\"node1\" class=\"node\">\n",
              "<title>4558780464</title>\n",
              "<polygon fill=\"none\" stroke=\"black\" points=\"326.25,-55.5 326.25,-91.5 540,-91.5 540,-55.5 326.25,-55.5\"/>\n",
              "<text text-anchor=\"middle\" x=\"352.62\" y=\"-68.7\" font-family=\"Times,serif\" font-size=\"14.00\">x2*w2</text>\n",
              "<polyline fill=\"none\" stroke=\"black\" points=\"379,-56 379,-91.5\"/>\n",
              "<text text-anchor=\"middle\" x=\"418.88\" y=\"-68.7\" font-family=\"Times,serif\" font-size=\"14.00\">data 0.0000</text>\n",
              "<polyline fill=\"none\" stroke=\"black\" points=\"458.75,-56 458.75,-91.5\"/>\n",
              "<text text-anchor=\"middle\" x=\"499.38\" y=\"-68.7\" font-family=\"Times,serif\" font-size=\"14.00\">grad 0.0000</text>\n",
              "</g>\n",
              "<!-- 4558780992+ -->\n",
              "<g id=\"node4\" class=\"node\">\n",
              "<title>4558780992+</title>\n",
              "<ellipse fill=\"none\" stroke=\"black\" cx=\"605.25\" cy=\"-100.5\" rx=\"27\" ry=\"18\"/>\n",
              "<text text-anchor=\"middle\" x=\"605.25\" y=\"-95.45\" font-family=\"Times,serif\" font-size=\"14.00\">+</text>\n",
              "</g>\n",
              "<!-- 4558780464&#45;&gt;4558780992+ -->\n",
              "<g id=\"edge10\" class=\"edge\">\n",
              "<title>4558780464&#45;&gt;4558780992+</title>\n",
              "<path fill=\"none\" stroke=\"black\" d=\"M540.42,-90.37C549.89,-91.87 559,-93.32 567.21,-94.62\"/>\n",
              "<polygon fill=\"black\" stroke=\"black\" points=\"566.63,-98.07 577.05,-96.18 567.72,-91.16 566.63,-98.07\"/>\n",
              "</g>\n",
              "<!-- 4558780464* -->\n",
              "<g id=\"node2\" class=\"node\">\n",
              "<title>4558780464*</title>\n",
              "<ellipse fill=\"none\" stroke=\"black\" cx=\"261\" cy=\"-73.5\" rx=\"27\" ry=\"18\"/>\n",
              "<text text-anchor=\"middle\" x=\"261\" y=\"-68.45\" font-family=\"Times,serif\" font-size=\"14.00\">*</text>\n",
              "</g>\n",
              "<!-- 4558780464*&#45;&gt;4558780464 -->\n",
              "<g id=\"edge1\" class=\"edge\">\n",
              "<title>4558780464*&#45;&gt;4558780464</title>\n",
              "<path fill=\"none\" stroke=\"black\" d=\"M288.21,-73.5C296,-73.5 305.08,-73.5 314.82,-73.5\"/>\n",
              "<polygon fill=\"black\" stroke=\"black\" points=\"314.55,-77 324.55,-73.5 314.55,-70 314.55,-77\"/>\n",
              "</g>\n",
              "<!-- 4558780992 -->\n",
              "<g id=\"node3\" class=\"node\">\n",
              "<title>4558780992</title>\n",
              "<polygon fill=\"none\" stroke=\"black\" points=\"668.25,-82.5 668.25,-118.5 939,-118.5 939,-82.5 668.25,-82.5\"/>\n",
              "<text text-anchor=\"middle\" x=\"720.88\" y=\"-95.7\" font-family=\"Times,serif\" font-size=\"14.00\">x1*w1 + x2*w2</text>\n",
              "<polyline fill=\"none\" stroke=\"black\" points=\"773.5,-83 773.5,-118.5\"/>\n",
              "<text text-anchor=\"middle\" x=\"815.62\" y=\"-95.7\" font-family=\"Times,serif\" font-size=\"14.00\">data &#45;6.0000</text>\n",
              "<polyline fill=\"none\" stroke=\"black\" points=\"857.75,-83 857.75,-118.5\"/>\n",
              "<text text-anchor=\"middle\" x=\"898.38\" y=\"-95.7\" font-family=\"Times,serif\" font-size=\"14.00\">grad 0.0000</text>\n",
              "</g>\n",
              "<!-- 4557776192+ -->\n",
              "<g id=\"node7\" class=\"node\">\n",
              "<title>4557776192+</title>\n",
              "<ellipse fill=\"none\" stroke=\"black\" cx=\"1002\" cy=\"-127.5\" rx=\"27\" ry=\"18\"/>\n",
              "<text text-anchor=\"middle\" x=\"1002\" y=\"-122.45\" font-family=\"Times,serif\" font-size=\"14.00\">+</text>\n",
              "</g>\n",
              "<!-- 4558780992&#45;&gt;4557776192+ -->\n",
              "<g id=\"edge12\" class=\"edge\">\n",
              "<title>4558780992&#45;&gt;4557776192+</title>\n",
              "<path fill=\"none\" stroke=\"black\" d=\"M939.14,-118.99C947.95,-120.21 956.31,-121.36 963.87,-122.4\"/>\n",
              "<polygon fill=\"black\" stroke=\"black\" points=\"963.16,-125.83 973.55,-123.73 964.12,-118.9 963.16,-125.83\"/>\n",
              "</g>\n",
              "<!-- 4558780992+&#45;&gt;4558780992 -->\n",
              "<g id=\"edge2\" class=\"edge\">\n",
              "<title>4558780992+&#45;&gt;4558780992</title>\n",
              "<path fill=\"none\" stroke=\"black\" d=\"M632.73,-100.5C639.73,-100.5 647.79,-100.5 656.52,-100.5\"/>\n",
              "<polygon fill=\"black\" stroke=\"black\" points=\"656.39,-104 666.39,-100.5 656.39,-97 656.39,-104\"/>\n",
              "</g>\n",
              "<!-- 4557522128 -->\n",
              "<g id=\"node5\" class=\"node\">\n",
              "<title>4557522128</title>\n",
              "<polygon fill=\"none\" stroke=\"black\" points=\"3.75,-55.5 3.75,-91.5 194.25,-91.5 194.25,-55.5 3.75,-55.5\"/>\n",
              "<text text-anchor=\"middle\" x=\"18.5\" y=\"-68.7\" font-family=\"Times,serif\" font-size=\"14.00\">x2</text>\n",
              "<polyline fill=\"none\" stroke=\"black\" points=\"33.25,-56 33.25,-91.5\"/>\n",
              "<text text-anchor=\"middle\" x=\"73.12\" y=\"-68.7\" font-family=\"Times,serif\" font-size=\"14.00\">data 0.0000</text>\n",
              "<polyline fill=\"none\" stroke=\"black\" points=\"113,-56 113,-91.5\"/>\n",
              "<text text-anchor=\"middle\" x=\"153.62\" y=\"-68.7\" font-family=\"Times,serif\" font-size=\"14.00\">grad 0.0000</text>\n",
              "</g>\n",
              "<!-- 4557522128&#45;&gt;4558780464* -->\n",
              "<g id=\"edge13\" class=\"edge\">\n",
              "<title>4557522128&#45;&gt;4558780464*</title>\n",
              "<path fill=\"none\" stroke=\"black\" d=\"M194.46,-73.5C204.21,-73.5 213.66,-73.5 222.21,-73.5\"/>\n",
              "<polygon fill=\"black\" stroke=\"black\" points=\"222.12,-77 232.12,-73.5 222.12,-70 222.12,-77\"/>\n",
              "</g>\n",
              "<!-- 4557776192 -->\n",
              "<g id=\"node6\" class=\"node\">\n",
              "<title>4557776192</title>\n",
              "<polygon fill=\"none\" stroke=\"black\" points=\"1065,-109.5 1065,-145.5 1248.75,-145.5 1248.75,-109.5 1065,-109.5\"/>\n",
              "<text text-anchor=\"middle\" x=\"1076.38\" y=\"-122.7\" font-family=\"Times,serif\" font-size=\"14.00\">n</text>\n",
              "<polyline fill=\"none\" stroke=\"black\" points=\"1087.75,-110 1087.75,-145.5\"/>\n",
              "<text text-anchor=\"middle\" x=\"1127.62\" y=\"-122.7\" font-family=\"Times,serif\" font-size=\"14.00\">data 0.8814</text>\n",
              "<polyline fill=\"none\" stroke=\"black\" points=\"1167.5,-110 1167.5,-145.5\"/>\n",
              "<text text-anchor=\"middle\" x=\"1208.12\" y=\"-122.7\" font-family=\"Times,serif\" font-size=\"14.00\">grad 0.0000</text>\n",
              "</g>\n",
              "<!-- 4557781328 -->\n",
              "<g id=\"node8\" class=\"node\">\n",
              "<title>4557781328</title>\n",
              "<polygon fill=\"none\" stroke=\"black\" points=\"1284.75,-109.5 1284.75,-145.5 1496.25,-145.5 1496.25,-109.5 1284.75,-109.5\"/>\n",
              "<text text-anchor=\"middle\" x=\"1310\" y=\"-122.7\" font-family=\"Times,serif\" font-size=\"14.00\">output</text>\n",
              "<polyline fill=\"none\" stroke=\"black\" points=\"1335.25,-110 1335.25,-145.5\"/>\n",
              "<text text-anchor=\"middle\" x=\"1375.12\" y=\"-122.7\" font-family=\"Times,serif\" font-size=\"14.00\">data 0.7071</text>\n",
              "<polyline fill=\"none\" stroke=\"black\" points=\"1415,-110 1415,-145.5\"/>\n",
              "<text text-anchor=\"middle\" x=\"1455.62\" y=\"-122.7\" font-family=\"Times,serif\" font-size=\"14.00\">grad 0.0000</text>\n",
              "</g>\n",
              "<!-- 4557776192&#45;&gt;4557781328 -->\n",
              "<g id=\"edge11\" class=\"edge\">\n",
              "<title>4557776192&#45;&gt;4557781328</title>\n",
              "<path fill=\"none\" stroke=\"black\" d=\"M1249.09,-127.5C1257,-127.5 1265.08,-127.5 1273.16,-127.5\"/>\n",
              "<polygon fill=\"black\" stroke=\"black\" points=\"1273.06,-131 1283.06,-127.5 1273.06,-124 1273.06,-131\"/>\n",
              "</g>\n",
              "<!-- 4557776192+&#45;&gt;4557776192 -->\n",
              "<g id=\"edge3\" class=\"edge\">\n",
              "<title>4557776192+&#45;&gt;4557776192</title>\n",
              "<path fill=\"none\" stroke=\"black\" d=\"M1029.28,-127.5C1036.42,-127.5 1044.61,-127.5 1053.32,-127.5\"/>\n",
              "<polygon fill=\"black\" stroke=\"black\" points=\"1053.06,-131 1063.06,-127.5 1053.06,-124 1053.06,-131\"/>\n",
              "</g>\n",
              "<!-- 4557533552 -->\n",
              "<g id=\"node9\" class=\"node\">\n",
              "<title>4557533552</title>\n",
              "<polygon fill=\"none\" stroke=\"black\" points=\"3.75,-165.5 3.75,-201.5 194.25,-201.5 194.25,-165.5 3.75,-165.5\"/>\n",
              "<text text-anchor=\"middle\" x=\"18.5\" y=\"-178.7\" font-family=\"Times,serif\" font-size=\"14.00\">x1</text>\n",
              "<polyline fill=\"none\" stroke=\"black\" points=\"33.25,-166 33.25,-201.5\"/>\n",
              "<text text-anchor=\"middle\" x=\"73.12\" y=\"-178.7\" font-family=\"Times,serif\" font-size=\"14.00\">data 2.0000</text>\n",
              "<polyline fill=\"none\" stroke=\"black\" points=\"113,-166 113,-201.5\"/>\n",
              "<text text-anchor=\"middle\" x=\"153.62\" y=\"-178.7\" font-family=\"Times,serif\" font-size=\"14.00\">grad 0.0000</text>\n",
              "</g>\n",
              "<!-- 4558767552* -->\n",
              "<g id=\"node12\" class=\"node\">\n",
              "<title>4558767552*</title>\n",
              "<ellipse fill=\"none\" stroke=\"black\" cx=\"261\" cy=\"-128.5\" rx=\"27\" ry=\"18\"/>\n",
              "<text text-anchor=\"middle\" x=\"261\" y=\"-123.45\" font-family=\"Times,serif\" font-size=\"14.00\">*</text>\n",
              "</g>\n",
              "<!-- 4557533552&#45;&gt;4558767552* -->\n",
              "<g id=\"edge5\" class=\"edge\">\n",
              "<title>4557533552&#45;&gt;4558767552*</title>\n",
              "<path fill=\"none\" stroke=\"black\" d=\"M172.12,-165.01C180.9,-162.35 189.7,-159.5 198,-156.5 208.09,-152.86 218.82,-148.27 228.47,-143.88\"/>\n",
              "<polygon fill=\"black\" stroke=\"black\" points=\"229.86,-147.09 237.45,-139.69 226.9,-140.75 229.86,-147.09\"/>\n",
              "</g>\n",
              "<!-- 4553884064 -->\n",
              "<g id=\"node10\" class=\"node\">\n",
              "<title>4553884064</title>\n",
              "<polygon fill=\"none\" stroke=\"black\" points=\"711.75,-137.5 711.75,-173.5 895.5,-173.5 895.5,-137.5 711.75,-137.5\"/>\n",
              "<text text-anchor=\"middle\" x=\"723.12\" y=\"-150.7\" font-family=\"Times,serif\" font-size=\"14.00\">b</text>\n",
              "<polyline fill=\"none\" stroke=\"black\" points=\"734.5,-138 734.5,-173.5\"/>\n",
              "<text text-anchor=\"middle\" x=\"774.38\" y=\"-150.7\" font-family=\"Times,serif\" font-size=\"14.00\">data 6.8814</text>\n",
              "<polyline fill=\"none\" stroke=\"black\" points=\"814.25,-138 814.25,-173.5\"/>\n",
              "<text text-anchor=\"middle\" x=\"854.88\" y=\"-150.7\" font-family=\"Times,serif\" font-size=\"14.00\">grad 0.0000</text>\n",
              "</g>\n",
              "<!-- 4553884064&#45;&gt;4557776192+ -->\n",
              "<g id=\"edge6\" class=\"edge\">\n",
              "<title>4553884064&#45;&gt;4557776192+</title>\n",
              "<path fill=\"none\" stroke=\"black\" d=\"M895.91,-142.48C919.97,-139.05 944.58,-135.55 963.93,-132.79\"/>\n",
              "<polygon fill=\"black\" stroke=\"black\" points=\"964.34,-136.26 973.75,-131.39 963.35,-129.33 964.34,-136.26\"/>\n",
              "</g>\n",
              "<!-- 4558767552 -->\n",
              "<g id=\"node11\" class=\"node\">\n",
              "<title>4558767552</title>\n",
              "<polygon fill=\"none\" stroke=\"black\" points=\"324,-110.5 324,-146.5 542.25,-146.5 542.25,-110.5 324,-110.5\"/>\n",
              "<text text-anchor=\"middle\" x=\"350.38\" y=\"-123.7\" font-family=\"Times,serif\" font-size=\"14.00\">x1*w1</text>\n",
              "<polyline fill=\"none\" stroke=\"black\" points=\"376.75,-111 376.75,-146.5\"/>\n",
              "<text text-anchor=\"middle\" x=\"418.88\" y=\"-123.7\" font-family=\"Times,serif\" font-size=\"14.00\">data &#45;6.0000</text>\n",
              "<polyline fill=\"none\" stroke=\"black\" points=\"461,-111 461,-146.5\"/>\n",
              "<text text-anchor=\"middle\" x=\"501.62\" y=\"-123.7\" font-family=\"Times,serif\" font-size=\"14.00\">grad 0.0000</text>\n",
              "</g>\n",
              "<!-- 4558767552&#45;&gt;4558780992+ -->\n",
              "<g id=\"edge9\" class=\"edge\">\n",
              "<title>4558767552&#45;&gt;4558780992+</title>\n",
              "<path fill=\"none\" stroke=\"black\" d=\"M542.35,-110.69C551.12,-109.24 559.54,-107.86 567.19,-106.6\"/>\n",
              "<polygon fill=\"black\" stroke=\"black\" points=\"567.72,-110.06 577.02,-104.98 566.58,-103.15 567.72,-110.06\"/>\n",
              "</g>\n",
              "<!-- 4558767552*&#45;&gt;4558767552 -->\n",
              "<g id=\"edge4\" class=\"edge\">\n",
              "<title>4558767552*&#45;&gt;4558767552</title>\n",
              "<path fill=\"none\" stroke=\"black\" d=\"M288.21,-128.5C295.29,-128.5 303.43,-128.5 312.17,-128.5\"/>\n",
              "<polygon fill=\"black\" stroke=\"black\" points=\"312.01,-132 322.01,-128.5 312.01,-125 312.01,-132\"/>\n",
              "</g>\n",
              "<!-- 4553893328 -->\n",
              "<g id=\"node13\" class=\"node\">\n",
              "<title>4553893328</title>\n",
              "<polygon fill=\"none\" stroke=\"black\" points=\"2.25,-0.5 2.25,-36.5 195.75,-36.5 195.75,-0.5 2.25,-0.5\"/>\n",
              "<text text-anchor=\"middle\" x=\"18.5\" y=\"-13.7\" font-family=\"Times,serif\" font-size=\"14.00\">w2</text>\n",
              "<polyline fill=\"none\" stroke=\"black\" points=\"34.75,-1 34.75,-36.5\"/>\n",
              "<text text-anchor=\"middle\" x=\"74.62\" y=\"-13.7\" font-family=\"Times,serif\" font-size=\"14.00\">data 1.0000</text>\n",
              "<polyline fill=\"none\" stroke=\"black\" points=\"114.5,-1 114.5,-36.5\"/>\n",
              "<text text-anchor=\"middle\" x=\"155.12\" y=\"-13.7\" font-family=\"Times,serif\" font-size=\"14.00\">grad 0.0000</text>\n",
              "</g>\n",
              "<!-- 4553893328&#45;&gt;4558780464* -->\n",
              "<g id=\"edge8\" class=\"edge\">\n",
              "<title>4553893328&#45;&gt;4558780464*</title>\n",
              "<path fill=\"none\" stroke=\"black\" d=\"M168.91,-36.94C178.74,-39.93 188.67,-43.15 198,-46.5 207.96,-50.07 218.58,-54.47 228.18,-58.68\"/>\n",
              "<polygon fill=\"black\" stroke=\"black\" points=\"226.54,-61.78 237.1,-62.67 229.4,-55.39 226.54,-61.78\"/>\n",
              "</g>\n",
              "<!-- 4557534176 -->\n",
              "<g id=\"node14\" class=\"node\">\n",
              "<title>4557534176</title>\n",
              "<polygon fill=\"none\" stroke=\"black\" points=\"0,-110.5 0,-146.5 198,-146.5 198,-110.5 0,-110.5\"/>\n",
              "<text text-anchor=\"middle\" x=\"16.25\" y=\"-123.7\" font-family=\"Times,serif\" font-size=\"14.00\">w1</text>\n",
              "<polyline fill=\"none\" stroke=\"black\" points=\"32.5,-111 32.5,-146.5\"/>\n",
              "<text text-anchor=\"middle\" x=\"74.62\" y=\"-123.7\" font-family=\"Times,serif\" font-size=\"14.00\">data &#45;3.0000</text>\n",
              "<polyline fill=\"none\" stroke=\"black\" points=\"116.75,-111 116.75,-146.5\"/>\n",
              "<text text-anchor=\"middle\" x=\"157.38\" y=\"-123.7\" font-family=\"Times,serif\" font-size=\"14.00\">grad 0.0000</text>\n",
              "</g>\n",
              "<!-- 4557534176&#45;&gt;4558767552* -->\n",
              "<g id=\"edge7\" class=\"edge\">\n",
              "<title>4557534176&#45;&gt;4558767552*</title>\n",
              "<path fill=\"none\" stroke=\"black\" d=\"M198.14,-128.5C206.61,-128.5 214.8,-128.5 222.29,-128.5\"/>\n",
              "<polygon fill=\"black\" stroke=\"black\" points=\"222.29,-132 232.29,-128.5 222.29,-125 222.29,-132\"/>\n",
              "</g>\n",
              "</g>\n",
              "</svg>\n"
            ],
            "text/plain": [
              "<graphviz.graphs.Digraph at 0x10f64e1b0>"
            ]
          },
          "execution_count": 68,
          "metadata": {},
          "output_type": "execute_result"
        }
      ],
      "source": [
        "draw_dot(o)"
      ]
    },
    {
      "cell_type": "code",
      "execution_count": 69,
      "metadata": {
        "id": "U-DTVwjRs-_6"
      },
      "outputs": [],
      "source": [
        "o.grad = 1.0"
      ]
    },
    {
      "cell_type": "code",
      "execution_count": 70,
      "metadata": {
        "colab": {
          "base_uri": "https://localhost:8080/"
        },
        "id": "ttXAHJR0tJJZ",
        "outputId": "7975a7fa-febc-4d5c-980d-12584cea3181"
      },
      "outputs": [
        {
          "data": {
            "text/plain": [
              "0.4999999999999999"
            ]
          },
          "execution_count": 70,
          "metadata": {},
          "output_type": "execute_result"
        }
      ],
      "source": [
        "# o = tanh(n)\n",
        "# do/dn = 1 - (tanh(n))**2 = 1 - (o)**2\n",
        "1 - (o.data)**2\n",
        "# do/dn = 0.5"
      ]
    },
    {
      "cell_type": "code",
      "execution_count": 71,
      "metadata": {
        "id": "1eYZtG2htmz1"
      },
      "outputs": [],
      "source": [
        "n.grad = 0.\n",
        "# since n is connected to x1w1x2w2 and b via a plus node\n",
        "x1w1x2w2.grad = 0.5\n",
        "b.grad = 0.5\n",
        "# similarily\n",
        "x1w1.grad = 0.5\n",
        "x2w2.grad = 0.5\n",
        "# since x1w1 is connected to x1 and w1 via multiplication\n",
        "x1.grad = w1.data * x1w1.grad\n",
        "w1.grad = x1.data * x1w1.grad\n",
        "# since x2w2 is connected to x2 and w2 via multiplication\n",
        "x2.grad = w2.data * x2w2.grad\n",
        "w2.grad = x2.data * x2w2.grad\n"
      ]
    },
    {
      "cell_type": "code",
      "execution_count": null,
      "metadata": {
        "id": "JkRSZFp-uBV5"
      },
      "outputs": [],
      "source": []
    }
  ],
  "metadata": {
    "colab": {
      "provenance": []
    },
    "kernelspec": {
      "display_name": "Python 3",
      "name": "python3"
    },
    "language_info": {
      "codemirror_mode": {
        "name": "ipython",
        "version": 3
      },
      "file_extension": ".py",
      "mimetype": "text/x-python",
      "name": "python",
      "nbconvert_exporter": "python",
      "pygments_lexer": "ipython3",
      "version": "3.12.1"
    }
  },
  "nbformat": 4,
  "nbformat_minor": 0
}
