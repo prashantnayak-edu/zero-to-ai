{
 "cells": [
  {
   "cell_type": "markdown",
   "metadata": {},
   "source": [
    "## Functions, Derivatives and Gradients\n",
    "\n",
    "In this lesson, we will discuss the absolute fundamentals of linear algebra that apply to machine learning and AI"
   ]
  },
  {
   "cell_type": "markdown",
   "metadata": {},
   "source": [
    "### Functions\n",
    "\n",
    "A function is a relationship between elements $x$ of a set $X$ and elements $y$ of another set $Y$.\n",
    "\n",
    "The set $X$ is formally called the **domain** of the function.\n",
    "\n",
    "The set $Y$ is formally called the **co-domain** of the function\n",
    "\n",
    "A function has a name. Typically the name used is $f$.\n",
    "\n",
    "Given the name $f$, the relationship beetween $x$ and %y$ is expressed as\n",
    "\n",
    "$$\n",
    "f - y(x)\n",
    "$$\n",
    "\n",
    "Notes:\n",
    "  - the equation above is read $y$ is equal to $f$ of $x$\n",
    "  - $x$ is the *input* or *variable* of the function\n",
    "  - $y$ is the *ouput* or *value* of the function"
   ]
  },
  {
   "cell_type": "code",
   "execution_count": null,
   "metadata": {
    "vscode": {
     "languageId": "plaintext"
    }
   },
   "outputs": [],
   "source": [
    "import math\n",
    "import numpy as np\n",
    "import matplotlib.pyplot as plt\n",
    "%matplotlib inline"
   ]
  },
  {
   "cell_type": "code",
   "execution_count": null,
   "metadata": {
    "vscode": {
     "languageId": "plaintext"
    }
   },
   "outputs": [],
   "source": []
  },
  {
   "cell_type": "markdown",
   "metadata": {},
   "source": [
    "The graph above displays a function of a single variable $x$. It is a smooth function that varies (i.e. has a value of $y$) that varies betwen -3 and 3.\n",
    "\n",
    "#### Local Minimum\n",
    "\n",
    "\n",
    "#### Global Minimum\n",
    "\n",
    "\n",
    "#### Vector Function"
   ]
  }
 ],
 "metadata": {
  "language_info": {
   "name": "python"
  }
 },
 "nbformat": 4,
 "nbformat_minor": 2
}
