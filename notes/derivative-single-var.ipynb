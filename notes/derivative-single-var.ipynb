{
 "cells": [
  {
   "cell_type": "markdown",
   "metadata": {},
   "source": [
    "Derivative of a function with a single variable\n",
    "\n",
    "The goal is to get a good intuitive understanding of what a derviative is.  Here we start with the derivative of a function of a single variable.\n",
    "\n",
    "Lets define a scalar value function that takes a single scalar (variable) x and returns a scalar y.\n",
    "\n",
    "y = f(x)\n",
    "\n",
    "where f(x) = 3x^2 - 4x + 5\n",
    "\n",
    "So if we wrote this function out, it would look like:\n",
    "\n",
    "y = 3x^2 - 4x + 5"
   ]
  },
  {
   "cell_type": "code",
   "execution_count": null,
   "metadata": {},
   "outputs": [
    {
     "ename": "",
     "evalue": "",
     "output_type": "error",
     "traceback": [
      "\u001b[1;31mRunning cells with 'Python 3.12.1' requires the ipykernel package.\n",
      "\u001b[1;31mRun the following command to install 'ipykernel' into the Python environment. \n",
      "\u001b[1;31mCommand: '/opt/homebrew/bin/python3.12 -m pip install ipykernel -U --user --force-reinstall'"
     ]
    }
   ],
   "source": [
    "import math\n",
    "import numpy as numpy\n",
    "import matplotlib.pyplot as pyplot\n",
    "%matplotlib inline"
   ]
  }
 ],
 "metadata": {
  "kernelspec": {
   "display_name": "Python 3",
   "language": "python",
   "name": "python3"
  },
  "language_info": {
   "name": "python",
   "version": "3.12.1"
  }
 },
 "nbformat": 4,
 "nbformat_minor": 2
}
