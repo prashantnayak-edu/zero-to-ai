{
 "cells": [
  {
   "cell_type": "markdown",
   "metadata": {},
   "source": [
    "## Derivative of a Function with Two Variables\n",
    "\n",
    "In this lesson, we will extend the concept of derivatives to functions with two variables. The derivative of a function with multiple variables is called a **partial derivative**. Instead of finding how a function changes with respect to just one variable, we now see how the function changes with respect to **each** variable individually, while keeping the others constant.\n",
    "\n",
    "### Definition of Partial Derivatives\n",
    "\n",
    "If we have a function \\( f(x, y) \\), the **partial derivative** of \\( f \\) with respect to \\( x \\) (denoted \n",
    "\n",
    "$$\n",
    "\\frac{\\partial f}{\\partial x}\n",
    "$$\n",
    "\n",
    "measures how \\( f \\) changes as we vary \\( x \\) while keeping \\( y \\) constant. \n",
    "\n",
    "Similarly, the partial derivative with respect to \\( y \\) (denoted \n",
    "\n",
    "$$\n",
    "\\frac{\\partial f}{\\partial y}\n",
    "$$\n",
    "\n",
    "measures how \\( f \\) changes as we vary \\( y \\) while keeping \\( x \\) constant.\n",
    "\n",
    "#### Example: \n",
    "\n",
    "Let's take the function:\n",
    "\n",
    "$$ f(x, y) = x^2 + 3xy + y^2 $$\n",
    "\n",
    "##### Finding the Partial Derivatives:\n",
    "\n",
    "1. To find the partial derivative with respect to \\( x \\), treat \\( y \\) as a constant and differentiate with respect to \\( x \\):\n",
    "\n",
    "$$ \\frac{\\partial f}{\\partial x} = 2x + 3y $$\n",
    "\n",
    "2. To find the partial derivative with respect to \\( y \\), treat \\( x \\) as a constant and differentiate with respect to \\( y \\):\n",
    "\n",
    "$$ \\frac{\\partial f}{\\partial y} = 3x + 2y $$\n",
    "\n",
    "These partial derivatives tell us how \\( f(x, y) \\) changes with respect to changes in \\( x \\) and \\( y \\) individually.\n",
    "\n",
    "##### Python Code for Partial Derivatives\n",
    "\n",
    "We can use Python to compute the partial derivatives of a function. Below is some Python code to calculate the partial derivatives of the function \\( f(x, y) = x^2 + 3xy + y^2 \\) at a specific point."
   ]
  },
  {
   "cell_type": "code",
   "execution_count": 3,
   "metadata": {},
   "outputs": [
    {
     "data": {
      "text/plain": [
       "(13.000010000041582, 12.00001000007944)"
      ]
     },
     "execution_count": 3,
     "metadata": {},
     "output_type": "execute_result"
    }
   ],
   "source": [
    "# Define the function\n",
    "def f(x, y):\n",
    "    return x**2 + 3*x*y + y**2\n",
    "\n",
    "# Define the finite difference method to approximate partial derivatives\n",
    "def partial_derivative_x(f, x, y, h=1e-5):\n",
    "    return (f(x + h, y) - f(x, y)) / h\n",
    "\n",
    "def partial_derivative_y(f, x, y, h=1e-5):\n",
    "    return (f(x, y + h) - f(x, y)) / h\n",
    "\n",
    "# Example point (x, y)\n",
    "x_val = 2\n",
    "y_val = 3\n",
    "\n",
    "# Calculate partial derivatives at (2, 3)\n",
    "df_dx = partial_derivative_x(f, x_val, y_val)\n",
    "df_dy = partial_derivative_y(f, x_val, y_val)\n",
    "\n",
    "df_dx, df_dy"
   ]
  },
  {
   "cell_type": "markdown",
   "metadata": {},
   "source": [
    "### Explanation of Code:\n",
    "\n",
    "- The function \\( f(x, y) \\) represents our mathematical function \\( f(x, y) = x^2 + 3xy + y^2 \\).\n",
    "- The functions `partial_derivative_x` and `partial_derivative_y` use finite differences to approximate the partial derivatives with respect to \\( x \\) and \\( y \\).\n",
    "- We evaluate the partial derivatives at \\( x = 2 \\) and \\( y = 3 \\).\n",
    "\n",
    "As we learnt in the lesson [Introduction to Functions, Derivatives and Gradients](/notes/func-der-grad.ipynb), the vector of partial derivatives is called the *gradient*. In our case, it is like a map that tells us that at the point (2,3) the function is increasing the fastest in the direction of the $df/dx$ with a value of 13.\n",
    "\n",
    "\n",
    "### Intuition on Partial Derivatives: Hiking on a 3D Terrain\n",
    "\n",
    "Imagine you are hiking on a 3D terrain where the height of the terrain at each point is given by the function \\( f(x, y) \\). The two directions you can move in are along the \\( x \\)-axis (say, east-west) and the \\( y \\)-axis (say, north-south).\n",
    "\n",
    "- **Partial Derivative with Respect to \\( x \\)**: If you only walk east-west (changing \\( x \\) while keeping \\( y \\) constant), the partial derivative \\( \\frac{\\partial f}{\\partial x} \\) tells you how the height (function value) changes as you move in that direction.\n",
    "- **Partial Derivative with Respect to \\( y \\)**: If you only walk north-south (changing \\( y \\) while keeping \\( x \\) constant), the partial derivative \\( \\frac{\\partial f}{\\partial y} \\) tells you how the height changes as you move in that direction.\n",
    "\n",
    "Together, these partial derivatives provide insight into how the terrain changes in different directions, helping you decide which way to move to either climb uphill or find a flat area (where both partial derivatives are zero).\n",
    "\n",
    "\n",
    "### Summary:\n",
    "\n",
    "- A **partial derivative** is the derivative of a multivariable function with respect to one variable, keeping the others constant.\n",
    "- For a function \\( f(x, y) \\), we compute \\( \\frac{\\partial f}{\\partial x} \\) and \\( \\frac{\\partial f}{\\partial y} \\) to see how the function changes in the \\( x \\)- and \\( y \\)-directions, respectively.\n",
    "- In the context of hiking on a 3D terrain, partial derivatives tell us the slope of the hill in different directions."
   ]
  }
 ],
 "metadata": {
  "kernelspec": {
   "display_name": "venv",
   "language": "python",
   "name": "python3"
  },
  "language_info": {
   "codemirror_mode": {
    "name": "ipython",
    "version": 3
   },
   "file_extension": ".py",
   "mimetype": "text/x-python",
   "name": "python",
   "nbconvert_exporter": "python",
   "pygments_lexer": "ipython3",
   "version": "3.12.1"
  }
 },
 "nbformat": 4,
 "nbformat_minor": 2
}
